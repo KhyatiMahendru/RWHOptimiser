{
 "cells": [
  {
   "cell_type": "markdown",
   "metadata": {},
   "source": [
    "## Step 1: Fetch the real world data\n",
    "\n",
    "- DATA FROM JSON TO CSV\n"
   ]
  },
  {
   "cell_type": "code",
   "execution_count": 20,
   "metadata": {},
   "outputs": [],
   "source": [
    "\n",
    "import json\n",
    "import requests\n",
    "import codecs\n",
    "import numpy as np\n",
    "import pandas as pd\n",
    "import sklearn\n",
    "import seaborn as sns\n",
    "import matplotlib.pyplot as plt\n",
    "import random\n",
    "\n",
    "from sklearn.datasets import make_blobs\n",
    "\n",
    "# fetching data from file, parsing the json\n",
    "data = None\n",
    "file = '../data/location1.json'\n",
    "with open(file, \"r\") as read_file:\n",
    "    data = json.load(codecs.open(file, 'r', 'utf-8-sig'))\n",
    "\n",
    "coord = []\n",
    "\n",
    "# preprocessing the data\n",
    "for line in data:\n",
    "    coord.append(line['geometry']['coordinates']) \n",
    "    \n",
    "new = []\n",
    "for line in coord:\n",
    "    for points in line:\n",
    "        new.append(points)\n",
    "        \n",
    "# Isolating the dependencies\n",
    "new_coord = np.unique(np.array(coord),axis=0)\n",
    "new_coord.shape\n",
    "dat = pd.DataFrame(new_coord, columns=['x','y'])\n",
    "dat.to_csv(\"real_housing_data_x_y.csv\")"
   ]
  },
  {
   "cell_type": "markdown",
   "metadata": {},
   "source": [
    "#### Defining our constants and variables"
   ]
  },
  {
   "cell_type": "code",
   "execution_count": 21,
   "metadata": {},
   "outputs": [],
   "source": [
    "# seed for consistent results\n",
    "RANDOM_SEED = 32\n",
    "np.random.seed(RANDOM_SEED)\n",
    "random.seed(RANDOM_SEED)\n",
    "NUM_HOUSES = len(dat)\n",
    "\n",
    "MEAN_DEMAND_WATER_PER_HOUSE = 100 # LITERS\n",
    "VAR_DEMAND_WATER_PER_HOUSE = 50 # LITERS\n",
    "\n",
    "# This can be evaluated using the vision api\n",
    "MEAN_AREA_PER_HOUSE = 100 # METERS SQUARE\n",
    "VAR_AREA_PER_HOUSE = 50 # METERS SQUARE PER HOUSE\n",
    "\n",
    "RAINFALL_ESTIMATE = 100 # mm\n",
    "FC_TANK_PLACEMENT = 10000 # Rs.\n",
    "FIXED_COST_PIPE_PER_METER = 120 # Rs.\n",
    "COST_PER_LITERS_TANK = 500 # Rs."
   ]
  },
  {
   "cell_type": "markdown",
   "metadata": {},
   "source": [
    "## Data to save and feed to algorithm"
   ]
  },
  {
   "cell_type": "code",
   "execution_count": 22,
   "metadata": {},
   "outputs": [],
   "source": [
    "house_data_x = dat['x'].values\n",
    "house_data_y = dat['y'].values\n",
    "\n",
    "# demand\n",
    "demand_per_house = np.array([np.random.normal(loc = MEAN_DEMAND_WATER_PER_HOUSE, scale = VAR_DEMAND_WATER_PER_HOUSE) for i in range(NUM_HOUSES)])\n",
    "\n",
    "#area\n",
    "area_per_house = np.array([np.random.normal(loc = MEAN_AREA_PER_HOUSE, scale = VAR_AREA_PER_HOUSE) for i in range(NUM_HOUSES)])\n",
    "\n",
    "# rainfall estimation\n",
    "rainfall_estimate_for_city =  np.array([RAINFALL_ESTIMATE for i in range(NUM_HOUSES)]) # FLOAT\n",
    "\n",
    "# capacity of the tanks per house (DERIVED)\n",
    "capacity_for_tank_per_house = np.array([area_per_house[i]* RAINFALL_ESTIMATE/1000  for i in range(NUM_HOUSES)])\n",
    "\n",
    "# average_length_of_pipe_per_house\n",
    "average_length_of_pipe_per_house = np.random.normal(loc = 30, scale = 40, size = NUM_HOUSES)\n",
    "\n",
    "# fixed_cost_of_tank_placement_per_house\n",
    "fixed_cost_of_tank_placement_per_house = np.array([FC_TANK_PLACEMENT for i in range(NUM_HOUSES)])\n",
    "\n",
    "# cost_per_liters_tank\n",
    "cost_per_liters_tank_per_house = np.array([COST_PER_LITERS_TANK for i in range(NUM_HOUSES)])\n"
   ]
  },
  {
   "cell_type": "code",
   "execution_count": 23,
   "metadata": {},
   "outputs": [],
   "source": [
    "# print('House_data_x', (house_data_x.shape) )\n",
    "# print('House_data_y', (house_data_y.shape))\n",
    "# print('Demand_per_house', (demand_per_house.shape))\n",
    "# print('Capacity_for_tank_per_house', (capacity_for_tank_per_house.shape))\n",
    "# print('Rainfall_estimate_for_city', (rainfall_estimate_for_city.shape))\n",
    "# print('Average_length_of_pipe_per_house', (average_length_of_pipe_per_house.shape))\n",
    "# print('fixed_cost_of_tank_placement_per_house', (fixed_cost_of_tank_placement_per_house.shape))\n",
    "# print('cost_per_liters_tank_per_house', (cost_per_liters_tank_per_house.shape))\n"
   ]
  },
  {
   "cell_type": "markdown",
   "metadata": {},
   "source": [
    "## A visual representation of our data"
   ]
  },
  {
   "cell_type": "code",
   "execution_count": 24,
   "metadata": {},
   "outputs": [],
   "source": [
    "# sns.scatterplot(house_data_x, house_data_y, hue = house_data_labels)\n",
    "# plt.figure(figsize = (12,12))\n",
    "# plt.scatter(x= house_data_x, y= house_data_y )\n",
    "# plt.xlabel(\"house x\")\n",
    "# plt.ylabel(\"house y\")\n",
    "# plt.show()\n"
   ]
  },
  {
   "cell_type": "code",
   "execution_count": 25,
   "metadata": {},
   "outputs": [],
   "source": [
    "df = pd.DataFrame(data = None, columns = None)\n",
    "df['house_data_x'] = house_data_x\n",
    "df['house_data_y'] = house_data_y\n",
    "df['demand_per_house_liters'] = demand_per_house\n",
    "df['area_per_house_metersq'] = area_per_house\n",
    "df['capacity_for_tank_per_house_lt'] = capacity_for_tank_per_house\n",
    "df['rainfall_estimate_for_city_mm'] = rainfall_estimate_for_city\n",
    "df['average_length_of_pipe_per_house'] = average_length_of_pipe_per_house\n",
    "df['fixed_cost_of_tank_placement_per_house'] = fixed_cost_of_tank_placement_per_house\n",
    "df['cost_per_liters_tank_per_house'] = cost_per_liters_tank_per_house\n",
    "\n",
    "\n",
    "df = df.round(3)\n",
    "# df.head()"
   ]
  },
  {
   "cell_type": "code",
   "execution_count": 26,
   "metadata": {},
   "outputs": [],
   "source": [
    "df.to_csv(\"data.csv\", index= False, header=True)"
   ]
  },
  {
   "cell_type": "markdown",
   "metadata": {},
   "source": [
    "Generating or getting the data for the tanks:\n",
    "\n",
    "- Web App allows us to pip point the map and get the generated data in csv format"
   ]
  },
  {
   "cell_type": "markdown",
   "metadata": {},
   "source": [
    "## Working with the tanks data\n",
    "- Real data\n",
    "- Taken directly from our web app\n"
   ]
  },
  {
   "cell_type": "code",
   "execution_count": null,
   "metadata": {},
   "outputs": [],
   "source": []
  },
  {
   "cell_type": "code",
   "execution_count": 27,
   "metadata": {},
   "outputs": [
    {
     "name": "stdout",
     "output_type": "stream",
     "text": [
      "Column names are Lat, Lng, Id, Address\n"
     ]
    }
   ],
   "source": [
    "import csv\n",
    "\n",
    "tank_data_from_website = []\n",
    "with open('tank_loc_website.csv') as csv_file:\n",
    "    csv_reader = csv.reader(csv_file, delimiter=',')\n",
    "    line_count = 0\n",
    "    for row in csv_reader:\n",
    "        if line_count == 0:\n",
    "            print(f'Column names are {\", \".join(row)}')\n",
    "            line_count += 1\n",
    "        else:\n",
    "            x = row[0]\n",
    "            y = row[1]\n",
    "            tank_data_from_website.append([x,y])\n",
    "            line_count += 1\n",
    "#     print(f'Processed {line_count} lines.')\n",
    "\n",
    "tank_data_from_website = np.array(tank_data_from_website)\n",
    "# print(tank_data_from_website.shape)\n",
    "                  \n",
    "NUM_TANKS = len(tank_data_from_website)\n",
    "\n",
    "tanksdf = pd.DataFrame(data = None, columns = None)\n",
    "tanksdf['tanks_x'] = tank_data_from_website[:,1]\n",
    "tanksdf['tanks_y'] = tank_data_from_website[:,0]\n",
    "tanksdf = tanksdf.round(3)\n",
    "tanksdf.to_csv(\"tanks_loc.csv\", index = False, header = True)\n",
    "\n",
    "\n",
    "                  \n",
    "                  "
   ]
  },
  {
   "cell_type": "markdown",
   "metadata": {},
   "source": [
    "# Solution 1: Clustering"
   ]
  },
  {
   "cell_type": "code",
   "execution_count": 29,
   "metadata": {},
   "outputs": [],
   "source": [
    "tanks = pd.read_csv(\"tanks_loc.csv\")\n",
    "houses = pd.read_csv(\"data.csv\")\n",
    "\n",
    "# print(houses.head(3))\n",
    "# print()\n",
    "# print(tanks.head(3))"
   ]
  },
  {
   "cell_type": "code",
   "execution_count": 30,
   "metadata": {},
   "outputs": [],
   "source": [
    "# defining the variables\n",
    "NUM_TANKS = len(tanks)\n",
    "NUM_HOUSES = len(houses)\n",
    "# print('Number of tanks and houses are: ',NUM_TANKS, NUM_HOUSES )\n",
    "\n",
    "# FOR EVERY HOUSE AND TANK, ASSIGN EVERY HOUSE A NEAREST TANK BASED ON THE CLUSTER\n",
    "\n",
    "# CREATING 2D ARRAY OF TANKS\n",
    "tanks_houses = [[] for j in range(NUM_TANKS)]\n",
    "\n",
    "for i in range(len(houses)):\n",
    "    # LOC OF HOUSE\n",
    "    hx, hy = houses.house_data_x.iloc[i],houses.house_data_y.iloc[i]\n",
    "    min_dist_from_house_to_tank = np.inf\n",
    "    min_dist_tank = None\n",
    "    hx*=1000\n",
    "    hy*=1000\n",
    "    \n",
    "    for j in range(len(tanks)):\n",
    "        # LOC OF TANKS\n",
    "        tx, ty = tanks.tanks_x.iloc[j], tanks.tanks_y.iloc[j]\n",
    "        \n",
    "        # converting lat long to the actual distance based coordinates\n",
    "        # can be optimised\n",
    "        \n",
    "        tx*=1000\n",
    "        ty*=1000\n",
    "        \n",
    "#         print(tx,ty, hx, hy)\n",
    "        # DIST ~ APPROX ~ EUCLIDIAN DISTANCE\n",
    "        dist = np.sqrt( (ty- hy)**2 + (tx- hx)**2)\n",
    "        \n",
    "        if dist<min_dist_from_house_to_tank:\n",
    "            min_dist_from_house_to_tank = dist\n",
    "            min_dist_tank = j\n",
    "            \n",
    "    tanks_houses[min_dist_tank].append(i) # appending the house\n",
    "    \n",
    "# print('houses clustered to tanks')\n",
    "# tank_index = 0\n",
    "# for x in tanks_houses[:]:\n",
    "#     print('Tank index = {0}'.format(tank_index),'\\nhouses:',x)\n",
    "#     print()\n",
    "#     tank_index+=1"
   ]
  },
  {
   "cell_type": "markdown",
   "metadata": {},
   "source": [
    "## Calculating the capacity and where not to place tanks"
   ]
  },
  {
   "cell_type": "code",
   "execution_count": 34,
   "metadata": {},
   "outputs": [],
   "source": [
    "# ASSUMING THE DATA FOR CIJ\n",
    "def calculate_capacity_of_tanks(tanks_houses):\n",
    "    capacity_of_jth_tank = []\n",
    "    for j in range(len(tanks_houses)):\n",
    "        houses_tank = tanks_houses[j]\n",
    "        capacity = np.sum(houses_tank)\n",
    "        capacity_of_jth_tank.append(capacity)\n",
    "    return capacity_of_jth_tank\n",
    "capacity_of_jth_tank= calculate_capacity_of_tanks(tanks_houses)\n",
    "# print('capacity of jth tank(10 tanks here)',capacity_of_jth_tank[:10]) \n",
    "# print()\n",
    "# print()\n",
    "# print('tanks with no capacity(no houses connected) are:', [tank for tank in range(len(capacity_of_jth_tank)) if capacity_of_jth_tank[tank]<=0])\n"
   ]
  },
  {
   "cell_type": "markdown",
   "metadata": {},
   "source": [
    "Main step is to calculate the CIJ,tie the cost of pipe from i'th house to j'th tank\n",
    "\n",
    "- can be optimised\n",
    "- moving forward with the assumptions"
   ]
  },
  {
   "cell_type": "code",
   "execution_count": 35,
   "metadata": {},
   "outputs": [],
   "source": [
    "# CIJ CALCULATION\n",
    "FIXED_COST_OF_PIPES_PER_METER = 120\n",
    "CIJ = [[0 for i in range(NUM_TANKS)] for j in range(NUM_HOUSES)]\n",
    "# print(np.array(CIJ).shape) # TODO\n",
    "\n",
    "for i in range(NUM_HOUSES):\n",
    "    hx, hy = houses.house_data_x.iloc[i],houses.house_data_y.iloc[i]\n",
    "    hx*=1000\n",
    "    hy*=1000\n",
    "    for j in range(NUM_TANKS):\n",
    "        tx, ty = tanks.tanks_x.iloc[j], tanks.tanks_y.iloc[j]\n",
    "        \n",
    "        tx*=1000\n",
    "        ty*=1000\n",
    "        dist = np.sqrt( (ty- hy)**2 + (tx- hx)**2)\n",
    "        \n",
    "        CIJ[i][j]= dist*FIXED_COST_OF_PIPES_PER_METER\n",
    "\n",
    "CIJ = np.array(CIJ)\n"
   ]
  },
  {
   "cell_type": "code",
   "execution_count": 36,
   "metadata": {},
   "outputs": [],
   "source": [
    "cost_of_setting_jth_tank = []\n",
    "for j in range(len(tanks_houses)):\n",
    "    houses_linked_to_tank = tanks_houses[j]\n",
    "    cost = 0\n",
    "    if capacity_of_jth_tank[j] >0: \n",
    "        cost = houses.cost_per_liters_tank_per_house[j]\n",
    "    else :\n",
    "        cost = 0\n",
    "        \n",
    "    for house_index in (houses_linked_to_tank):\n",
    "        cost += CIJ[house_index][j]\n",
    "    \n",
    "    cost_of_setting_jth_tank.append(cost)\n",
    "        \n",
    "# zip(cost_of_setting_jth_tank) # TODO\n"
   ]
  },
  {
   "cell_type": "code",
   "execution_count": 41,
   "metadata": {},
   "outputs": [
    {
     "data": {
      "text/html": [
       "<div>\n",
       "<style scoped>\n",
       "    .dataframe tbody tr th:only-of-type {\n",
       "        vertical-align: middle;\n",
       "    }\n",
       "\n",
       "    .dataframe tbody tr th {\n",
       "        vertical-align: top;\n",
       "    }\n",
       "\n",
       "    .dataframe thead th {\n",
       "        text-align: right;\n",
       "    }\n",
       "</style>\n",
       "<table border=\"1\" class=\"dataframe\">\n",
       "  <thead>\n",
       "    <tr style=\"text-align: right;\">\n",
       "      <th></th>\n",
       "      <th>capacity</th>\n",
       "      <th>cost_of_making</th>\n",
       "      <th>stability</th>\n",
       "      <th>x</th>\n",
       "      <th>y</th>\n",
       "    </tr>\n",
       "  </thead>\n",
       "  <tbody>\n",
       "    <tr>\n",
       "      <th>0</th>\n",
       "      <td>69893.0</td>\n",
       "      <td>287532.357522</td>\n",
       "      <td>1.0</td>\n",
       "      <td>77.216827</td>\n",
       "      <td>28.632629</td>\n",
       "    </tr>\n",
       "    <tr>\n",
       "      <th>1</th>\n",
       "      <td>24800.0</td>\n",
       "      <td>33156.539722</td>\n",
       "      <td>1.0</td>\n",
       "      <td>77.279205</td>\n",
       "      <td>28.617981</td>\n",
       "    </tr>\n",
       "    <tr>\n",
       "      <th>2</th>\n",
       "      <td>5644.0</td>\n",
       "      <td>18051.621525</td>\n",
       "      <td>1.0</td>\n",
       "      <td>77.170906</td>\n",
       "      <td>28.655077</td>\n",
       "    </tr>\n",
       "    <tr>\n",
       "      <th>3</th>\n",
       "      <td>4683.0</td>\n",
       "      <td>17203.990915</td>\n",
       "      <td>1.0</td>\n",
       "      <td>77.205238</td>\n",
       "      <td>28.682152</td>\n",
       "    </tr>\n",
       "    <tr>\n",
       "      <th>4</th>\n",
       "      <td>8099.0</td>\n",
       "      <td>31677.967204</td>\n",
       "      <td>1.0</td>\n",
       "      <td>77.293045</td>\n",
       "      <td>28.698713</td>\n",
       "    </tr>\n",
       "  </tbody>\n",
       "</table>\n",
       "</div>"
      ],
      "text/plain": [
       "   capacity  cost_of_making  stability          x          y\n",
       "0   69893.0   287532.357522        1.0  77.216827  28.632629\n",
       "1   24800.0    33156.539722        1.0  77.279205  28.617981\n",
       "2    5644.0    18051.621525        1.0  77.170906  28.655077\n",
       "3    4683.0    17203.990915        1.0  77.205238  28.682152\n",
       "4    8099.0    31677.967204        1.0  77.293045  28.698713"
      ]
     },
     "execution_count": 41,
     "metadata": {},
     "output_type": "execute_result"
    }
   ],
   "source": [
    "# giving the data to the backend of our web application\n",
    "import numpy as np\n",
    "import codecs, json \n",
    "\n",
    "List = [{} for j in range(NUM_TANKS)]\n",
    "\n",
    "for j in range(NUM_TANKS):\n",
    "    List[j]['x'] = tanks['tanks_x'].iloc[j].astype('float32')\n",
    "    List[j]['y'] = tanks['tanks_y'].iloc[j].astype('float32')\n",
    "    List[j]['stability'] = 1.00\n",
    "    List[j]['capacity'] = capacity_of_jth_tank[j].astype('float32')\n",
    "    List[j]['cost_of_making'] = cost_of_setting_jth_tank[j]\n",
    "    \n",
    "temp = pd.DataFrame(List)\n",
    "# temp.head()\n"
   ]
  },
  {
   "cell_type": "markdown",
   "metadata": {},
   "source": [
    "### Tanks that should not be constructed"
   ]
  },
  {
   "cell_type": "code",
   "execution_count": 39,
   "metadata": {},
   "outputs": [],
   "source": [
    "# print('tanks with no capacity(no houses connected) are:', [tank for tank in range(len(capacity_of_jth_tank)) if capacity_of_jth_tank[tank]==0])"
   ]
  },
  {
   "cell_type": "markdown",
   "metadata": {},
   "source": [
    "## JSON passed to backend of the website"
   ]
  },
  {
   "cell_type": "code",
   "execution_count": 40,
   "metadata": {},
   "outputs": [
    {
     "name": "stdout",
     "output_type": "stream",
     "text": [
      "[[69893.0, 287532.3575215386, 1.0, 77.21682739257812, 28.63262939453125], [24800.0, 33156.53972157293, 1.0, 77.27920532226562, 28.61798095703125], [5644.0, 18051.621524956514, 1.0, 77.17090606689453, 28.65507698059082], [4683.0, 17203.99091499548, 1.0, 77.20523834228516, 28.682151794433594], [8099.0, 31677.967204401935, 1.0, 77.29304504394531, 28.698713302612305], [4298.0, 19627.99681427577, 1.0, 77.20343780517578, 28.70722007751465], [4061.0, 16602.13402825839, 1.0, 77.30089569091797, 28.732440948486328], [3.0, 1276.936263016557, 1.0, 76.92693328857422, 28.692262649536133], [2929.0, 24143.139853955603, 1.0, 77.09990692138672, 28.55617904663086], [32520.0, 170102.81276134058, 1.0, 77.17236328125, 28.54266929626465], [96098.0, 178114.09524587623, 1.0, 77.24085235595703, 28.5439510345459], [15657.0, 49562.0407895929, 1.0, 77.24222564697266, 28.568828582763672], [7000.0, 19544.021768074792, 1.0, 77.25544738769531, 28.558425903320312], [5145.0, 15186.56598961537, 1.0, 77.26925659179688, 28.568828582763672], [3313.0, 8859.610952854026, 1.0, 77.37145233154297, 28.637929916381836], [1110.0, 4504.562741502691, 1.0, 77.44415283203125, 28.68093490600586], [0.0, 0.0, 1.0, 77.4535140991211, 28.668981552124023], [1957.0, 10191.165756460254, 1.0, 77.1551742553711, 28.71672821044922], [629.0, 1306.6768019159615, 1.0, 77.15465545654297, 28.75706672668457], [0.0, 0.0, 1.0, 77.06118774414062, 28.789493560791016], [1109.0, 1444.8576449774741, 1.0, 77.3903579711914, 28.535776138305664], [0.0, 0.0, 1.0, 77.45249938964844, 28.602712631225586], [1219.0, 3697.462134602143, 1.0, 77.1259994506836, 28.662378311157227], [2492.0, 4469.870028468948, 1.0, 77.13629913330078, 28.65996742248535], [1105.0, 1535.4986116887062, 1.0, 77.36563873291016, 28.667499542236328], [4313.0, 18434.80352475206, 1.0, 77.3244400024414, 28.68225860595703], [0.0, 0.0, 1.0, 77.43327331542969, 28.710567474365234], [0.0, 0.0, 1.0, 77.06660461425781, 28.74549102783203], [0.0, 0.0, 1.0, 77.47859191894531, 28.532758712768555], [0.0, 0.0, 1.0, 77.52322387695312, 28.5369815826416], [54645.0, 312258.657965481, 1.0, 77.13179016113281, 28.514358520507812], [8293.0, 65074.73283053743, 1.0, 77.19002532958984, 28.450572967529297], [8645.0, 322275.3892964607, 1.0, 77.02351379394531, 28.459627151489258], [9.0, 28012.93663170216, 1.0, 76.91914367675781, 28.381725311279297], [0.0, 12918.325876813198, 1.0, 76.90550231933594, 28.376672744750977], [4646.0, 386784.0547727463, 1.0, 76.99888610839844, 28.524282455444336], [40410.0, 145216.3833062216, 1.0, 77.32737731933594, 28.40204429626465], [10498.0, 50396.47873760812, 1.0, 77.33424377441406, 28.345857620239258], [0.0, 0.0, 1.0, 77.50865173339844, 28.470273971557617], [0.0, 0.0, 1.0, 77.49459075927734, 28.776945114135742], [0.0, 0.0, 1.0, 77.58248138427734, 28.825382232666016], [3174.0, 50674.17857411902, 1.0, 77.12345886230469, 28.862070083618164], [0.0, 0.0, 1.0, 76.94733428955078, 28.78506851196289], [6233.0, 42767.88232127401, 1.0, 77.09427642822266, 28.615814208984375], [4947.0, 16407.878689719888, 1.0, 77.13375854492188, 28.627567291259766], [1963.0, 54496.17342525514, 1.0, 77.01828002929688, 28.594772338867188], [8809.0, 18481.20019698388, 1.0, 77.35027313232422, 28.586631774902344], [0.0, 0.0, 1.0, 77.35142517089844, 28.736902236938477], [7.0, 2794.454574629354, 1.0, 76.9813232421875, 28.62997817993164], [0.0, 0.0, 1.0, 76.94630432128906, 28.58506965637207], [7816.0, 70127.9717745776, 1.0, 77.09687042236328, 28.52790641784668], [7271.0, 30992.093290268447, 1.0, 77.26956939697266, 28.49019432067871], [0.0, 0.0, 1.0, 77.45256042480469, 28.501358032226562], [149368.0, 1526120.8281206083, 1.0, 77.08245849609375, 28.445526123046875], [0.0, 0.0, 1.0, 77.42124938964844, 28.62656593322754], [0.0, 0.0, 1.0, 77.5125732421875, 28.638620376586914], [0.0, 0.0, 1.0, 77.03604125976562, 28.729278564453125], [0.0, 0.0, 1.0, 77.04044342041016, 28.69971466064453], [1794.0, 3413.1708354526045, 1.0, 77.09949493408203, 28.664775848388672]]\n"
     ]
    }
   ],
   "source": [
    "values = temp.values\n",
    "print(json.dumps(values.tolist())) # TODO \n",
    "# FINAL"
   ]
  },
  {
   "cell_type": "code",
   "execution_count": null,
   "metadata": {},
   "outputs": [],
   "source": []
  },
  {
   "cell_type": "code",
   "execution_count": null,
   "metadata": {},
   "outputs": [],
   "source": []
  }
 ],
 "metadata": {
  "kernelspec": {
   "display_name": "Python 3",
   "language": "python",
   "name": "python3"
  },
  "language_info": {
   "codemirror_mode": {
    "name": "ipython",
    "version": 3
   },
   "file_extension": ".py",
   "mimetype": "text/x-python",
   "name": "python",
   "nbconvert_exporter": "python",
   "pygments_lexer": "ipython3",
   "version": "3.6.0"
  }
 },
 "nbformat": 4,
 "nbformat_minor": 2
}
