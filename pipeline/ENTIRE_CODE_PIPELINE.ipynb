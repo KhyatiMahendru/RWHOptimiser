{
 "cells": [
  {
   "cell_type": "markdown",
   "metadata": {},
   "source": [
    "## Step 1: Fetch the real world data\n",
    "\n",
    "- DATA FROM JSON TO CSV\n"
   ]
  },
  {
   "cell_type": "code",
   "execution_count": 30,
   "metadata": {},
   "outputs": [],
   "source": [
    "\n",
    "import json\n",
    "import requests\n",
    "import codecs\n",
    "import numpy as np\n",
    "import pandas as pd\n",
    "import sklearn\n",
    "import seaborn as sns\n",
    "import matplotlib.pyplot as plt\n",
    "import random\n",
    "\n",
    "from sklearn.datasets import make_blobs\n",
    "\n",
    "# fetching data from file, parsing the json\n",
    "data = None\n",
    "file = '../data/location1.json'\n",
    "with open(file, \"r\") as read_file:\n",
    "    data = json.load(codecs.open(file, 'r', 'utf-8-sig'))\n",
    "\n",
    "coord = []\n",
    "\n",
    "# preprocessing the data\n",
    "for line in data:\n",
    "    coord.append(line['geometry']['coordinates']) \n",
    "    \n",
    "new = []\n",
    "for line in coord:\n",
    "    for points in line:\n",
    "        new.append(points)\n",
    "        \n",
    "# Isolating the dependencies\n",
    "new_coord = np.unique(np.array(coord),axis=0)\n",
    "new_coord.shape\n",
    "dat = pd.DataFrame(new_coord, columns=['x','y'])\n",
    "dat.to_csv(\"real_housing_data_x_y.csv\")"
   ]
  },
  {
   "cell_type": "markdown",
   "metadata": {},
   "source": [
    "#### Defining our constants and variables"
   ]
  },
  {
   "cell_type": "code",
   "execution_count": 16,
   "metadata": {},
   "outputs": [],
   "source": [
    "# seed for consistent results\n",
    "RANDOM_SEED = 32\n",
    "np.random.seed(RANDOM_SEED)\n",
    "random.seed(RANDOM_SEED)\n",
    "NUM_HOUSES = len(dat)\n",
    "\n",
    "MEAN_DEMAND_WATER_PER_HOUSE = 100 # LITERS\n",
    "VAR_DEMAND_WATER_PER_HOUSE = 50 # LITERS\n",
    "\n",
    "# This can be evaluated using the vision api\n",
    "MEAN_AREA_PER_HOUSE = 100 # METERS SQUARE\n",
    "VAR_AREA_PER_HOUSE = 50 # METERS SQUARE PER HOUSE\n",
    "\n",
    "RAINFALL_ESTIMATE = 100 # mm\n",
    "FC_TANK_PLACEMENT = 10000 # Rs.\n",
    "FIXED_COST_PIPE_PER_METER = 120 # Rs.\n",
    "COST_PER_LITERS_TANK = 500 # Rs."
   ]
  },
  {
   "cell_type": "markdown",
   "metadata": {},
   "source": [
    "## Data to save and feed to algorithm"
   ]
  },
  {
   "cell_type": "code",
   "execution_count": 64,
   "metadata": {},
   "outputs": [],
   "source": [
    "house_data_x = dat['x'].values\n",
    "house_data_y = dat['y'].values\n",
    "\n",
    "# demand\n",
    "demand_per_house = np.array([np.random.normal(loc = MEAN_DEMAND_WATER_PER_HOUSE, scale = VAR_DEMAND_WATER_PER_HOUSE) for i in range(NUM_HOUSES)])\n",
    "\n",
    "#area\n",
    "area_per_house = np.array([np.random.normal(loc = MEAN_AREA_PER_HOUSE, scale = VAR_AREA_PER_HOUSE) for i in range(NUM_HOUSES)])\n",
    "\n",
    "# rainfall estimation\n",
    "rainfall_estimate_for_city =  np.array([RAINFALL_ESTIMATE for i in range(NUM_HOUSES)]) # FLOAT\n",
    "\n",
    "# capacity of the tanks per house (DERIVED)\n",
    "capacity_for_tank_per_house = np.array([area_per_house[i]* RAINFALL_ESTIMATE/1000  for i in range(NUM_HOUSES)])\n",
    "\n",
    "# average_length_of_pipe_per_house\n",
    "average_length_of_pipe_per_house = np.random.normal(loc = 30, scale = 40, size = NUM_HOUSES)\n",
    "\n",
    "# fixed_cost_of_tank_placement_per_house\n",
    "fixed_cost_of_tank_placement_per_house = np.array([FC_TANK_PLACEMENT for i in range(NUM_HOUSES)])\n",
    "\n",
    "# cost_per_liters_tank\n",
    "cost_per_liters_tank_per_house = np.array([COST_PER_LITERS_TANK for i in range(NUM_HOUSES)])\n"
   ]
  },
  {
   "cell_type": "code",
   "execution_count": 66,
   "metadata": {},
   "outputs": [
    {
     "name": "stdout",
     "output_type": "stream",
     "text": [
      "House_data_x (1111,)\n",
      "House_data_y (1111,)\n",
      "Demand_per_house (1111,)\n",
      "Capacity_for_tank_per_house (1111,)\n",
      "Rainfall_estimate_for_city (1111,)\n",
      "Average_length_of_pipe_per_house (1111,)\n",
      "fixed_cost_of_tank_placement_per_house (1111,)\n",
      "cost_per_liters_tank_per_house (1111,)\n"
     ]
    }
   ],
   "source": [
    "print('House_data_x', (house_data_x.shape) )\n",
    "print('House_data_y', (house_data_y.shape))\n",
    "print('Demand_per_house', (demand_per_house.shape))\n",
    "print('Capacity_for_tank_per_house', (capacity_for_tank_per_house.shape))\n",
    "print('Rainfall_estimate_for_city', (rainfall_estimate_for_city.shape))\n",
    "print('Average_length_of_pipe_per_house', (average_length_of_pipe_per_house.shape))\n",
    "print('fixed_cost_of_tank_placement_per_house', (fixed_cost_of_tank_placement_per_house.shape))\n",
    "print('cost_per_liters_tank_per_house', (cost_per_liters_tank_per_house.shape))\n"
   ]
  },
  {
   "cell_type": "markdown",
   "metadata": {},
   "source": [
    "## A visual representation of our data"
   ]
  },
  {
   "cell_type": "code",
   "execution_count": 23,
   "metadata": {},
   "outputs": [
    {
     "data": {
      "image/png": "[encoded data removed]",
      "text/plain": [
       "<Figure size 432x288 with 1 Axes>"
      ]
     },
     "metadata": {
      "needs_background": "light"
     },
     "output_type": "display_data"
    }
   ],
   "source": [
    "# sns.scatterplot(house_data_x, house_data_y, hue = house_data_labels)\n",
    "# plt.figure(figsize = (12,12))\n",
    "plt.scatter(x= house_data_x, y= house_data_y )\n",
    "plt.xlabel(\"house x\")\n",
    "plt.ylabel(\"house y\")\n",
    "plt.show()\n"
   ]
  },
  {
   "cell_type": "code",
   "execution_count": 67,
   "metadata": {},
   "outputs": [
    {
     "data": {
      "text/html": [
       "<div>\n",
       "<style scoped>\n",
       "    .dataframe tbody tr th:only-of-type {\n",
       "        vertical-align: middle;\n",
       "    }\n",
       "\n",
       "    .dataframe tbody tr th {\n",
       "        vertical-align: top;\n",
       "    }\n",
       "\n",
       "    .dataframe thead th {\n",
       "        text-align: right;\n",
       "    }\n",
       "</style>\n",
       "<table border=\"1\" class=\"dataframe\">\n",
       "  <thead>\n",
       "    <tr style=\"text-align: right;\">\n",
       "      <th></th>\n",
       "      <th>house_data_x</th>\n",
       "      <th>house_data_y</th>\n",
       "      <th>demand_per_house_liters</th>\n",
       "      <th>area_per_house_metersq</th>\n",
       "      <th>capacity_for_tank_per_house_lt</th>\n",
       "      <th>rainfall_estimate_for_city_mm</th>\n",
       "      <th>average_length_of_pipe_per_house</th>\n",
       "      <th>fixed_cost_of_tank_placement_per_house</th>\n",
       "      <th>cost_per_liters_tank_per_house</th>\n",
       "    </tr>\n",
       "  </thead>\n",
       "  <tbody>\n",
       "    <tr>\n",
       "      <th>0</th>\n",
       "      <td>76.824</td>\n",
       "      <td>28.447</td>\n",
       "      <td>68.870</td>\n",
       "      <td>85.958</td>\n",
       "      <td>8.596</td>\n",
       "      <td>100</td>\n",
       "      <td>42.717</td>\n",
       "      <td>10000</td>\n",
       "      <td>500</td>\n",
       "    </tr>\n",
       "    <tr>\n",
       "      <th>1</th>\n",
       "      <td>76.892</td>\n",
       "      <td>28.468</td>\n",
       "      <td>130.274</td>\n",
       "      <td>126.353</td>\n",
       "      <td>12.635</td>\n",
       "      <td>100</td>\n",
       "      <td>24.552</td>\n",
       "      <td>10000</td>\n",
       "      <td>500</td>\n",
       "    </tr>\n",
       "    <tr>\n",
       "      <th>2</th>\n",
       "      <td>76.923</td>\n",
       "      <td>28.472</td>\n",
       "      <td>121.357</td>\n",
       "      <td>-11.073</td>\n",
       "      <td>-1.107</td>\n",
       "      <td>100</td>\n",
       "      <td>68.078</td>\n",
       "      <td>10000</td>\n",
       "      <td>500</td>\n",
       "    </tr>\n",
       "    <tr>\n",
       "      <th>3</th>\n",
       "      <td>76.933</td>\n",
       "      <td>28.690</td>\n",
       "      <td>174.917</td>\n",
       "      <td>113.416</td>\n",
       "      <td>11.342</td>\n",
       "      <td>100</td>\n",
       "      <td>66.364</td>\n",
       "      <td>10000</td>\n",
       "      <td>500</td>\n",
       "    </tr>\n",
       "    <tr>\n",
       "      <th>4</th>\n",
       "      <td>76.961</td>\n",
       "      <td>28.476</td>\n",
       "      <td>48.527</td>\n",
       "      <td>80.773</td>\n",
       "      <td>8.077</td>\n",
       "      <td>100</td>\n",
       "      <td>8.051</td>\n",
       "      <td>10000</td>\n",
       "      <td>500</td>\n",
       "    </tr>\n",
       "  </tbody>\n",
       "</table>\n",
       "</div>"
      ],
      "text/plain": [
       "   house_data_x  house_data_y  demand_per_house_liters  \\\n",
       "0        76.824        28.447                   68.870   \n",
       "1        76.892        28.468                  130.274   \n",
       "2        76.923        28.472                  121.357   \n",
       "3        76.933        28.690                  174.917   \n",
       "4        76.961        28.476                   48.527   \n",
       "\n",
       "   area_per_house_metersq  capacity_for_tank_per_house_lt  \\\n",
       "0                  85.958                           8.596   \n",
       "1                 126.353                          12.635   \n",
       "2                 -11.073                          -1.107   \n",
       "3                 113.416                          11.342   \n",
       "4                  80.773                           8.077   \n",
       "\n",
       "   rainfall_estimate_for_city_mm  average_length_of_pipe_per_house  \\\n",
       "0                            100                            42.717   \n",
       "1                            100                            24.552   \n",
       "2                            100                            68.078   \n",
       "3                            100                            66.364   \n",
       "4                            100                             8.051   \n",
       "\n",
       "   fixed_cost_of_tank_placement_per_house  cost_per_liters_tank_per_house  \n",
       "0                                   10000                             500  \n",
       "1                                   10000                             500  \n",
       "2                                   10000                             500  \n",
       "3                                   10000                             500  \n",
       "4                                   10000                             500  "
      ]
     },
     "execution_count": 67,
     "metadata": {},
     "output_type": "execute_result"
    }
   ],
   "source": [
    "df = pd.DataFrame(data = None, columns = None)\n",
    "df['house_data_x'] = house_data_x\n",
    "df['house_data_y'] = house_data_y\n",
    "df['demand_per_house_liters'] = demand_per_house\n",
    "df['area_per_house_metersq'] = area_per_house\n",
    "df['capacity_for_tank_per_house_lt'] = capacity_for_tank_per_house\n",
    "df['rainfall_estimate_for_city_mm'] = rainfall_estimate_for_city\n",
    "df['average_length_of_pipe_per_house'] = average_length_of_pipe_per_house\n",
    "df['fixed_cost_of_tank_placement_per_house'] = fixed_cost_of_tank_placement_per_house\n",
    "df['cost_per_liters_tank_per_house'] = cost_per_liters_tank_per_house\n",
    "\n",
    "\n",
    "df = df.round(3)\n",
    "df.head()"
   ]
  },
  {
   "cell_type": "code",
   "execution_count": 68,
   "metadata": {},
   "outputs": [],
   "source": [
    "df.to_csv(\"data.csv\", index= False, header=True)"
   ]
  },
  {
   "cell_type": "markdown",
   "metadata": {},
   "source": [
    "Generating or getting the data for the tanks:\n",
    "\n",
    "- Web App allows us to pip point the map and get the generated data in csv format"
   ]
  },
  {
   "cell_type": "markdown",
   "metadata": {},
   "source": [
    "## Working with the tanks data\n",
    "- Real data\n",
    "- Taken directly from our web app\n"
   ]
  },
  {
   "cell_type": "code",
   "execution_count": null,
   "metadata": {},
   "outputs": [],
   "source": []
  },
  {
   "cell_type": "code",
   "execution_count": 154,
   "metadata": {},
   "outputs": [
    {
     "name": "stdout",
     "output_type": "stream",
     "text": [
      "Column names are Lat, Lng, Id, Address\n",
      "Processed 60 lines.\n",
      "(59, 2)\n"
     ]
    },
    {
     "data": {
      "image/png": "[encoded data removed]",
      "text/plain": [
       "<Figure size 432x288 with 1 Axes>"
      ]
     },
     "metadata": {
      "needs_background": "light"
     },
     "output_type": "display_data"
    }
   ],
   "source": [
    "import csv\n",
    "\n",
    "tank_data_from_website = []\n",
    "with open('tank_loc_website.csv') as csv_file:\n",
    "    csv_reader = csv.reader(csv_file, delimiter=',')\n",
    "    line_count = 0\n",
    "    for row in csv_reader:\n",
    "        if line_count == 0:\n",
    "            print(f'Column names are {\", \".join(row)}')\n",
    "            line_count += 1\n",
    "        else:\n",
    "            x = row[0]\n",
    "            y = row[1]\n",
    "            tank_data_from_website.append([x,y])\n",
    "            line_count += 1\n",
    "    print(f'Processed {line_count} lines.')\n",
    "\n",
    "tank_data_from_website = np.array(tank_data_from_website)\n",
    "print(tank_data_from_website.shape)\n",
    "                  \n",
    "NUM_TANKS = len(tank_data_from_website)\n",
    "\n",
    "tanksdf = pd.DataFrame(data = None, columns = None)\n",
    "tanksdf['tanks_x'] = tank_data_from_website[:,1]\n",
    "tanksdf['tanks_y'] = tank_data_from_website[:,0]\n",
    "tanksdf = tanksdf.round(3)\n",
    "tanksdf.to_csv(\"tanks_loc.csv\", index = False, header = True)\n",
    "\n",
    "plt.scatter(x= house_data_x, y= house_data_y, c = 'red', marker = '*' )\n",
    "plt.xlabel(\"house x\")\n",
    "plt.ylabel(\"house y\")\n",
    "plt.show()\n",
    "\n",
    "MIN_X = min(tank_data_from_website[:,1])\n",
    "MIN_Y = min(tank_data_from_website[:,0])\n",
    "                  \n",
    "# plt.scatter((tank_data_from_website[:,1]),(tank_data_from_website[:,0]), color = 'green', marker=\"*\" )\n",
    "# plt.xlabel(\"tank x\")\n",
    "# plt.ylabel(\"tank y\")\n",
    "# plt.show()\n",
    "                  \n",
    "                  "
   ]
  },
  {
   "cell_type": "code",
   "execution_count": 111,
   "metadata": {},
   "outputs": [],
   "source": [
    "# NUM_TANKS = len(tank_data_from_website)\n",
    "\n",
    "# tank_locator = np.array([random.random() for _ in range(NUM_HOUSES)])\n",
    "\n",
    "# # get the 50 nodes with max values and their index\n",
    "# idx = (-tank_locator).argsort()[:NUM_TANKS]\n",
    "# tank_data_x, tank_data_y = house_data_x[idx], house_data_y[idx]\n",
    "\n",
    "# tanksdf = pd.DataFrame(data = None, columns = None)\n",
    "# tanksdf['tanks_x'] = tank_data_x\n",
    "# tanksdf['tanks_y'] = tank_data_y\n",
    "# tanksdf = tanksdf.round(3)\n",
    "# tanksdf.to_csv(\"tanks_loc.csv\", index = False, header = True)"
   ]
  },
  {
   "cell_type": "markdown",
   "metadata": {},
   "source": [
    "# Solution 1: Clustering"
   ]
  },
  {
   "cell_type": "code",
   "execution_count": 152,
   "metadata": {},
   "outputs": [
    {
     "name": "stdout",
     "output_type": "stream",
     "text": [
      "   house_data_x  house_data_y  demand_per_house_liters  \\\n",
      "0        76.824        28.447                   68.870   \n",
      "1        76.892        28.468                  130.274   \n",
      "2        76.923        28.472                  121.357   \n",
      "\n",
      "   area_per_house_metersq  capacity_for_tank_per_house_lt  \\\n",
      "0                  85.958                           8.596   \n",
      "1                 126.353                          12.635   \n",
      "2                 -11.073                          -1.107   \n",
      "\n",
      "   rainfall_estimate_for_city_mm  average_length_of_pipe_per_house  \\\n",
      "0                            100                            42.717   \n",
      "1                            100                            24.552   \n",
      "2                            100                            68.078   \n",
      "\n",
      "   fixed_cost_of_tank_placement_per_house  cost_per_liters_tank_per_house  \n",
      "0                                   10000                             500  \n",
      "1                                   10000                             500  \n",
      "2                                   10000                             500  \n",
      "\n",
      "     tanks_x    tanks_y\n",
      "0  77.216829  28.632630\n",
      "1  77.279205  28.617980\n",
      "2  77.170909  28.655077\n"
     ]
    }
   ],
   "source": [
    "tanks = pd.read_csv(\"tanks_loc.csv\")\n",
    "houses = pd.read_csv(\"data.csv\")\n",
    "\n",
    "print(houses.head(3))\n",
    "print()\n",
    "print(tanks.head(3))"
   ]
  },
  {
   "cell_type": "code",
   "execution_count": 120,
   "metadata": {},
   "outputs": [
    {
     "name": "stdout",
     "output_type": "stream",
     "text": [
      "Number of tanks and houses are:  59 1111\n",
      "houses clustered to tanks\n",
      "Tank index = 0 \n",
      "houses: [740, 744, 771, 773, 780, 785, 789, 790, 793, 796, 797, 798, 800, 802, 804, 814, 815, 818, 822, 823, 825, 826, 827, 828, 829, 830, 831, 832, 833, 834, 835, 836, 837, 838, 839, 840, 841, 842, 843, 844, 845, 846, 847, 848, 849, 850, 851, 852, 853, 854, 855, 856, 857, 858, 859, 861, 862, 863, 864, 865, 866, 867, 868, 869, 870, 871, 872, 873, 874, 875, 876, 877, 878, 879, 880, 881, 882, 883, 884, 885, 903, 908, 933]\n",
      "\n",
      "Tank index = 1 \n",
      "houses: [1006, 1020, 1021, 1022, 1023, 1024, 1025, 1026, 1027, 1028, 1029, 1030, 1031, 1033, 1034, 1035, 1036, 1037, 1039, 1040, 1041, 1058, 1067, 1068]\n",
      "\n",
      "Tank index = 2 \n",
      "houses: [631, 637, 717, 719, 723, 736, 739, 742]\n",
      "\n",
      "Tank index = 3 \n",
      "houses: [728, 749, 783, 803, 807, 813]\n",
      "\n",
      "Tank index = 4 \n",
      "houses: [991, 992, 999, 1001, 1016, 1017, 1032, 1051]\n",
      "\n",
      "Tank index = 5 \n",
      "houses: [775, 806, 812, 922, 983]\n",
      "\n",
      "Tank index = 6 \n",
      "houses: [997, 1005, 1014, 1045]\n",
      "\n",
      "Tank index = 7 \n",
      "houses: [3]\n",
      "\n",
      "Tank index = 8 \n",
      "houses: [339, 344, 413, 605, 611, 617]\n",
      "\n",
      "Tank index = 9 \n",
      "houses: [630, 639, 640, 675, 718, 721, 724, 725, 727, 729, 730, 731, 732, 734, 735, 737, 738, 741, 743, 745, 746, 748, 750, 751, 752, 753, 754, 755, 756, 757, 758, 759, 760, 761, 762, 763, 764, 765, 766, 767, 768, 769, 770, 772]\n",
      "\n",
      "Tank index = 10 \n",
      "houses: [777, 778, 779, 781, 784, 786, 791, 792, 794, 795, 808, 811, 817, 820, 824, 860, 887, 888, 889, 890, 891, 892, 893, 894, 895, 896, 897, 898, 899, 900, 901, 902, 904, 905, 906, 907, 909, 910, 911, 912, 913, 914, 915, 916, 917, 918, 919, 920, 921, 925, 926, 927, 928, 929, 930, 931, 932, 934, 935, 936, 937, 938, 939, 940, 941, 942, 943, 944, 945, 946, 947, 948, 949, 951, 952, 953, 954, 955, 956, 957, 958, 959, 960, 961, 962, 963, 965, 966, 968, 969, 970, 971, 972, 973, 974, 975, 976, 977, 978, 979, 980, 981, 982, 990, 993]\n",
      "\n",
      "Tank index = 11 \n",
      "houses: [774, 776, 782, 787, 788, 805, 809, 810, 819, 821, 923, 924, 950, 964, 967, 984, 986, 988]\n",
      "\n",
      "Tank index = 12 \n",
      "houses: [987, 989, 1002, 1003, 1004, 1007, 1008]\n",
      "\n",
      "Tank index = 13 \n",
      "houses: [994, 995, 1044, 1053, 1059]\n",
      "\n",
      "Tank index = 14 \n",
      "houses: [1098, 1107, 1108]\n",
      "\n",
      "Tank index = 15 \n",
      "houses: [1110]\n",
      "\n",
      "Tank index = 16 \n",
      "houses: []\n",
      "\n",
      "Tank index = 17 \n",
      "houses: [608, 623, 726]\n",
      "\n",
      "Tank index = 18 \n",
      "houses: [629]\n",
      "\n",
      "Tank index = 19 \n",
      "houses: []\n",
      "\n",
      "Tank index = 20 \n",
      "houses: [1109]\n",
      "\n",
      "Tank index = 21 \n",
      "houses: []\n",
      "\n",
      "Tank index = 22 \n",
      "houses: [604, 615]\n",
      "\n",
      "Tank index = 23 \n",
      "houses: [619, 620, 626, 627]\n",
      "\n",
      "Tank index = 24 \n",
      "houses: [1105]\n",
      "\n",
      "Tank index = 25 \n",
      "houses: [1056, 1075, 1089, 1093]\n",
      "\n",
      "Tank index = 26 \n",
      "houses: []\n",
      "\n",
      "Tank index = 27 \n",
      "houses: []\n",
      "\n",
      "Tank index = 28 \n",
      "houses: []\n",
      "\n",
      "Tank index = 29 \n",
      "houses: []\n",
      "\n",
      "Tank index = 30 \n",
      "houses: [599, 618, 625, 634, 636, 638, 641, 642, 643, 644, 645, 646, 647, 648, 649, 650, 651, 652, 653, 654, 655, 656, 657, 658, 659, 660, 661, 662, 663, 664, 665, 666, 667, 668, 669, 670, 671, 672, 673, 674, 676, 677, 678, 679, 680, 681, 682, 683, 684, 685, 686, 687, 688, 689, 690, 691, 692, 693, 694, 695, 696, 697, 698, 699, 700, 701, 702, 703, 704, 705, 706, 707, 708, 709, 710, 711, 712, 713, 714, 715, 720]\n",
      "\n",
      "Tank index = 31 \n",
      "houses: [624, 632, 633, 716, 722, 733, 747, 799, 816, 886, 985]\n",
      "\n",
      "Tank index = 32 \n",
      "houses: [8, 9, 10, 11, 13, 17, 18, 19, 34, 67, 76, 87, 96, 100, 107, 109, 110, 111, 112, 114, 115, 116, 117, 118, 119, 120, 121, 122, 123, 124, 125, 126, 127, 128, 129, 130, 131, 132, 133, 134, 135, 136, 137, 138, 139, 140, 141, 142, 143, 144, 145, 146, 147, 148, 149, 150, 151, 152, 153, 154, 155, 156, 157, 166, 172, 184, 192, 199, 204, 211, 241]\n",
      "\n",
      "Tank index = 33 \n",
      "houses: [1, 2, 6]\n",
      "\n",
      "Tank index = 34 \n",
      "houses: [0]\n",
      "\n",
      "Tank index = 35 \n",
      "houses: [4, 5, 12, 14, 16, 20, 22, 23, 24, 25, 26, 27, 28, 29, 30, 31, 32, 33, 36, 37, 38, 39, 40, 41, 42, 43, 44, 45, 46, 47, 48, 49, 50, 51, 52, 53, 54, 55, 56, 57, 58, 59, 60, 61, 62, 63, 64, 65, 66, 68, 69, 70, 71, 72, 73, 74, 77, 78, 79, 80, 81, 82, 83, 84, 85, 86, 88, 89, 90, 92, 93, 94, 95, 97, 98, 101, 102, 103, 104, 106]\n",
      "\n",
      "Tank index = 36 \n",
      "houses: [1000, 1009, 1010, 1012, 1018, 1038, 1042, 1043, 1047, 1048, 1049, 1050, 1052, 1055, 1061, 1062, 1063, 1064, 1071, 1072, 1076, 1077, 1078, 1079, 1080, 1081, 1082, 1084, 1085, 1086, 1087, 1088, 1090, 1091, 1092, 1095, 1096, 1097]\n",
      "\n",
      "Tank index = 37 \n",
      "houses: [1011, 1015, 1019, 1046, 1054, 1057, 1066, 1073, 1074, 1083]\n",
      "\n",
      "Tank index = 38 \n",
      "houses: []\n",
      "\n",
      "Tank index = 39 \n",
      "houses: []\n",
      "\n",
      "Tank index = 40 \n",
      "houses: []\n",
      "\n",
      "Tank index = 41 \n",
      "houses: [575, 592, 594, 612, 801]\n",
      "\n",
      "Tank index = 42 \n",
      "houses: []\n",
      "\n",
      "Tank index = 43 \n",
      "houses: [400, 402, 404, 406, 409, 414, 417, 509, 523, 556, 593, 597, 603]\n",
      "\n",
      "Tank index = 44 \n",
      "houses: [609, 610, 613, 614, 616, 622, 628, 635]\n",
      "\n",
      "Tank index = 45 \n",
      "houses: [15, 21, 35, 75, 91, 99, 105, 108, 113, 183, 193, 205, 217, 225, 278]\n",
      "\n",
      "Tank index = 46 \n",
      "houses: [1094, 1099, 1100, 1101, 1102, 1103, 1104, 1106]\n",
      "\n",
      "Tank index = 47 \n",
      "houses: []\n",
      "\n",
      "Tank index = 48 \n",
      "houses: [7]\n",
      "\n",
      "Tank index = 49 \n",
      "houses: []\n",
      "\n",
      "Tank index = 50 \n",
      "houses: [194, 337, 360, 416, 460, 489, 516, 527, 530, 535, 536, 576, 577, 578, 579, 606]\n",
      "\n",
      "Tank index = 51 \n",
      "houses: [996, 998, 1013, 1060, 1065, 1069, 1070]\n",
      "\n",
      "Tank index = 52 \n",
      "houses: []\n",
      "\n",
      "Tank index = 53 \n",
      "houses: [158, 159, 160, 161, 162, 163, 164, 165, 167, 168, 169, 170, 171, 173, 174, 175, 176, 177, 178, 179, 180, 181, 182, 185, 186, 187, 188, 189, 190, 191, 195, 196, 197, 198, 200, 201, 202, 203, 206, 207, 208, 209, 210, 212, 213, 214, 215, 216, 218, 219, 220, 221, 222, 223, 224, 226, 227, 228, 229, 230, 231, 232, 233, 234, 235, 236, 237, 238, 239, 240, 242, 243, 244, 245, 246, 247, 248, 249, 250, 251, 252, 253, 254, 255, 256, 257, 258, 259, 260, 261, 262, 263, 264, 265, 266, 267, 268, 269, 270, 271, 272, 273, 274, 275, 276, 277, 279, 280, 281, 282, 283, 284, 285, 286, 287, 288, 289, 290, 291, 292, 293, 294, 295, 296, 297, 298, 299, 300, 301, 302, 303, 304, 305, 306, 307, 308, 309, 310, 311, 312, 313, 314, 315, 316, 317, 318, 319, 320, 321, 322, 323, 324, 325, 326, 327, 328, 329, 330, 331, 332, 333, 334, 335, 336, 338, 340, 341, 342, 343, 345, 346, 347, 348, 349, 350, 351, 352, 353, 354, 355, 356, 357, 358, 359, 361, 362, 363, 364, 365, 366, 367, 368, 369, 370, 371, 372, 373, 374, 375, 376, 377, 378, 379, 380, 381, 382, 383, 384, 385, 386, 387, 388, 389, 390, 391, 392, 393, 394, 395, 396, 397, 398, 399, 401, 403, 405, 407, 408, 410, 411, 412, 415, 418, 419, 420, 421, 422, 423, 424, 425, 426, 427, 428, 429, 430, 431, 432, 433, 434, 435, 436, 437, 438, 439, 440, 441, 442, 443, 444, 445, 446, 447, 448, 449, 450, 451, 452, 453, 454, 455, 456, 457, 458, 459, 461, 462, 463, 464, 465, 466, 467, 468, 469, 470, 471, 472, 473, 474, 475, 476, 477, 478, 479, 480, 481, 482, 483, 484, 485, 486, 487, 488, 490, 491, 492, 493, 494, 495, 496, 497, 498, 499, 500, 501, 502, 503, 504, 505, 506, 507, 508, 510, 511, 512, 513, 514, 515, 517, 518, 519, 520, 521, 522, 524, 525, 526, 528, 529, 531, 532, 533, 534, 537, 538, 539, 540, 541, 542, 543, 544, 545, 546, 547, 548, 549, 550, 551, 552, 553, 554, 555, 557, 558, 559, 560, 561, 562, 563, 564, 565, 566, 567, 568, 569, 570, 571, 572, 573, 574, 580, 581, 582, 583, 584, 585, 586, 587, 588, 589, 590, 591, 595, 601, 602, 607, 621]\n",
      "\n",
      "Tank index = 54 \n",
      "houses: []\n",
      "\n",
      "Tank index = 55 \n",
      "houses: []\n",
      "\n",
      "Tank index = 56 \n",
      "houses: []\n",
      "\n",
      "Tank index = 57 \n",
      "houses: []\n",
      "\n",
      "Tank index = 58 \n",
      "houses: [596, 598, 600]\n",
      "\n"
     ]
    }
   ],
   "source": [
    "# defining the variables\n",
    "NUM_TANKS = len(tanks)\n",
    "NUM_HOUSES = len(houses)\n",
    "print('Number of tanks and houses are: ',NUM_TANKS, NUM_HOUSES )\n",
    "\n",
    "# FOR EVERY HOUSE AND TANK, ASSIGN EVERY HOUSE A NEAREST TANK BASED ON THE CLUSTER\n",
    "\n",
    "# CREATING 2D ARRAY OF TANKS\n",
    "tanks_houses = [[] for j in range(NUM_TANKS)]\n",
    "\n",
    "for i in range(len(houses)):\n",
    "    # LOC OF HOUSE\n",
    "    hx, hy = houses.house_data_x.iloc[i],houses.house_data_y.iloc[i]\n",
    "    min_dist_from_house_to_tank = np.inf\n",
    "    min_dist_tank = None\n",
    "    hx*=1000\n",
    "    hy*=1000\n",
    "    \n",
    "    for j in range(len(tanks)):\n",
    "        # LOC OF TANKS\n",
    "        tx, ty = tanks.tanks_x.iloc[j], tanks.tanks_y.iloc[j]\n",
    "        \n",
    "        # converting lat long to the actual distance based coordinates\n",
    "        # can be optimised\n",
    "        \n",
    "        tx*=1000\n",
    "        ty*=1000\n",
    "        \n",
    "#         print(tx,ty, hx, hy)\n",
    "        # DIST ~ APPROX ~ EUCLIDIAN DISTANCE\n",
    "        dist = np.sqrt( (ty- hy)**2 + (tx- hx)**2)\n",
    "        \n",
    "        if dist<min_dist_from_house_to_tank:\n",
    "            min_dist_from_house_to_tank = dist\n",
    "            min_dist_tank = j\n",
    "            \n",
    "    tanks_houses[min_dist_tank].append(i) # appending the house\n",
    "    \n",
    "print('houses clustered to tanks')\n",
    "tank_index = 0\n",
    "for x in tanks_houses[:]:\n",
    "    print('Tank index = {0}'.format(tank_index),'\\nhouses:',x)\n",
    "    print()\n",
    "    tank_index+=1"
   ]
  },
  {
   "cell_type": "markdown",
   "metadata": {},
   "source": [
    "## Calculating the capacity and where not to place tanks"
   ]
  },
  {
   "cell_type": "code",
   "execution_count": 122,
   "metadata": {},
   "outputs": [
    {
     "name": "stdout",
     "output_type": "stream",
     "text": [
      "capacity of jth tank(10 tanks here) [69893, 24800, 5644, 4683, 8099, 4298, 4061, 3, 2929, 32520]\n",
      "\n",
      "\n",
      "tanks with no capacity(no houses connected) are: [16, 19, 21, 26, 27, 28, 29, 34, 38, 39, 40, 42, 47, 49, 52, 54, 55, 56, 57]\n"
     ]
    }
   ],
   "source": [
    "# ASSUMING THE DATA FOR CIJ\n",
    "def calculate_capacity_of_tanks(tanks_houses):\n",
    "    capacity_of_jth_tank = []\n",
    "    for j in range(len(tanks_houses)):\n",
    "        houses_tank = tanks_houses[j]\n",
    "        capacity = np.sum(houses_tank)\n",
    "        capacity_of_jth_tank.append(capacity)\n",
    "    return capacity_of_jth_tank\n",
    "capacity_of_jth_tank= calculate_capacity_of_tanks(tanks_houses)\n",
    "print('capacity of jth tank(10 tanks here)',capacity_of_jth_tank[:10]) \n",
    "print()\n",
    "print()\n",
    "print('tanks with no capacity(no houses connected) are:', [tank for tank in range(len(capacity_of_jth_tank)) if capacity_of_jth_tank[tank]<=0])\n"
   ]
  },
  {
   "cell_type": "markdown",
   "metadata": {},
   "source": [
    "Main step is to calculate the CIJ,tie the cost of pipe from i'th house to j'th tank\n",
    "\n",
    "- can be optimised\n",
    "- moving forward with the assumptions"
   ]
  },
  {
   "cell_type": "code",
   "execution_count": 123,
   "metadata": {},
   "outputs": [
    {
     "name": "stdout",
     "output_type": "stream",
     "text": [
      "(1111, 59)\n"
     ]
    }
   ],
   "source": [
    "# CIJ CALCULATION\n",
    "FIXED_COST_OF_PIPES_PER_METER = 120\n",
    "CIJ = [[0 for i in range(NUM_TANKS)] for j in range(NUM_HOUSES)]\n",
    "print(np.array(CIJ).shape) # TODO\n",
    "\n",
    "for i in range(NUM_HOUSES):\n",
    "    hx, hy = houses.house_data_x.iloc[i],houses.house_data_y.iloc[i]\n",
    "    hx*=1000\n",
    "    hy*=1000\n",
    "    for j in range(NUM_TANKS):\n",
    "        tx, ty = tanks.tanks_x.iloc[j], tanks.tanks_y.iloc[j]\n",
    "        \n",
    "        tx*=1000\n",
    "        ty*=1000\n",
    "        dist = np.sqrt( (ty- hy)**2 + (tx- hx)**2)\n",
    "        \n",
    "        CIJ[i][j]= dist*FIXED_COST_OF_PIPES_PER_METER\n",
    "\n",
    "CIJ = np.array(CIJ)\n"
   ]
  },
  {
   "cell_type": "code",
   "execution_count": 127,
   "metadata": {},
   "outputs": [],
   "source": [
    "cost_of_setting_jth_tank = []\n",
    "for j in range(len(tanks_houses)):\n",
    "    houses_linked_to_tank = tanks_houses[j]\n",
    "    cost = 0\n",
    "    if capacity_of_jth_tank[j] >0: \n",
    "        cost = houses.cost_per_liters_tank_per_house[j]\n",
    "    else :\n",
    "        cost = 0\n",
    "        \n",
    "    for house_index in (houses_linked_to_tank):\n",
    "        cost += CIJ[house_index][j]\n",
    "    \n",
    "    cost_of_setting_jth_tank.append(cost)\n",
    "        \n",
    "# zip(cost_of_setting_jth_tank) # TODO\n",
    "cost_of_setting_jth_tank"
   ]
  },
  {
   "cell_type": "code",
   "execution_count": 132,
   "metadata": {},
   "outputs": [
    {
     "data": {
      "text/html": [
       "<div>\n",
       "<style scoped>\n",
       "    .dataframe tbody tr th:only-of-type {\n",
       "        vertical-align: middle;\n",
       "    }\n",
       "\n",
       "    .dataframe tbody tr th {\n",
       "        vertical-align: top;\n",
       "    }\n",
       "\n",
       "    .dataframe thead th {\n",
       "        text-align: right;\n",
       "    }\n",
       "</style>\n",
       "<table border=\"1\" class=\"dataframe\">\n",
       "  <thead>\n",
       "    <tr style=\"text-align: right;\">\n",
       "      <th></th>\n",
       "      <th>capacity</th>\n",
       "      <th>cost_of_making</th>\n",
       "      <th>stability</th>\n",
       "      <th>x</th>\n",
       "      <th>y</th>\n",
       "    </tr>\n",
       "  </thead>\n",
       "  <tbody>\n",
       "    <tr>\n",
       "      <th>0</th>\n",
       "      <td>69893.0</td>\n",
       "      <td>287532.357522</td>\n",
       "      <td>1.0</td>\n",
       "      <td>77.216827</td>\n",
       "      <td>28.632629</td>\n",
       "    </tr>\n",
       "    <tr>\n",
       "      <th>1</th>\n",
       "      <td>24800.0</td>\n",
       "      <td>33156.539722</td>\n",
       "      <td>1.0</td>\n",
       "      <td>77.279205</td>\n",
       "      <td>28.617981</td>\n",
       "    </tr>\n",
       "    <tr>\n",
       "      <th>2</th>\n",
       "      <td>5644.0</td>\n",
       "      <td>18051.621525</td>\n",
       "      <td>1.0</td>\n",
       "      <td>77.170906</td>\n",
       "      <td>28.655077</td>\n",
       "    </tr>\n",
       "    <tr>\n",
       "      <th>3</th>\n",
       "      <td>4683.0</td>\n",
       "      <td>17203.990915</td>\n",
       "      <td>1.0</td>\n",
       "      <td>77.205238</td>\n",
       "      <td>28.682152</td>\n",
       "    </tr>\n",
       "    <tr>\n",
       "      <th>4</th>\n",
       "      <td>8099.0</td>\n",
       "      <td>31677.967204</td>\n",
       "      <td>1.0</td>\n",
       "      <td>77.293045</td>\n",
       "      <td>28.698713</td>\n",
       "    </tr>\n",
       "  </tbody>\n",
       "</table>\n",
       "</div>"
      ],
      "text/plain": [
       "   capacity  cost_of_making  stability          x          y\n",
       "0   69893.0   287532.357522        1.0  77.216827  28.632629\n",
       "1   24800.0    33156.539722        1.0  77.279205  28.617981\n",
       "2    5644.0    18051.621525        1.0  77.170906  28.655077\n",
       "3    4683.0    17203.990915        1.0  77.205238  28.682152\n",
       "4    8099.0    31677.967204        1.0  77.293045  28.698713"
      ]
     },
     "execution_count": 132,
     "metadata": {},
     "output_type": "execute_result"
    }
   ],
   "source": [
    "# giving the data to the backend of our web application\n",
    "import numpy as np\n",
    "import codecs, json \n",
    "\n",
    "List = [{} for j in range(NUM_TANKS)]\n",
    "\n",
    "for j in range(NUM_TANKS):\n",
    "    List[j]['x'] = tanks['tanks_x'].iloc[j].astype('float32')\n",
    "    List[j]['y'] = tanks['tanks_y'].iloc[j].astype('float32')\n",
    "    List[j]['stability'] = 1.00\n",
    "    List[j]['capacity'] = capacity_of_jth_tank[j].astype('float32')\n",
    "    List[j]['cost_of_making'] = cost_of_setting_jth_tank[j]\n",
    "    \n",
    "temp = pd.DataFrame(List)\n",
    "temp.head()"
   ]
  },
  {
   "cell_type": "markdown",
   "metadata": {},
   "source": [
    "### Tanks that should not be constructed"
   ]
  },
  {
   "cell_type": "code",
   "execution_count": 133,
   "metadata": {},
   "outputs": [
    {
     "name": "stdout",
     "output_type": "stream",
     "text": [
      "tanks with no capacity(no houses connected) are: [16, 19, 21, 26, 27, 28, 29, 34, 38, 39, 40, 42, 47, 49, 52, 54, 55, 56, 57]\n"
     ]
    }
   ],
   "source": [
    "print('tanks with no capacity(no houses connected) are:', [tank for tank in range(len(capacity_of_jth_tank)) if capacity_of_jth_tank[tank]==0])"
   ]
  },
  {
   "cell_type": "markdown",
   "metadata": {},
   "source": [
    "## JSON passed to backend of the website"
   ]
  },
  {
   "cell_type": "code",
   "execution_count": 134,
   "metadata": {},
   "outputs": [
    {
     "name": "stdout",
     "output_type": "stream",
     "text": [
      "[[69893.0, 287532.3575215386, 1.0, 77.21682739257812, 28.63262939453125], [24800.0, 33156.53972157293, 1.0, 77.27920532226562, 28.61798095703125], [5644.0, 18051.621524956514, 1.0, 77.17090606689453, 28.65507698059082], [4683.0, 17203.99091499548, 1.0, 77.20523834228516, 28.682151794433594], [8099.0, 31677.967204401935, 1.0, 77.29304504394531, 28.698713302612305], [4298.0, 19627.99681427577, 1.0, 77.20343780517578, 28.70722007751465], [4061.0, 16602.13402825839, 1.0, 77.30089569091797, 28.732440948486328], [3.0, 1276.936263016557, 1.0, 76.92693328857422, 28.692262649536133], [2929.0, 24143.139853955603, 1.0, 77.09990692138672, 28.55617904663086], [32520.0, 170102.81276134058, 1.0, 77.17236328125, 28.54266929626465], [96098.0, 178114.09524587623, 1.0, 77.24085235595703, 28.5439510345459], [15657.0, 49562.0407895929, 1.0, 77.24222564697266, 28.568828582763672], [7000.0, 19544.021768074792, 1.0, 77.25544738769531, 28.558425903320312], [5145.0, 15186.56598961537, 1.0, 77.26925659179688, 28.568828582763672], [3313.0, 8859.610952854026, 1.0, 77.37145233154297, 28.637929916381836], [1110.0, 4504.562741502691, 1.0, 77.44415283203125, 28.68093490600586], [0.0, 0.0, 1.0, 77.4535140991211, 28.668981552124023], [1957.0, 10191.165756460254, 1.0, 77.1551742553711, 28.71672821044922], [629.0, 1306.6768019159615, 1.0, 77.15465545654297, 28.75706672668457], [0.0, 0.0, 1.0, 77.06118774414062, 28.789493560791016], [1109.0, 1444.8576449774741, 1.0, 77.3903579711914, 28.535776138305664], [0.0, 0.0, 1.0, 77.45249938964844, 28.602712631225586], [1219.0, 3697.462134602143, 1.0, 77.1259994506836, 28.662378311157227], [2492.0, 4469.870028468948, 1.0, 77.13629913330078, 28.65996742248535], [1105.0, 1535.4986116887062, 1.0, 77.36563873291016, 28.667499542236328], [4313.0, 18434.80352475206, 1.0, 77.3244400024414, 28.68225860595703], [0.0, 0.0, 1.0, 77.43327331542969, 28.710567474365234], [0.0, 0.0, 1.0, 77.06660461425781, 28.74549102783203], [0.0, 0.0, 1.0, 77.47859191894531, 28.532758712768555], [0.0, 0.0, 1.0, 77.52322387695312, 28.5369815826416], [54645.0, 312258.657965481, 1.0, 77.13179016113281, 28.514358520507812], [8293.0, 65074.73283053743, 1.0, 77.19002532958984, 28.450572967529297], [8645.0, 322275.3892964607, 1.0, 77.02351379394531, 28.459627151489258], [9.0, 28012.93663170216, 1.0, 76.91914367675781, 28.381725311279297], [0.0, 12918.325876813198, 1.0, 76.90550231933594, 28.376672744750977], [4646.0, 386784.0547727463, 1.0, 76.99888610839844, 28.524282455444336], [40410.0, 145216.3833062216, 1.0, 77.32737731933594, 28.40204429626465], [10498.0, 50396.47873760812, 1.0, 77.33424377441406, 28.345857620239258], [0.0, 0.0, 1.0, 77.50865173339844, 28.470273971557617], [0.0, 0.0, 1.0, 77.49459075927734, 28.776945114135742], [0.0, 0.0, 1.0, 77.58248138427734, 28.825382232666016], [3174.0, 50674.17857411902, 1.0, 77.12345886230469, 28.862070083618164], [0.0, 0.0, 1.0, 76.94733428955078, 28.78506851196289], [6233.0, 42767.88232127401, 1.0, 77.09427642822266, 28.615814208984375], [4947.0, 16407.878689719888, 1.0, 77.13375854492188, 28.627567291259766], [1963.0, 54496.17342525514, 1.0, 77.01828002929688, 28.594772338867188], [8809.0, 18481.20019698388, 1.0, 77.35027313232422, 28.586631774902344], [0.0, 0.0, 1.0, 77.35142517089844, 28.736902236938477], [7.0, 2794.454574629354, 1.0, 76.9813232421875, 28.62997817993164], [0.0, 0.0, 1.0, 76.94630432128906, 28.58506965637207], [7816.0, 70127.9717745776, 1.0, 77.09687042236328, 28.52790641784668], [7271.0, 30992.093290268447, 1.0, 77.26956939697266, 28.49019432067871], [0.0, 0.0, 1.0, 77.45256042480469, 28.501358032226562], [149368.0, 1526120.8281206083, 1.0, 77.08245849609375, 28.445526123046875], [0.0, 0.0, 1.0, 77.42124938964844, 28.62656593322754], [0.0, 0.0, 1.0, 77.5125732421875, 28.638620376586914], [0.0, 0.0, 1.0, 77.03604125976562, 28.729278564453125], [0.0, 0.0, 1.0, 77.04044342041016, 28.69971466064453], [1794.0, 3413.1708354526045, 1.0, 77.09949493408203, 28.664775848388672]]\n"
     ]
    }
   ],
   "source": [
    "values = temp.values\n",
    "print(json.dumps(values.tolist())) # TODO \n",
    "# FINAL"
   ]
  },
  {
   "cell_type": "code",
   "execution_count": null,
   "metadata": {},
   "outputs": [],
   "source": []
  },
  {
   "cell_type": "code",
   "execution_count": null,
   "metadata": {},
   "outputs": [],
   "source": []
  }
 ],
 "metadata": {
  "kernelspec": {
   "display_name": "Python 3",
   "language": "python",
   "name": "python3"
  },
  "language_info": {
   "codemirror_mode": {
    "name": "ipython",
    "version": 3
   },
   "file_extension": ".py",
   "mimetype": "text/x-python",
   "name": "python",
   "nbconvert_exporter": "python",
   "pygments_lexer": "ipython3",
   "version": "3.6.0"
  }
 },
 "nbformat": 4,
 "nbformat_minor": 2
}
