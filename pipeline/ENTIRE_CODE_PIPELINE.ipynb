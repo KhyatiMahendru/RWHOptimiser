{
 "cells": [
  {
   "cell_type": "markdown",
   "metadata": {},
   "source": [
    "## Step 1: Fetch the real world data"
   ]
  },
  {
   "cell_type": "code",
   "execution_count": 2,
   "metadata": {},
   "outputs": [],
   "source": [
    "\n",
    "import json\n",
    "import requests\n",
    "import codecs\n",
    "import numpy as np\n",
    "import pandas as pd\n",
    "import sklearn\n",
    "import seaborn as sns\n",
    "import matplotlib.pyplot as plt\n",
    "\n",
    "from sklearn.datasets import make_blobs\n",
    "\n",
    "# fetching data from file\n",
    "data = None\n",
    "file = '../data/location1.json'\n",
    "with open(file, \"r\") as read_file:\n",
    "    data = json.load(codecs.open(file, 'r', 'utf-8-sig'))\n",
    "\n",
    "coord = []\n",
    "\n",
    "# preprocessing the data\n",
    "for line in data:\n",
    "    coord.append(line['geometry']['coordinates']) \n",
    "    \n",
    "new = []\n",
    "for line in coord:\n",
    "    for points in line:\n",
    "        new.append(points)\n",
    "        \n",
    "# Isolating the dependencies\n",
    "new_coord = np.unique(np.array(coord),axis=0)\n",
    "new_coord.shape\n",
    "dat = pd.DataFrame(new_coord, columns=['x','y'])\n",
    "dat.to_csv(\"real_housing_data_x_y.csv\")"
   ]
  },
  {
   "cell_type": "markdown",
   "metadata": {},
   "source": [
    "#### Defining our constants and variables"
   ]
  },
  {
   "cell_type": "code",
   "execution_count": null,
   "metadata": {},
   "outputs": [],
   "source": [
    "# seed for consistent results\n",
    "RANDOM_SEED = 32\n",
    "np.random.seed(RANDOM_SEED)\n",
    "\n",
    "NUM_HOUSES = len(dat)\n",
    "\n",
    "MEAN_DEMAND_WATER_PER_HOUSE = 100 # LITERS\n",
    "VAR_DEMAND_WATER_PER_HOUSE = 50 # LITERS\n",
    "\n",
    "# This can be evaluated using the vision api\n",
    "MEAN_AREA_PER_HOUSE = 100 # METERS SQUARE\n",
    "VAR_AREA_PER_HOUSE = 50 # METERS SQUARE PER HOUSE\n",
    "\n",
    "RAINFALL_ESTIMATE = 100 # mm\n",
    "FC_TANK_PLACEMENT = 10000 # Rs.\n",
    "FIXED_COST_PIPE_PER_METER = 120 # Rs.\n",
    "COST_PER_LITERS_TANK = 500 # R"
   ]
  },
  {
   "cell_type": "code",
   "execution_count": 6,
   "metadata": {},
   "outputs": [],
   "source": [
    "house_data_x = dat['x'].values\n",
    "house_data_y = dat['y'].values"
   ]
  },
  {
   "cell_type": "code",
   "execution_count": null,
   "metadata": {},
   "outputs": [],
   "source": []
  },
  {
   "cell_type": "code",
   "execution_count": 4,
   "metadata": {},
   "outputs": [
    {
     "data": {
      "text/plain": [
       "Index(['x', 'y'], dtype='object')"
      ]
     },
     "execution_count": 4,
     "metadata": {},
     "output_type": "execute_result"
    }
   ],
   "source": [
    "dat.columns"
   ]
  }
 ],
 "metadata": {
  "kernelspec": {
   "display_name": "Python 3",
   "language": "python",
   "name": "python3"
  },
  "language_info": {
   "codemirror_mode": {
    "name": "ipython",
    "version": 3
   },
   "file_extension": ".py",
   "mimetype": "text/x-python",
   "name": "python",
   "nbconvert_exporter": "python",
   "pygments_lexer": "ipython3",
   "version": "3.6.0"
  }
 },
 "nbformat": 4,
 "nbformat_minor": 2
}
