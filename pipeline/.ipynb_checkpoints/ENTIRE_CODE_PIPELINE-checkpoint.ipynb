{
 "cells": [
  {
   "cell_type": "markdown",
   "metadata": {},
   "source": [
    "## Step 1: Fetch the real world data"
   ]
  },
  {
   "cell_type": "code",
   "execution_count": 30,
   "metadata": {},
   "outputs": [],
   "source": [
    "\n",
    "import json\n",
    "import requests\n",
    "import codecs\n",
    "import numpy as np\n",
    "import pandas as pd\n",
    "import sklearn\n",
    "import seaborn as sns\n",
    "import matplotlib.pyplot as plt\n",
    "import random\n",
    "\n",
    "from sklearn.datasets import make_blobs\n",
    "\n",
    "# fetching data from file, parsing the json\n",
    "data = None\n",
    "file = '../data/location1.json'\n",
    "with open(file, \"r\") as read_file:\n",
    "    data = json.load(codecs.open(file, 'r', 'utf-8-sig'))\n",
    "\n",
    "coord = []\n",
    "\n",
    "# preprocessing the data\n",
    "for line in data:\n",
    "    coord.append(line['geometry']['coordinates']) \n",
    "    \n",
    "new = []\n",
    "for line in coord:\n",
    "    for points in line:\n",
    "        new.append(points)\n",
    "        \n",
    "# Isolating the dependencies\n",
    "new_coord = np.unique(np.array(coord),axis=0)\n",
    "new_coord.shape\n",
    "dat = pd.DataFrame(new_coord, columns=['x','y'])\n",
    "dat.to_csv(\"real_housing_data_x_y.csv\")"
   ]
  },
  {
   "cell_type": "markdown",
   "metadata": {},
   "source": [
    "#### Defining our constants and variables"
   ]
  },
  {
   "cell_type": "code",
   "execution_count": 16,
   "metadata": {},
   "outputs": [],
   "source": [
    "# seed for consistent results\n",
    "RANDOM_SEED = 32\n",
    "np.random.seed(RANDOM_SEED)\n",
    "random.seed(RANDOM_SEED)\n",
    "NUM_HOUSES = len(dat)\n",
    "\n",
    "MEAN_DEMAND_WATER_PER_HOUSE = 100 # LITERS\n",
    "VAR_DEMAND_WATER_PER_HOUSE = 50 # LITERS\n",
    "\n",
    "# This can be evaluated using the vision api\n",
    "MEAN_AREA_PER_HOUSE = 100 # METERS SQUARE\n",
    "VAR_AREA_PER_HOUSE = 50 # METERS SQUARE PER HOUSE\n",
    "\n",
    "RAINFALL_ESTIMATE = 100 # mm\n",
    "FC_TANK_PLACEMENT = 10000 # Rs.\n",
    "FIXED_COST_PIPE_PER_METER = 120 # Rs.\n",
    "COST_PER_LITERS_TANK = 500 # Rs."
   ]
  },
  {
   "cell_type": "code",
   "execution_count": 64,
   "metadata": {},
   "outputs": [],
   "source": [
    "house_data_x = dat['x'].values\n",
    "house_data_y = dat['y'].values\n",
    "\n",
    "# demand\n",
    "demand_per_house = np.array([np.random.normal(loc = MEAN_DEMAND_WATER_PER_HOUSE, scale = VAR_DEMAND_WATER_PER_HOUSE) for i in range(NUM_HOUSES)])\n",
    "\n",
    "#area\n",
    "area_per_house = np.array([np.random.normal(loc = MEAN_AREA_PER_HOUSE, scale = VAR_AREA_PER_HOUSE) for i in range(NUM_HOUSES)])\n",
    "\n",
    "# rainfall estimation\n",
    "rainfall_estimate_for_city =  np.array([RAINFALL_ESTIMATE for i in range(NUM_HOUSES)]) # FLOAT\n",
    "\n",
    "# capacity of the tanks per house (DERIVED)\n",
    "capacity_for_tank_per_house = np.array([area_per_house[i]* RAINFALL_ESTIMATE/1000  for i in range(NUM_HOUSES)])\n",
    "\n",
    "# average_length_of_pipe_per_house\n",
    "average_length_of_pipe_per_house = np.random.normal(loc = 30, scale = 40, size = NUM_HOUSES)\n",
    "\n",
    "# fixed_cost_of_tank_placement_per_house\n",
    "fixed_cost_of_tank_placement_per_house = np.array([FC_TANK_PLACEMENT for i in range(NUM_HOUSES)])\n",
    "\n",
    "# cost_per_liters_tank\n",
    "cost_per_liters_tank_per_house = np.array([COST_PER_LITERS_TANK for i in range(NUM_HOUSES)])\n"
   ]
  },
  {
   "cell_type": "code",
   "execution_count": 66,
   "metadata": {},
   "outputs": [
    {
     "name": "stdout",
     "output_type": "stream",
     "text": [
      "House_data_x (1111,)\n",
      "House_data_y (1111,)\n",
      "Demand_per_house (1111,)\n",
      "Capacity_for_tank_per_house (1111,)\n",
      "Rainfall_estimate_for_city (1111,)\n",
      "Average_length_of_pipe_per_house (1111,)\n",
      "fixed_cost_of_tank_placement_per_house (1111,)\n",
      "cost_per_liters_tank_per_house (1111,)\n"
     ]
    }
   ],
   "source": [
    "print('House_data_x', (house_data_x.shape) )\n",
    "print('House_data_y', (house_data_y.shape))\n",
    "print('Demand_per_house', (demand_per_house.shape))\n",
    "print('Capacity_for_tank_per_house', (capacity_for_tank_per_house.shape))\n",
    "print('Rainfall_estimate_for_city', (rainfall_estimate_for_city.shape))\n",
    "print('Average_length_of_pipe_per_house', (average_length_of_pipe_per_house.shape))\n",
    "print('fixed_cost_of_tank_placement_per_house', (fixed_cost_of_tank_placement_per_house.shape))\n",
    "print('cost_per_liters_tank_per_house', (cost_per_liters_tank_per_house.shape))\n"
   ]
  },
  {
   "cell_type": "code",
   "execution_count": 23,
   "metadata": {},
   "outputs": [
    {
     "data": {
      "image/png": "[encoded data removed]",
      "text/plain": [
       "<Figure size 432x288 with 1 Axes>"
      ]
     },
     "metadata": {
      "needs_background": "light"
     },
     "output_type": "display_data"
    }
   ],
   "source": [
    "# sns.scatterplot(house_data_x, house_data_y, hue = house_data_labels)\n",
    "# plt.figure(figsize = (12,12))\n",
    "plt.scatter(x= house_data_x, y= house_data_y )\n",
    "plt.xlabel(\"house x\")\n",
    "plt.ylabel(\"house y\")\n",
    "plt.show()\n"
   ]
  },
  {
   "cell_type": "code",
   "execution_count": 67,
   "metadata": {},
   "outputs": [
    {
     "data": {
      "text/html": [
       "<div>\n",
       "<style scoped>\n",
       "    .dataframe tbody tr th:only-of-type {\n",
       "        vertical-align: middle;\n",
       "    }\n",
       "\n",
       "    .dataframe tbody tr th {\n",
       "        vertical-align: top;\n",
       "    }\n",
       "\n",
       "    .dataframe thead th {\n",
       "        text-align: right;\n",
       "    }\n",
       "</style>\n",
       "<table border=\"1\" class=\"dataframe\">\n",
       "  <thead>\n",
       "    <tr style=\"text-align: right;\">\n",
       "      <th></th>\n",
       "      <th>house_data_x</th>\n",
       "      <th>house_data_y</th>\n",
       "      <th>demand_per_house_liters</th>\n",
       "      <th>area_per_house_metersq</th>\n",
       "      <th>capacity_for_tank_per_house_lt</th>\n",
       "      <th>rainfall_estimate_for_city_mm</th>\n",
       "      <th>average_length_of_pipe_per_house</th>\n",
       "      <th>fixed_cost_of_tank_placement_per_house</th>\n",
       "      <th>cost_per_liters_tank_per_house</th>\n",
       "    </tr>\n",
       "  </thead>\n",
       "  <tbody>\n",
       "    <tr>\n",
       "      <th>0</th>\n",
       "      <td>76.824</td>\n",
       "      <td>28.447</td>\n",
       "      <td>68.870</td>\n",
       "      <td>85.958</td>\n",
       "      <td>8.596</td>\n",
       "      <td>100</td>\n",
       "      <td>42.717</td>\n",
       "      <td>10000</td>\n",
       "      <td>500</td>\n",
       "    </tr>\n",
       "    <tr>\n",
       "      <th>1</th>\n",
       "      <td>76.892</td>\n",
       "      <td>28.468</td>\n",
       "      <td>130.274</td>\n",
       "      <td>126.353</td>\n",
       "      <td>12.635</td>\n",
       "      <td>100</td>\n",
       "      <td>24.552</td>\n",
       "      <td>10000</td>\n",
       "      <td>500</td>\n",
       "    </tr>\n",
       "    <tr>\n",
       "      <th>2</th>\n",
       "      <td>76.923</td>\n",
       "      <td>28.472</td>\n",
       "      <td>121.357</td>\n",
       "      <td>-11.073</td>\n",
       "      <td>-1.107</td>\n",
       "      <td>100</td>\n",
       "      <td>68.078</td>\n",
       "      <td>10000</td>\n",
       "      <td>500</td>\n",
       "    </tr>\n",
       "    <tr>\n",
       "      <th>3</th>\n",
       "      <td>76.933</td>\n",
       "      <td>28.690</td>\n",
       "      <td>174.917</td>\n",
       "      <td>113.416</td>\n",
       "      <td>11.342</td>\n",
       "      <td>100</td>\n",
       "      <td>66.364</td>\n",
       "      <td>10000</td>\n",
       "      <td>500</td>\n",
       "    </tr>\n",
       "    <tr>\n",
       "      <th>4</th>\n",
       "      <td>76.961</td>\n",
       "      <td>28.476</td>\n",
       "      <td>48.527</td>\n",
       "      <td>80.773</td>\n",
       "      <td>8.077</td>\n",
       "      <td>100</td>\n",
       "      <td>8.051</td>\n",
       "      <td>10000</td>\n",
       "      <td>500</td>\n",
       "    </tr>\n",
       "  </tbody>\n",
       "</table>\n",
       "</div>"
      ],
      "text/plain": [
       "   house_data_x  house_data_y  demand_per_house_liters  \\\n",
       "0        76.824        28.447                   68.870   \n",
       "1        76.892        28.468                  130.274   \n",
       "2        76.923        28.472                  121.357   \n",
       "3        76.933        28.690                  174.917   \n",
       "4        76.961        28.476                   48.527   \n",
       "\n",
       "   area_per_house_metersq  capacity_for_tank_per_house_lt  \\\n",
       "0                  85.958                           8.596   \n",
       "1                 126.353                          12.635   \n",
       "2                 -11.073                          -1.107   \n",
       "3                 113.416                          11.342   \n",
       "4                  80.773                           8.077   \n",
       "\n",
       "   rainfall_estimate_for_city_mm  average_length_of_pipe_per_house  \\\n",
       "0                            100                            42.717   \n",
       "1                            100                            24.552   \n",
       "2                            100                            68.078   \n",
       "3                            100                            66.364   \n",
       "4                            100                             8.051   \n",
       "\n",
       "   fixed_cost_of_tank_placement_per_house  cost_per_liters_tank_per_house  \n",
       "0                                   10000                             500  \n",
       "1                                   10000                             500  \n",
       "2                                   10000                             500  \n",
       "3                                   10000                             500  \n",
       "4                                   10000                             500  "
      ]
     },
     "execution_count": 67,
     "metadata": {},
     "output_type": "execute_result"
    }
   ],
   "source": [
    "df = pd.DataFrame(data = None, columns = None)\n",
    "df['house_data_x'] = house_data_x\n",
    "df['house_data_y'] = house_data_y\n",
    "df['demand_per_house_liters'] = demand_per_house\n",
    "df['area_per_house_metersq'] = area_per_house\n",
    "df['capacity_for_tank_per_house_lt'] = capacity_for_tank_per_house\n",
    "df['rainfall_estimate_for_city_mm'] = rainfall_estimate_for_city\n",
    "df['average_length_of_pipe_per_house'] = average_length_of_pipe_per_house\n",
    "df['fixed_cost_of_tank_placement_per_house'] = fixed_cost_of_tank_placement_per_house\n",
    "df['cost_per_liters_tank_per_house'] = cost_per_liters_tank_per_house\n",
    "\n",
    "\n",
    "df = df.round(3)\n",
    "df.head()"
   ]
  },
  {
   "cell_type": "code",
   "execution_count": 68,
   "metadata": {},
   "outputs": [],
   "source": [
    "df.to_csv(\"data.csv\", index= False, header=True)"
   ]
  },
  {
   "cell_type": "markdown",
   "metadata": {},
   "source": [
    "Generating or getting the data for the tanks:\n",
    "\n",
    "- Web App allows us to pip point the map and get the generated data in csv format"
   ]
  },
  {
   "cell_type": "code",
   "execution_count": 69,
   "metadata": {},
   "outputs": [],
   "source": [
    "NUM_TANKS = 50\n",
    "\n",
    "tank_locator = np.array([random.random() for _ in range(NUM_HOUSES)])\n",
    "\n",
    "# get the 50 nodes with max values and their index\n",
    "idx = (-tank_locator).argsort()[:NUM_TANKS]\n",
    "tank_data_x, tank_data_y = house_data_x[idx], house_data_y[idx]\n",
    "\n",
    "tanksdf = pd.DataFrame(data = None, columns = None)\n",
    "tanksdf['tanks_x'] = tank_data_x\n",
    "tanksdf['tanks_y'] = tank_data_y\n",
    "tanksdf = tanksdf.round(3)\n",
    "tanksdf.to_csv(\"tanks_loc.csv\", index = False, header = True)"
   ]
  },
  {
   "cell_type": "markdown",
   "metadata": {},
   "source": [
    "# Solution 1: Clustering"
   ]
  },
  {
   "cell_type": "code",
   "execution_count": 70,
   "metadata": {},
   "outputs": [
    {
     "name": "stdout",
     "output_type": "stream",
     "text": [
      "   house_data_x  house_data_y  demand_per_house_liters  \\\n",
      "0        76.824        28.447                   68.870   \n",
      "1        76.892        28.468                  130.274   \n",
      "2        76.923        28.472                  121.357   \n",
      "\n",
      "   area_per_house_metersq  capacity_for_tank_per_house_lt  \\\n",
      "0                  85.958                           8.596   \n",
      "1                 126.353                          12.635   \n",
      "2                 -11.073                          -1.107   \n",
      "\n",
      "   rainfall_estimate_for_city_mm  average_length_of_pipe_per_house  \\\n",
      "0                            100                            42.717   \n",
      "1                            100                            24.552   \n",
      "2                            100                            68.078   \n",
      "\n",
      "   fixed_cost_of_tank_placement_per_house  cost_per_liters_tank_per_house  \n",
      "0                                   10000                             500  \n",
      "1                                   10000                             500  \n",
      "2                                   10000                             500  \n",
      "\n",
      "   tanks_x  tanks_y\n",
      "0   77.280   28.370\n",
      "1   77.188   28.538\n",
      "2   77.351   28.554\n"
     ]
    }
   ],
   "source": [
    "tanks = pd.read_csv(\"tanks_loc.csv\")\n",
    "houses = pd.read_csv(\"data.csv\")\n",
    "\n",
    "print(houses.head(3))\n",
    "print()\n",
    "print(tanks.head(3))"
   ]
  },
  {
   "cell_type": "code",
   "execution_count": 87,
   "metadata": {},
   "outputs": [
    {
     "name": "stdout",
     "output_type": "stream",
     "text": [
      "Number of tanks and houses are:  50 1111\n",
      "houses clustered to tanks\n",
      "Tank index = 0 \n",
      "houses: [747, 799, 816, 886, 1010, 1011, 1012, 1015, 1019, 1046, 1057]\n",
      "\n",
      "Tank index = 1 \n",
      "houses: [675, 724, 727, 732, 737, 738, 743, 777, 778, 779, 781, 786]\n",
      "\n",
      "Tank index = 2 \n",
      "houses: [1099, 1103, 1109]\n",
      "\n",
      "Tank index = 3 \n",
      "houses: [942, 943, 944, 945, 946, 948, 949, 951, 952, 953, 954, 955, 956, 957, 958, 959, 960, 961, 962, 963, 965, 966, 968, 969, 970, 971, 972, 973, 974, 975, 976, 977, 978, 979, 980, 981, 982, 990, 993, 996, 1002, 1004, 1007, 1008]\n",
      "\n",
      "Tank index = 4 \n",
      "houses: [285, 320, 322, 324, 328, 332, 335, 338, 340, 341, 343, 345, 348, 351, 354, 355, 356, 357, 358, 362, 364, 365, 367, 373, 377, 384, 386, 388, 391, 393, 394, 396, 397]\n",
      "\n",
      "Tank index = 5 \n",
      "houses: [721, 725, 730, 735, 740, 741, 745, 746, 748, 750, 751, 752, 753, 754, 755, 756, 757, 758, 759, 760, 761, 762, 763, 764, 765, 766, 767, 768, 769, 770, 771, 772, 774, 776, 782, 784, 787, 788, 805]\n",
      "\n",
      "Tank index = 6 \n",
      "houses: [795, 820, 824, 925, 926, 928, 930, 932, 934, 935, 936, 937, 938, 939, 940, 941]\n",
      "\n"
     ]
    }
   ],
   "source": [
    "# defining the variables\n",
    "NUM_TANKS = len(tanks)\n",
    "NUM_HOUSES = len(houses)\n",
    "print('Number of tanks and houses are: ',NUM_TANKS, NUM_HOUSES )\n",
    "\n",
    "# FOR EVERY HOUSE AND TANK, ASSIGN EVERY HOUSE A NEAREST TANK BASED ON THE CLUSTER\n",
    "\n",
    "# CREATING 2D ARRAY OF TANKS\n",
    "tanks_houses = [[] for j in range(NUM_TANKS)]\n",
    "\n",
    "for i in range(len(houses)):\n",
    "    # LOC OF HOUSE\n",
    "    hx, hy = houses.house_data_x.iloc[i],houses.house_data_y.iloc[i]\n",
    "    min_dist_from_house_to_tank = np.inf\n",
    "    min_dist_tank = None\n",
    "    hx*=1000\n",
    "    hy*=1000\n",
    "    \n",
    "    for j in range(len(tanks)):\n",
    "        # LOC OF TANKS\n",
    "        tx, ty = tanks.tanks_x.iloc[j], tanks.tanks_y.iloc[j]\n",
    "        \n",
    "        # converting lat long to the actual distance based coordinates\n",
    "        # can be optimised\n",
    "        \n",
    "        tx*=1000\n",
    "        ty*=1000\n",
    "        # DIST ~ APPROX ~ EUCLIDIAN DISTANCE\n",
    "        dist = np.sqrt( (ty- hy)**2 + (tx- hx)**2)\n",
    "        \n",
    "        if dist<min_dist_from_house_to_tank:\n",
    "            min_dist_from_house_to_tank = dist\n",
    "            min_dist_tank = j\n",
    "            \n",
    "    tanks_houses[min_dist_tank].append(i) # appending the house\n",
    "    \n",
    "print('houses clustered to tanks')\n",
    "tank_index = 0\n",
    "for x in tanks_houses[:7]:\n",
    "    print('Tank index = {0}'.format(tank_index),'\\nhouses:',x)\n",
    "    print()\n",
    "    tank_index+=1"
   ]
  },
  {
   "cell_type": "code",
   "execution_count": 100,
   "metadata": {},
   "outputs": [
    {
     "name": "stdout",
     "output_type": "stream",
     "text": [
      "capacity of jth tank(10 tanks here) [10418, 8977, 3311, 42614, 11769, 29630, 14580, 11070, 600, 18670]\n",
      "\n",
      "\n",
      "tanks with no capacity(no houses connected) are: [22, 31, 47]\n"
     ]
    }
   ],
   "source": [
    "# ASSUMING THE DATA FOR CIJ\n",
    "def calculate_capacity_of_tanks(tanks_houses):\n",
    "    capacity_of_jth_tank = []\n",
    "    for j in range(len(tanks_houses)):\n",
    "        houses_tank = tanks_houses[j]\n",
    "        capacity = np.sum(houses_tank)\n",
    "        capacity_of_jth_tank.append(capacity)\n",
    "    return capacity_of_jth_tank\n",
    "capacity_of_jth_tank= calculate_capacity_of_tanks(tanks_houses)\n",
    "print('capacity of jth tank(10 tanks here)',capacity_of_jth_tank[:10]) \n",
    "print()\n",
    "print()\n",
    "print('tanks with no capacity(no houses connected) are:', [tank for tank in range(len(capacity_of_jth_tank)) if capacity_of_jth_tank[tank]<=0])\n"
   ]
  },
  {
   "cell_type": "markdown",
   "metadata": {},
   "source": [
    "Main step is to calculate the CIJ,tie the cost of pipe from i'th house to j'th tank\n",
    "\n",
    "- can be optimised\n",
    "- moving forward with the assumptions"
   ]
  },
  {
   "cell_type": "code",
   "execution_count": 90,
   "metadata": {},
   "outputs": [
    {
     "name": "stdout",
     "output_type": "stream",
     "text": [
      "(1111, 50)\n"
     ]
    }
   ],
   "source": [
    "# CIJ CALCULATION\n",
    "FIXED_COST_OF_PIPES_PER_METER = 120\n",
    "CIJ = [[0 for i in range(NUM_TANKS)] for j in range(NUM_HOUSES)]\n",
    "print(np.array(CIJ).shape) # TODO\n",
    "\n",
    "for i in range(NUM_HOUSES):\n",
    "    hx, hy = houses.house_data_x.iloc[i],houses.house_data_y.iloc[i]\n",
    "    hx*=1000\n",
    "    hy*=1000\n",
    "    for j in range(NUM_TANKS):\n",
    "        tx, ty = tanks.tanks_x.iloc[j], tanks.tanks_y.iloc[j]\n",
    "        \n",
    "        tx*=1000\n",
    "        ty*=1000\n",
    "        dist = np.sqrt( (ty- hy)**2 + (tx- hx)**2)\n",
    "        \n",
    "        CIJ[i][j]= dist*FIXED_COST_OF_PIPES_PER_METER\n",
    "\n",
    "CIJ = np.array(CIJ)\n"
   ]
  },
  {
   "cell_type": "code",
   "execution_count": 105,
   "metadata": {},
   "outputs": [
    {
     "data": {
      "text/plain": [
       "[43235.439769247234,\n",
       " 28288.363090858427,\n",
       " 7376.336669355642,\n",
       " 30764.56069697596,\n",
       " 6709.191413987371,\n",
       " 46207.7203294211,\n",
       " 10182.803164187497,\n",
       " 37169.735683365725,\n",
       " 19333.839576034006,\n",
       " 46204.28884166629,\n",
       " 7423.095114188481,\n",
       " 183100.0164868678,\n",
       " 65951.1445044639,\n",
       " 33199.40447554171,\n",
       " 63026.30938620484,\n",
       " 2450.2378447074743,\n",
       " 500.0,\n",
       " 21086.12617455732,\n",
       " 19661.59006063299,\n",
       " 1758.2337649130252,\n",
       " 6867.739412266958,\n",
       " 44797.14909881604,\n",
       " 0,\n",
       " 6141.27645130106,\n",
       " 13748.723887678027,\n",
       " 1969.1168824561137,\n",
       " 34021.976919171946,\n",
       " 45337.07126194125,\n",
       " 500.0,\n",
       " 12005.182889565165,\n",
       " 3305.812899841613,\n",
       " 0,\n",
       " 141627.5059515751,\n",
       " 15789.226682867968,\n",
       " 25988.565719670965,\n",
       " 6309.001952666584,\n",
       " 61102.36821094328,\n",
       " 35073.29250695288,\n",
       " 3127.15066723867,\n",
       " 5650.031090472889,\n",
       " 34891.79461211851,\n",
       " 270320.21312130877,\n",
       " 2738.0337847835117,\n",
       " 500.0,\n",
       " 71083.57348498814,\n",
       " 38150.63136776345,\n",
       " 1416.129633820155,\n",
       " 0,\n",
       " 22017.19788550918,\n",
       " 7159.636970268094]"
      ]
     },
     "execution_count": 105,
     "metadata": {},
     "output_type": "execute_result"
    }
   ],
   "source": [
    "cost_of_setting_jth_tank = []\n",
    "for j in range(len(tanks_houses)):\n",
    "    houses_linked_to_tank = tanks_houses[j]\n",
    "    cost = 0\n",
    "    if capacity_of_jth_tank[j] >0: \n",
    "        cost = houses.cost_per_liters_tank_per_house[j]\n",
    "    else :\n",
    "        cost = 0\n",
    "        \n",
    "    for house_index in (houses_linked_to_tank):\n",
    "        cost += CIJ[house_index][j]\n",
    "    \n",
    "    cost_of_setting_jth_tank.append(cost)\n",
    "        \n",
    "zip(cost_of_setting_jth_tank) # TODO"
   ]
  },
  {
   "cell_type": "code",
   "execution_count": 86,
   "metadata": {},
   "outputs": [
    {
     "data": {
      "text/html": [
       "<div>\n",
       "<style scoped>\n",
       "    .dataframe tbody tr th:only-of-type {\n",
       "        vertical-align: middle;\n",
       "    }\n",
       "\n",
       "    .dataframe tbody tr th {\n",
       "        vertical-align: top;\n",
       "    }\n",
       "\n",
       "    .dataframe thead th {\n",
       "        text-align: right;\n",
       "    }\n",
       "</style>\n",
       "<table border=\"1\" class=\"dataframe\">\n",
       "  <thead>\n",
       "    <tr style=\"text-align: right;\">\n",
       "      <th></th>\n",
       "      <th>capacity</th>\n",
       "      <th>cost_of_making</th>\n",
       "      <th>stability</th>\n",
       "      <th>x</th>\n",
       "      <th>y</th>\n",
       "    </tr>\n",
       "  </thead>\n",
       "  <tbody>\n",
       "    <tr>\n",
       "      <th>0</th>\n",
       "      <td>616605.0</td>\n",
       "      <td>30908.570312</td>\n",
       "      <td>1.0</td>\n",
       "      <td>77.279999</td>\n",
       "      <td>28.370001</td>\n",
       "    </tr>\n",
       "    <tr>\n",
       "      <th>1</th>\n",
       "      <td>0.0</td>\n",
       "      <td>500.000000</td>\n",
       "      <td>1.0</td>\n",
       "      <td>77.188004</td>\n",
       "      <td>28.538000</td>\n",
       "    </tr>\n",
       "    <tr>\n",
       "      <th>2</th>\n",
       "      <td>0.0</td>\n",
       "      <td>500.000000</td>\n",
       "      <td>1.0</td>\n",
       "      <td>77.350998</td>\n",
       "      <td>28.554001</td>\n",
       "    </tr>\n",
       "    <tr>\n",
       "      <th>3</th>\n",
       "      <td>0.0</td>\n",
       "      <td>500.000000</td>\n",
       "      <td>1.0</td>\n",
       "      <td>77.245003</td>\n",
       "      <td>28.531000</td>\n",
       "    </tr>\n",
       "    <tr>\n",
       "      <th>4</th>\n",
       "      <td>0.0</td>\n",
       "      <td>500.000000</td>\n",
       "      <td>1.0</td>\n",
       "      <td>77.059998</td>\n",
       "      <td>28.433001</td>\n",
       "    </tr>\n",
       "  </tbody>\n",
       "</table>\n",
       "</div>"
      ],
      "text/plain": [
       "   capacity  cost_of_making  stability          x          y\n",
       "0  616605.0    30908.570312        1.0  77.279999  28.370001\n",
       "1       0.0      500.000000        1.0  77.188004  28.538000\n",
       "2       0.0      500.000000        1.0  77.350998  28.554001\n",
       "3       0.0      500.000000        1.0  77.245003  28.531000\n",
       "4       0.0      500.000000        1.0  77.059998  28.433001"
      ]
     },
     "execution_count": 86,
     "metadata": {},
     "output_type": "execute_result"
    }
   ],
   "source": [
    "# giving the data to the backend of our web application\n",
    "import numpy as np\n",
    "import codecs, json \n",
    "\n",
    "List = [{} for j in range(NUM_TANKS)]\n",
    "\n",
    "for j in range(NUM_TANKS):\n",
    "    List[j]['x'] = tanks['tanks_x'].iloc[j].astype('float32')\n",
    "    List[j]['y'] = tanks['tanks_y'].iloc[j].astype('float32')\n",
    "    List[j]['stability'] = 1.00\n",
    "    List[j]['capacity'] = capacity_of_jth_tank[j].astype('float32')\n",
    "    List[j]['cost_of_making'] = cost_of_setting_jth_tank[j].astype('float32')\n",
    "    \n",
    "temp = pd.DataFrame(List)\n",
    "temp.head()"
   ]
  },
  {
   "cell_type": "markdown",
   "metadata": {},
   "source": [
    "### Tanks that should not be constructed"
   ]
  },
  {
   "cell_type": "code",
   "execution_count": 79,
   "metadata": {},
   "outputs": [
    {
     "name": "stdout",
     "output_type": "stream",
     "text": [
      "tanks with no capacity(no houses connected) are: [22, 31, 47]\n"
     ]
    }
   ],
   "source": [
    "print('tanks with no capacity(no houses connected) are:', [tank for tank in range(len(capacity_of_jth_tank)) if capacity_of_jth_tank[tank]==0])"
   ]
  },
  {
   "cell_type": "markdown",
   "metadata": {},
   "source": [
    "## JSON passed to backend of the website"
   ]
  },
  {
   "cell_type": "code",
   "execution_count": 78,
   "metadata": {},
   "outputs": [
    {
     "name": "stdout",
     "output_type": "stream",
     "text": [
      "[[10418.0, 542.7354125976562, 1.0, 77.27999877929688, 28.3700008392334], [8977.0, 527.7883911132812, 1.0, 77.18800354003906, 28.538000106811523], [3311.0, 506.8763427734375, 1.0, 77.35099792480469, 28.554000854492188], [42614.0, 530.2645874023438, 1.0, 77.24500274658203, 28.5310001373291], [7221.0, 503.95489501953125, 1.0, 77.05999755859375, 28.433000564575195], [29630.0, 545.7077026367188, 1.0, 77.1989974975586, 28.569000244140625], [14580.0, 509.68280029296875, 1.0, 77.24400329589844, 28.5310001373291], [11070.0, 536.6697387695312, 1.0, 77.22000122070312, 28.628000259399414], [600.0, 518.8338623046875, 1.0, 77.03800201416016, 28.45199966430664], [18670.0, 545.7042846679688, 1.0, 77.28700256347656, 28.618000030517578], [1420.0, 506.923095703125, 1.0, 77.052001953125, 28.459999084472656], [77862.0, 682.6000366210938, 1.0, 77.23500061035156, 28.658000946044922], [25878.0, 565.451171875, 1.0, 77.08699798583984, 28.461999893188477], [39236.0, 532.6994018554688, 1.0, 77.23999786376953, 28.538000106811523], [24508.0, 562.5263061523438, 1.0, 77.29199981689453, 28.433000564575195], [1100.0, 501.9502258300781, 1.0, 77.05799865722656, 28.450000762939453], [203.0, 500.0, 1.0, 77.0510025024414, 28.44300079345703], [2147.0, 520.5861206054688, 1.0, 77.03299713134766, 28.509000778198242], [14932.0, 522.2208862304688, 1.0, 77.05999755859375, 28.430999755859375], [1490.0, 501.25823974609375, 1.0, 77.052001953125, 28.433000564575195], [3430.0, 505.4077453613281, 1.0, 77.04499816894531, 28.41900062561035], [5938.0, 542.7325439453125, 1.0, 77.04499816894531, 28.416000366210938], [0.0, 500.0, 1.0, 77.23500061035156, 28.658000946044922], [2212.0, 505.6412658691406, 1.0, 77.35900115966797, 28.576000213623047], [2401.0, 512.2886962890625, 1.0, 77.04299926757812, 28.41900062561035], [3712.0, 501.589111328125, 1.0, 77.05400085449219, 28.43199920654297], [3808.0, 533.52197265625, 1.0, 77.03500366210938, 28.511999130249023], [9923.0, 544.8370971679688, 1.0, 77.3479995727539, 28.586999893188477], [731.0, 500.0, 1.0, 77.1780014038086, 28.52199935913086], [13647.0, 511.50518798828125, 1.0, 77.0770034790039, 28.469999313354492], [6111.0, 502.8058166503906, 1.0, 77.08699798583984, 28.48200035095215], [0.0, 500.0, 1.0, 77.1989974975586, 28.569000244140625], [9320.0, 641.1275024414062, 1.0, 77.06600189208984, 28.597999572753906], [8686.0, 515.2892456054688, 1.0, 77.08799743652344, 28.482999801635742], [16725.0, 526.2481689453125, 1.0, 77.05699920654297, 28.43000030517578], [7929.0, 505.8089904785156, 1.0, 77.06099700927734, 28.472999572753906], [21275.0, 560.6023559570312, 1.0, 77.28900146484375, 28.375], [34449.0, 534.5733032226562, 1.0, 77.08200073242188, 28.485000610351562], [3846.0, 502.50714111328125, 1.0, 77.05500030517578, 28.433000564575195], [10430.0, 505.1500244140625, 1.0, 77.28800201416016, 28.615999221801758], [14990.0, 534.3917846679688, 1.0, 77.2509994506836, 28.569000244140625], [20892.0, 769.8201904296875, 1.0, 77.15399932861328, 28.652999877929688], [1320.0, 502.238037109375, 1.0, 77.0510025024414, 28.434999465942383], [3078.0, 500.0, 1.0, 77.28600311279297, 28.614999771118164], [62155.0, 570.5835571289062, 1.0, 77.16400146484375, 28.510000228881836], [20.0, 537.650634765625, 1.0, 76.96299743652344, 28.488000869750977], [3769.0, 502.83612060546875, 1.0, 77.04399871826172, 28.420000076293945], [0.0, 500.0, 1.0, 77.23500061035156, 28.658000946044922], [8371.0, 521.5172119140625, 1.0, 77.3030014038086, 28.511999130249023], [1570.0, 506.6596374511719, 1.0, 77.06700134277344, 28.44300079345703]]\n"
     ]
    }
   ],
   "source": [
    "values = temp.values\n",
    "print(json.dumps(values.tolist())) # TODO \n",
    "# FINAL"
   ]
  },
  {
   "cell_type": "code",
   "execution_count": null,
   "metadata": {},
   "outputs": [],
   "source": []
  },
  {
   "cell_type": "code",
   "execution_count": null,
   "metadata": {},
   "outputs": [],
   "source": []
  }
 ],
 "metadata": {
  "kernelspec": {
   "display_name": "Python 3",
   "language": "python",
   "name": "python3"
  },
  "language_info": {
   "codemirror_mode": {
    "name": "ipython",
    "version": 3
   },
   "file_extension": ".py",
   "mimetype": "text/x-python",
   "name": "python",
   "nbconvert_exporter": "python",
   "pygments_lexer": "ipython3",
   "version": "3.6.0"
  }
 },
 "nbformat": 4,
 "nbformat_minor": 2
}
