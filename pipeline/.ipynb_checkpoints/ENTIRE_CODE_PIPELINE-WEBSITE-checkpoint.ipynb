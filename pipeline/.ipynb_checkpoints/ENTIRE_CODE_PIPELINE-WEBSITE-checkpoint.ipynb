{
 "cells": [
  {
   "cell_type": "markdown",
   "metadata": {},
   "source": [
    "## Step 1: Fetch the real world data\n",
    "\n",
    "- DATA FROM JSON TO CSV\n"
   ]
  },
  {
   "cell_type": "code",
   "execution_count": 20,
   "metadata": {},
   "outputs": [],
   "source": [
    "\n",
    "import json\n",
    "import requests\n",
    "import codecs\n",
    "import numpy as np\n",
    "import pandas as pd\n",
    "import sklearn\n",
    "import seaborn as sns\n",
    "import matplotlib.pyplot as plt\n",
    "import random\n",
    "\n",
    "from sklearn.datasets import make_blobs\n",
    "\n",
    "# fetching data from file, parsing the json\n",
    "data = None\n",
    "file = '../data/location1.json'\n",
    "with open(file, \"r\") as read_file:\n",
    "    data = json.load(codecs.open(file, 'r', 'utf-8-sig'))\n",
    "\n",
    "coord = []\n",
    "\n",
    "# preprocessing the data\n",
    "for line in data:\n",
    "    coord.append(line['geometry']['coordinates']) \n",
    "    \n",
    "new = []\n",
    "for line in coord:\n",
    "    for points in line:\n",
    "        new.append(points)\n",
    "        \n",
    "# Isolating the dependencies\n",
    "new_coord = np.unique(np.array(coord),axis=0)\n",
    "new_coord.shape\n",
    "dat = pd.DataFrame(new_coord, columns=['x','y'])\n",
    "dat.to_csv(\"real_housing_data_x_y.csv\")"
   ]
  },
  {
   "cell_type": "markdown",
   "metadata": {},
   "source": [
    "#### Defining our constants and variables"
   ]
  },
  {
   "cell_type": "code",
   "execution_count": 21,
   "metadata": {},
   "outputs": [],
   "source": [
    "# seed for consistent results\n",
    "RANDOM_SEED = 32\n",
    "np.random.seed(RANDOM_SEED)\n",
    "random.seed(RANDOM_SEED)\n",
    "NUM_HOUSES = len(dat)\n",
    "\n",
    "MEAN_DEMAND_WATER_PER_HOUSE = 100 # LITERS\n",
    "VAR_DEMAND_WATER_PER_HOUSE = 50 # LITERS\n",
    "\n",
    "# This can be evaluated using the vision api\n",
    "MEAN_AREA_PER_HOUSE = 100 # METERS SQUARE\n",
    "VAR_AREA_PER_HOUSE = 50 # METERS SQUARE PER HOUSE\n",
    "\n",
    "RAINFALL_ESTIMATE = 100 # mm\n",
    "FC_TANK_PLACEMENT = 10000 # Rs.\n",
    "FIXED_COST_PIPE_PER_METER = 120 # Rs.\n",
    "COST_PER_LITERS_TANK = 500 # Rs."
   ]
  },
  {
   "cell_type": "markdown",
   "metadata": {},
   "source": [
    "## Data to save and feed to algorithm"
   ]
  },
  {
   "cell_type": "code",
   "execution_count": 22,
   "metadata": {},
   "outputs": [],
   "source": [
    "house_data_x = dat['x'].values\n",
    "house_data_y = dat['y'].values\n",
    "\n",
    "# demand\n",
    "demand_per_house = np.array([np.random.normal(loc = MEAN_DEMAND_WATER_PER_HOUSE, scale = VAR_DEMAND_WATER_PER_HOUSE) for i in range(NUM_HOUSES)])\n",
    "\n",
    "#area\n",
    "area_per_house = np.array([np.random.normal(loc = MEAN_AREA_PER_HOUSE, scale = VAR_AREA_PER_HOUSE) for i in range(NUM_HOUSES)])\n",
    "\n",
    "# rainfall estimation\n",
    "rainfall_estimate_for_city =  np.array([RAINFALL_ESTIMATE for i in range(NUM_HOUSES)]) # FLOAT\n",
    "\n",
    "# capacity of the tanks per house (DERIVED)\n",
    "capacity_for_tank_per_house = np.array([area_per_house[i]* RAINFALL_ESTIMATE/1000  for i in range(NUM_HOUSES)])\n",
    "\n",
    "# average_length_of_pipe_per_house\n",
    "average_length_of_pipe_per_house = np.random.normal(loc = 30, scale = 40, size = NUM_HOUSES)\n",
    "\n",
    "# fixed_cost_of_tank_placement_per_house\n",
    "fixed_cost_of_tank_placement_per_house = np.array([FC_TANK_PLACEMENT for i in range(NUM_HOUSES)])\n",
    "\n",
    "# cost_per_liters_tank\n",
    "cost_per_liters_tank_per_house = np.array([COST_PER_LITERS_TANK for i in range(NUM_HOUSES)])\n"
   ]
  },
  {
   "cell_type": "code",
   "execution_count": 23,
   "metadata": {},
   "outputs": [],
   "source": [
    "# print('House_data_x', (house_data_x.shape) )\n",
    "# print('House_data_y', (house_data_y.shape))\n",
    "# print('Demand_per_house', (demand_per_house.shape))\n",
    "# print('Capacity_for_tank_per_house', (capacity_for_tank_per_house.shape))\n",
    "# print('Rainfall_estimate_for_city', (rainfall_estimate_for_city.shape))\n",
    "# print('Average_length_of_pipe_per_house', (average_length_of_pipe_per_house.shape))\n",
    "# print('fixed_cost_of_tank_placement_per_house', (fixed_cost_of_tank_placement_per_house.shape))\n",
    "# print('cost_per_liters_tank_per_house', (cost_per_liters_tank_per_house.shape))\n"
   ]
  },
  {
   "cell_type": "markdown",
   "metadata": {},
   "source": [
    "## A visual representation of our data"
   ]
  },
  {
   "cell_type": "code",
   "execution_count": 24,
   "metadata": {},
   "outputs": [],
   "source": [
    "# sns.scatterplot(house_data_x, house_data_y, hue = house_data_labels)\n",
    "# plt.figure(figsize = (12,12))\n",
    "# plt.scatter(x= house_data_x, y= house_data_y )\n",
    "# plt.xlabel(\"house x\")\n",
    "# plt.ylabel(\"house y\")\n",
    "# plt.show()\n"
   ]
  },
  {
   "cell_type": "code",
   "execution_count": 25,
   "metadata": {},
   "outputs": [],
   "source": [
    "df = pd.DataFrame(data = None, columns = None)\n",
    "df['house_data_x'] = house_data_x\n",
    "df['house_data_y'] = house_data_y\n",
    "df['demand_per_house_liters'] = demand_per_house\n",
    "df['area_per_house_metersq'] = area_per_house\n",
    "df['capacity_for_tank_per_house_lt'] = capacity_for_tank_per_house\n",
    "df['rainfall_estimate_for_city_mm'] = rainfall_estimate_for_city\n",
    "df['average_length_of_pipe_per_house'] = average_length_of_pipe_per_house\n",
    "df['fixed_cost_of_tank_placement_per_house'] = fixed_cost_of_tank_placement_per_house\n",
    "df['cost_per_liters_tank_per_house'] = cost_per_liters_tank_per_house\n",
    "\n",
    "\n",
    "df = df.round(3)\n",
    "# df.head()"
   ]
  },
  {
   "cell_type": "code",
   "execution_count": 26,
   "metadata": {},
   "outputs": [],
   "source": [
    "df.to_csv(\"data.csv\", index= False, header=True)"
   ]
  },
  {
   "cell_type": "markdown",
   "metadata": {},
   "source": [
    "Generating or getting the data for the tanks:\n",
    "\n",
    "- Web App allows us to pip point the map and get the generated data in csv format"
   ]
  },
  {
   "cell_type": "markdown",
   "metadata": {},
   "source": [
    "## Working with the tanks data\n",
    "- Real data\n",
    "- Taken directly from our web app\n"
   ]
  },
  {
   "cell_type": "code",
   "execution_count": null,
   "metadata": {},
   "outputs": [],
   "source": []
  },
  {
   "cell_type": "code",
   "execution_count": 27,
   "metadata": {},
   "outputs": [
    {
     "name": "stdout",
     "output_type": "stream",
     "text": [
      "Column names are Lat, Lng, Id, Address\n"
     ]
    }
   ],
   "source": [
    "import csv\n",
    "\n",
    "tank_data_from_website = []\n",
    "with open('tank_loc_website.csv') as csv_file:\n",
    "    csv_reader = csv.reader(csv_file, delimiter=',')\n",
    "    line_count = 0\n",
    "    for row in csv_reader:\n",
    "        if line_count == 0:\n",
    "            print(f'Column names are {\", \".join(row)}')\n",
    "            line_count += 1\n",
    "        else:\n",
    "            x = row[0]\n",
    "            y = row[1]\n",
    "            tank_data_from_website.append([x,y])\n",
    "            line_count += 1\n",
    "#     print(f'Processed {line_count} lines.')\n",
    "\n",
    "tank_data_from_website = np.array(tank_data_from_website)\n",
    "# print(tank_data_from_website.shape)\n",
    "                  \n",
    "NUM_TANKS = len(tank_data_from_website)\n",
    "\n",
    "tanksdf = pd.DataFrame(data = None, columns = None)\n",
    "tanksdf['tanks_x'] = tank_data_from_website[:,1]\n",
    "tanksdf['tanks_y'] = tank_data_from_website[:,0]\n",
    "tanksdf = tanksdf.round(3)\n",
    "tanksdf.to_csv(\"tanks_loc.csv\", index = False, header = True)\n",
    "\n",
    "\n",
    "                  \n",
    "                  "
   ]
  },
  {
   "cell_type": "code",
   "execution_count": 28,
   "metadata": {},
   "outputs": [],
   "source": [
    "# NUM_TANKS = len(tank_data_from_website)\n",
    "\n",
    "# tank_locator = np.array([random.random() for _ in range(NUM_HOUSES)])\n",
    "\n",
    "# # get the 50 nodes with max values and their index\n",
    "# idx = (-tank_locator).argsort()[:NUM_TANKS]\n",
    "# tank_data_x, tank_data_y = house_data_x[idx], house_data_y[idx]\n",
    "\n",
    "# tanksdf = pd.DataFrame(data = None, columns = None)\n",
    "# tanksdf['tanks_x'] = tank_data_x\n",
    "# tanksdf['tanks_y'] = tank_data_y\n",
    "# tanksdf = tanksdf.round(3)\n",
    "# tanksdf.to_csv(\"tanks_loc.csv\", index = False, header = True)"
   ]
  },
  {
   "cell_type": "markdown",
   "metadata": {},
   "source": [
    "# Solution 1: Clustering"
   ]
  },
  {
   "cell_type": "code",
   "execution_count": 29,
   "metadata": {},
   "outputs": [],
   "source": [
    "tanks = pd.read_csv(\"tanks_loc.csv\")\n",
    "houses = pd.read_csv(\"data.csv\")\n",
    "\n",
    "# print(houses.head(3))\n",
    "# print()\n",
    "# print(tanks.head(3))"
   ]
  },
  {
   "cell_type": "code",
   "execution_count": null,
   "metadata": {},
   "outputs": [],
   "source": [
    "# defining the variables\n",
    "NUM_TANKS = len(tanks)\n",
    "NUM_HOUSES = len(houses)\n",
    "# print('Number of tanks and houses are: ',NUM_TANKS, NUM_HOUSES )\n",
    "\n",
    "# FOR EVERY HOUSE AND TANK, ASSIGN EVERY HOUSE A NEAREST TANK BASED ON THE CLUSTER\n",
    "\n",
    "# CREATING 2D ARRAY OF TANKS\n",
    "tanks_houses = [[] for j in range(NUM_TANKS)]\n",
    "\n",
    "for i in range(len(houses)):\n",
    "    # LOC OF HOUSE\n",
    "    hx, hy = houses.house_data_x.iloc[i],houses.house_data_y.iloc[i]\n",
    "    min_dist_from_house_to_tank = np.inf\n",
    "    min_dist_tank = None\n",
    "    hx*=1000\n",
    "    hy*=1000\n",
    "    \n",
    "    for j in range(len(tanks)):\n",
    "        # LOC OF TANKS\n",
    "        tx, ty = tanks.tanks_x.iloc[j], tanks.tanks_y.iloc[j]\n",
    "        \n",
    "        # converting lat long to the actual distance based coordinates\n",
    "        # can be optimised\n",
    "        \n",
    "        tx*=1000\n",
    "        ty*=1000\n",
    "        \n",
    "#         print(tx,ty, hx, hy)\n",
    "        # DIST ~ APPROX ~ EUCLIDIAN DISTANCE\n",
    "        dist = np.sqrt( (ty- hy)**2 + (tx- hx)**2)\n",
    "        \n",
    "        if dist<min_dist_from_house_to_tank:\n",
    "            min_dist_from_house_to_tank = dist\n",
    "            min_dist_tank = j\n",
    "            \n",
    "    tanks_houses[min_dist_tank].append(i) # appending the house\n",
    "    \n",
    "print('houses clustered to tanks')\n",
    "tank_index = 0\n",
    "for x in tanks_houses[:]:\n",
    "    print('Tank index = {0}'.format(tank_index),'\\nhouses:',x)\n",
    "    print()\n",
    "    tank_index+=1\n",
    "    \n",
    "output_pipes = {}\n",
    "\n",
    "tank_index = 0\n",
    "for x in tanks_houses[:]:\n",
    "    output_pipes[tank_index] = {}\n",
    "    output_pipes[tank_index]['x'] = tanks.tanks_x[tank_index]\n",
    "    output_pipes[tank_index]['y'] = tanks.tanks_y[tank_index]\n",
    "    \n",
    "    allHouses_to_tank = x\n",
    "    output_pipes[tank_index]['houses'] = [[\n",
    "        houses.house_data_x.values[allHouses_to_tank[i]],\n",
    "        houses.house_data_y.values[allHouses_to_tank[i]]\n",
    "    ] for i in range(len(allHouses_to_tank))]\n",
    "    \n",
    "    tank_index+=1"
   ]
  },
  {
   "cell_type": "code",
   "execution_count": null,
   "metadata": {},
   "outputs": [],
   "source": []
  },
  {
   "cell_type": "code",
   "execution_count": 64,
   "metadata": {},
   "outputs": [],
   "source": [
    "# temp = None\n",
    "# for x in tanks_houses[:1]:\n",
    "#     print(x)\n",
    "#     temp = x\n",
    "# houses.house_data_x.values[temp]"
   ]
  },
  {
   "cell_type": "code",
   "execution_count": 54,
   "metadata": {},
   "outputs": [
    {
     "data": {
      "text/html": [
       "<div>\n",
       "<style scoped>\n",
       "    .dataframe tbody tr th:only-of-type {\n",
       "        vertical-align: middle;\n",
       "    }\n",
       "\n",
       "    .dataframe tbody tr th {\n",
       "        vertical-align: top;\n",
       "    }\n",
       "\n",
       "    .dataframe thead th {\n",
       "        text-align: right;\n",
       "    }\n",
       "</style>\n",
       "<table border=\"1\" class=\"dataframe\">\n",
       "  <thead>\n",
       "    <tr style=\"text-align: right;\">\n",
       "      <th></th>\n",
       "      <th>house_data_x</th>\n",
       "      <th>house_data_y</th>\n",
       "      <th>demand_per_house_liters</th>\n",
       "      <th>area_per_house_metersq</th>\n",
       "      <th>capacity_for_tank_per_house_lt</th>\n",
       "      <th>rainfall_estimate_for_city_mm</th>\n",
       "      <th>average_length_of_pipe_per_house</th>\n",
       "      <th>fixed_cost_of_tank_placement_per_house</th>\n",
       "      <th>cost_per_liters_tank_per_house</th>\n",
       "    </tr>\n",
       "  </thead>\n",
       "  <tbody>\n",
       "    <tr>\n",
       "      <th>0</th>\n",
       "      <td>76.824</td>\n",
       "      <td>28.447</td>\n",
       "      <td>82.555</td>\n",
       "      <td>84.725</td>\n",
       "      <td>8.473</td>\n",
       "      <td>100</td>\n",
       "      <td>36.289</td>\n",
       "      <td>10000</td>\n",
       "      <td>500</td>\n",
       "    </tr>\n",
       "    <tr>\n",
       "      <th>1</th>\n",
       "      <td>76.892</td>\n",
       "      <td>28.468</td>\n",
       "      <td>149.185</td>\n",
       "      <td>60.857</td>\n",
       "      <td>6.086</td>\n",
       "      <td>100</td>\n",
       "      <td>32.036</td>\n",
       "      <td>10000</td>\n",
       "      <td>500</td>\n",
       "    </tr>\n",
       "    <tr>\n",
       "      <th>2</th>\n",
       "      <td>76.923</td>\n",
       "      <td>28.472</td>\n",
       "      <td>129.046</td>\n",
       "      <td>72.823</td>\n",
       "      <td>7.282</td>\n",
       "      <td>100</td>\n",
       "      <td>92.775</td>\n",
       "      <td>10000</td>\n",
       "      <td>500</td>\n",
       "    </tr>\n",
       "    <tr>\n",
       "      <th>3</th>\n",
       "      <td>76.933</td>\n",
       "      <td>28.690</td>\n",
       "      <td>103.514</td>\n",
       "      <td>123.224</td>\n",
       "      <td>12.322</td>\n",
       "      <td>100</td>\n",
       "      <td>21.615</td>\n",
       "      <td>10000</td>\n",
       "      <td>500</td>\n",
       "    </tr>\n",
       "    <tr>\n",
       "      <th>4</th>\n",
       "      <td>76.961</td>\n",
       "      <td>28.476</td>\n",
       "      <td>138.877</td>\n",
       "      <td>41.744</td>\n",
       "      <td>4.174</td>\n",
       "      <td>100</td>\n",
       "      <td>10.311</td>\n",
       "      <td>10000</td>\n",
       "      <td>500</td>\n",
       "    </tr>\n",
       "  </tbody>\n",
       "</table>\n",
       "</div>"
      ],
      "text/plain": [
       "   house_data_x  house_data_y  demand_per_house_liters  \\\n",
       "0        76.824        28.447                   82.555   \n",
       "1        76.892        28.468                  149.185   \n",
       "2        76.923        28.472                  129.046   \n",
       "3        76.933        28.690                  103.514   \n",
       "4        76.961        28.476                  138.877   \n",
       "\n",
       "   area_per_house_metersq  capacity_for_tank_per_house_lt  \\\n",
       "0                  84.725                           8.473   \n",
       "1                  60.857                           6.086   \n",
       "2                  72.823                           7.282   \n",
       "3                 123.224                          12.322   \n",
       "4                  41.744                           4.174   \n",
       "\n",
       "   rainfall_estimate_for_city_mm  average_length_of_pipe_per_house  \\\n",
       "0                            100                            36.289   \n",
       "1                            100                            32.036   \n",
       "2                            100                            92.775   \n",
       "3                            100                            21.615   \n",
       "4                            100                            10.311   \n",
       "\n",
       "   fixed_cost_of_tank_placement_per_house  cost_per_liters_tank_per_house  \n",
       "0                                   10000                             500  \n",
       "1                                   10000                             500  \n",
       "2                                   10000                             500  \n",
       "3                                   10000                             500  \n",
       "4                                   10000                             500  "
      ]
     },
     "execution_count": 54,
     "metadata": {},
     "output_type": "execute_result"
    }
   ],
   "source": [
    "# houses.head()"
   ]
  },
  {
   "cell_type": "markdown",
   "metadata": {},
   "source": [
    "## Calculating the capacity and where not to place tanks"
   ]
  },
  {
   "cell_type": "code",
   "execution_count": 42,
   "metadata": {},
   "outputs": [
    {
     "name": "stdout",
     "output_type": "stream",
     "text": [
      "capacity of jth tank(10 tanks here) [69893, 24800, 5644, 4683, 8099, 4298, 4061, 3, 2929, 32520]\n",
      "\n",
      "\n",
      "tanks with no capacity(no houses connected) are: [16, 19, 21, 26, 27, 28, 29, 34, 38, 39, 40, 42, 47, 49, 52, 54, 55, 56, 57]\n"
     ]
    }
   ],
   "source": [
    "# ASSUMING THE DATA FOR CIJ\n",
    "def calculate_capacity_of_tanks(tanks_houses):\n",
    "    capacity_of_jth_tank = []\n",
    "    for j in range(len(tanks_houses)):\n",
    "        houses_tank = tanks_houses[j]\n",
    "        capacity = np.sum(houses_tank)\n",
    "        capacity_of_jth_tank.append(capacity)\n",
    "    return capacity_of_jth_tank\n",
    "capacity_of_jth_tank= calculate_capacity_of_tanks(tanks_houses)\n",
    "print('capacity of jth tank(10 tanks here)',capacity_of_jth_tank[:10]) \n",
    "print()\n",
    "print()\n",
    "print('tanks with no capacity(no houses connected) are:', [tank for tank in range(len(capacity_of_jth_tank)) if capacity_of_jth_tank[tank]<=0])\n"
   ]
  },
  {
   "cell_type": "markdown",
   "metadata": {},
   "source": [
    "Main step is to calculate the CIJ,tie the cost of pipe from i'th house to j'th tank\n",
    "\n",
    "- can be optimised\n",
    "- moving forward with the assumptions"
   ]
  },
  {
   "cell_type": "code",
   "execution_count": 35,
   "metadata": {},
   "outputs": [],
   "source": [
    "# CIJ CALCULATION\n",
    "FIXED_COST_OF_PIPES_PER_METER = 120\n",
    "CIJ = [[0 for i in range(NUM_TANKS)] for j in range(NUM_HOUSES)]\n",
    "# print(np.array(CIJ).shape) # TODO\n",
    "\n",
    "for i in range(NUM_HOUSES):\n",
    "    hx, hy = houses.house_data_x.iloc[i],houses.house_data_y.iloc[i]\n",
    "    hx*=1000\n",
    "    hy*=1000\n",
    "    for j in range(NUM_TANKS):\n",
    "        tx, ty = tanks.tanks_x.iloc[j], tanks.tanks_y.iloc[j]\n",
    "        \n",
    "        tx*=1000\n",
    "        ty*=1000\n",
    "        dist = np.sqrt( (ty- hy)**2 + (tx- hx)**2)\n",
    "        \n",
    "        CIJ[i][j]= dist*FIXED_COST_OF_PIPES_PER_METER\n",
    "\n",
    "CIJ = np.array(CIJ)\n"
   ]
  },
  {
   "cell_type": "code",
   "execution_count": 36,
   "metadata": {},
   "outputs": [],
   "source": [
    "cost_of_setting_jth_tank = []\n",
    "for j in range(len(tanks_houses)):\n",
    "    houses_linked_to_tank = tanks_houses[j]\n",
    "    cost = 0\n",
    "    if capacity_of_jth_tank[j] >0: \n",
    "        cost = houses.cost_per_liters_tank_per_house[j]\n",
    "    else :\n",
    "        cost = 0\n",
    "        \n",
    "    for house_index in (houses_linked_to_tank):\n",
    "        cost += CIJ[house_index][j]\n",
    "    \n",
    "    cost_of_setting_jth_tank.append(cost)\n",
    "        \n",
    "# zip(cost_of_setting_jth_tank) # TODO\n"
   ]
  },
  {
   "cell_type": "code",
   "execution_count": 41,
   "metadata": {},
   "outputs": [
    {
     "data": {
      "text/html": [
       "<div>\n",
       "<style scoped>\n",
       "    .dataframe tbody tr th:only-of-type {\n",
       "        vertical-align: middle;\n",
       "    }\n",
       "\n",
       "    .dataframe tbody tr th {\n",
       "        vertical-align: top;\n",
       "    }\n",
       "\n",
       "    .dataframe thead th {\n",
       "        text-align: right;\n",
       "    }\n",
       "</style>\n",
       "<table border=\"1\" class=\"dataframe\">\n",
       "  <thead>\n",
       "    <tr style=\"text-align: right;\">\n",
       "      <th></th>\n",
       "      <th>capacity</th>\n",
       "      <th>cost_of_making</th>\n",
       "      <th>stability</th>\n",
       "      <th>x</th>\n",
       "      <th>y</th>\n",
       "    </tr>\n",
       "  </thead>\n",
       "  <tbody>\n",
       "    <tr>\n",
       "      <th>0</th>\n",
       "      <td>69893.0</td>\n",
       "      <td>287532.357522</td>\n",
       "      <td>1.0</td>\n",
       "      <td>77.216827</td>\n",
       "      <td>28.632629</td>\n",
       "    </tr>\n",
       "    <tr>\n",
       "      <th>1</th>\n",
       "      <td>24800.0</td>\n",
       "      <td>33156.539722</td>\n",
       "      <td>1.0</td>\n",
       "      <td>77.279205</td>\n",
       "      <td>28.617981</td>\n",
       "    </tr>\n",
       "    <tr>\n",
       "      <th>2</th>\n",
       "      <td>5644.0</td>\n",
       "      <td>18051.621525</td>\n",
       "      <td>1.0</td>\n",
       "      <td>77.170906</td>\n",
       "      <td>28.655077</td>\n",
       "    </tr>\n",
       "    <tr>\n",
       "      <th>3</th>\n",
       "      <td>4683.0</td>\n",
       "      <td>17203.990915</td>\n",
       "      <td>1.0</td>\n",
       "      <td>77.205238</td>\n",
       "      <td>28.682152</td>\n",
       "    </tr>\n",
       "    <tr>\n",
       "      <th>4</th>\n",
       "      <td>8099.0</td>\n",
       "      <td>31677.967204</td>\n",
       "      <td>1.0</td>\n",
       "      <td>77.293045</td>\n",
       "      <td>28.698713</td>\n",
       "    </tr>\n",
       "  </tbody>\n",
       "</table>\n",
       "</div>"
      ],
      "text/plain": [
       "   capacity  cost_of_making  stability          x          y\n",
       "0   69893.0   287532.357522        1.0  77.216827  28.632629\n",
       "1   24800.0    33156.539722        1.0  77.279205  28.617981\n",
       "2    5644.0    18051.621525        1.0  77.170906  28.655077\n",
       "3    4683.0    17203.990915        1.0  77.205238  28.682152\n",
       "4    8099.0    31677.967204        1.0  77.293045  28.698713"
      ]
     },
     "execution_count": 41,
     "metadata": {},
     "output_type": "execute_result"
    }
   ],
   "source": [
    "# giving the data to the backend of our web application\n",
    "import numpy as np\n",
    "import codecs, json \n",
    "\n",
    "List = [{} for j in range(NUM_TANKS)]\n",
    "\n",
    "for j in range(NUM_TANKS):\n",
    "    List[j]['x'] = tanks['tanks_x'].iloc[j].astype('float32')\n",
    "    List[j]['y'] = tanks['tanks_y'].iloc[j].astype('float32')\n",
    "    List[j]['stability'] = 1.00\n",
    "    List[j]['capacity'] = capacity_of_jth_tank[j].astype('float32')\n",
    "    List[j]['cost_of_making'] = cost_of_setting_jth_tank[j]\n",
    "    \n",
    "temp = pd.DataFrame(List)\n",
    "# temp.head()\n"
   ]
  },
  {
   "cell_type": "markdown",
   "metadata": {},
   "source": [
    "### Tanks that should not be constructed"
   ]
  },
  {
   "cell_type": "code",
   "execution_count": 39,
   "metadata": {},
   "outputs": [],
   "source": [
    "# print('tanks with no capacity(no houses connected) are:', [tank for tank in range(len(capacity_of_jth_tank)) if capacity_of_jth_tank[tank]==0])"
   ]
  },
  {
   "cell_type": "markdown",
   "metadata": {},
   "source": [
    "## JSON passed to backend of the website"
   ]
  },
  {
   "cell_type": "code",
   "execution_count": 66,
   "metadata": {},
   "outputs": [],
   "source": [
    "# values = temp.values\n",
    "# print(json.dumps(values.tolist())) # TODO \n",
    "# # FINAL"
   ]
  },
  {
   "cell_type": "code",
   "execution_count": 67,
   "metadata": {},
   "outputs": [],
   "source": [
    "# values = temp.values\n",
    "# print(json.dumps(output_pipes)) # TODO \n",
    "# # FINAL"
   ]
  },
  {
   "cell_type": "code",
   "execution_count": 68,
   "metadata": {},
   "outputs": [
    {
     "name": "stdout",
     "output_type": "stream",
     "text": [
      "{0: {'x': 77.21682874603266, 'y': 28.63263002316741, 'houses': [[77.189, 28.595], [77.194, 28.615], [77.20100000000001, 28.596999999999998], [77.204, 28.601], [77.208, 28.646], [77.214, 28.642], [77.215, 28.646], [77.21600000000001, 28.646], [77.217, 28.609], [77.219, 28.658], [77.219, 28.656999999999996], [77.22, 28.628], [77.22, 28.631], [77.223, 28.599], [77.22399999999999, 28.646], [77.229, 28.656999999999996], [77.229, 28.64], [77.23100000000001, 28.649], [77.233, 28.642], [77.235, 28.658], [77.235, 28.659000000000002], [77.235, 28.658], [77.235, 28.658], [77.235, 28.658], [77.235, 28.658], [77.235, 28.658], [77.235, 28.658], [77.235, 28.658], [77.235, 28.658], [77.235, 28.658], [77.235, 28.658], [77.235, 28.658], [77.235, 28.658], [77.235, 28.658], [77.235, 28.658], [77.235, 28.656999999999996], [77.235, 28.656999999999996], [77.235, 28.656999999999996], [77.235, 28.656999999999996], [77.235, 28.656999999999996], [77.235, 28.656999999999996], [77.235, 28.656999999999996], [77.235, 28.656999999999996], [77.235, 28.656999999999996], [77.235, 28.656999999999996], [77.235, 28.656], [77.235, 28.656], [77.235, 28.656], [77.236, 28.656999999999996], [77.236, 28.656999999999996], [77.236, 28.656999999999996], [77.236, 28.656999999999996], [77.236, 28.658], [77.236, 28.658], [77.236, 28.656999999999996], [77.236, 28.656999999999996], [77.236, 28.658], [77.236, 28.658], [77.236, 28.658], [77.236, 28.659000000000002], [77.236, 28.658], [77.236, 28.658], [77.236, 28.659000000000002], [77.236, 28.658], [77.236, 28.658], [77.236, 28.658], [77.236, 28.658], [77.236, 28.658], [77.236, 28.658], [77.236, 28.658], [77.236, 28.656999999999996], [77.236, 28.656999999999996], [77.236, 28.656999999999996], [77.236, 28.656999999999996], [77.236, 28.656999999999996], [77.236, 28.656999999999996], [77.236, 28.656999999999996], [77.236, 28.656], [77.236, 28.656], [77.236, 28.656], [77.23899999999999, 28.645], [77.24, 28.641], [77.244, 28.644000000000002]]}, 1: {'x': 77.27920532226562, 'y': 28.617980220472194, 'houses': [[77.27600000000001, 28.651], [77.285, 28.619], [77.285, 28.619], [77.286, 28.619], [77.286, 28.619], [77.286, 28.619], [77.286, 28.615], [77.286, 28.615], [77.286, 28.615], [77.286, 28.619], [77.28699999999999, 28.618000000000002], [77.28699999999999, 28.618000000000002], [77.28699999999999, 28.618000000000002], [77.288, 28.614], [77.288, 28.616], [77.288, 28.616], [77.288, 28.616], [77.288, 28.616], [77.288, 28.615], [77.288, 28.615], [77.288, 28.615], [77.295, 28.638], [77.305, 28.607], [77.306, 28.621]]}, 2: {'x': 77.1709093276977, 'y': 28.655077294307837, 'houses': [[77.154, 28.653000000000002], [77.16, 28.647], [77.166, 28.651], [77.166, 28.683000000000003], [77.171, 28.638], [77.185, 28.635], [77.188, 28.651999999999997], [77.192, 28.649]]}, 3: {'x': 77.20524160308833, 'y': 28.682151116561407, 'houses': [[77.17699999999999, 28.691], [77.196, 28.680999999999997], [77.212, 28.66], [77.22399999999999, 28.664], [77.226, 28.674], [77.229, 28.666]]}, 4: {'x': 77.29304639739985, 'y': 28.69871369506916, 'houses': [[77.26100000000001, 28.701], [77.262, 28.664], [77.273, 28.674], [77.273, 28.7], [77.283, 28.659000000000002], [77.283, 28.664], [77.28699999999999, 28.666999999999998], [77.291, 28.679000000000002]]}, 5: {'x': 77.20343915863032, 'y': 28.70722077851714, 'houses': [[77.205, 28.697], [77.226, 28.699], [77.229, 28.701999999999998], [77.242, 28.743000000000002], [77.248, 28.72]]}, 6: {'x': 77.30089756819825, 'y': 28.732441268162518, 'houses': [[77.268, 28.783], [77.275, 28.730999999999998], [77.28, 28.763], [77.29, 28.732]]}, 7: {'x': 76.92693352620644, 'y': 28.69226199971516, 'houses': [[76.933, 28.69]]}, 8: {'x': 77.0999050140381, 'y': 28.556179165192372, 'houses': [[77.06, 28.573], [77.06, 28.559], [77.072, 28.557], [77.113, 28.584], [77.122, 28.541999999999998], [77.126, 28.544]]}, 9: {'x': 77.17236273593004, 'y': 28.542668778388766, 'houses': [[77.152, 28.531], [77.161, 28.525], [77.16199999999999, 28.518], [77.164, 28.559], [77.166, 28.51], [77.169, 28.570999999999998], [77.171, 28.559], [77.173, 28.579], [77.176, 28.554000000000002], [77.17699999999999, 28.506999999999998], [77.17699999999999, 28.581999999999997], [77.178, 28.522], [77.18, 28.546999999999997], [77.181, 28.497], [77.183, 28.586], [77.186, 28.541999999999998], [77.188, 28.538], [77.189, 28.569000000000003], [77.193, 28.525], [77.195, 28.563000000000002], [77.195, 28.554000000000002], [77.195, 28.574], [77.196, 28.568], [77.196, 28.583000000000002], [77.199, 28.569000000000003], [77.199, 28.569000000000003], [77.199, 28.569000000000003], [77.199, 28.569000000000003], [77.199, 28.569000000000003], [77.199, 28.569000000000003], [77.199, 28.568], [77.199, 28.568], [77.199, 28.566999999999997], [77.199, 28.568], [77.199, 28.568], [77.199, 28.568], [77.199, 28.568], [77.199, 28.568], [77.199, 28.568], [77.199, 28.568], [77.199, 28.568], [77.199, 28.568], [77.199, 28.566999999999997], [77.204, 28.558000000000003]]}, 10: {'x': 77.24085562533433, 'y': 28.54395055286575, 'houses': [[77.207, 28.535999999999998], [77.207, 28.526999999999997], [77.208, 28.518], [77.211, 28.534000000000002], [77.21300000000001, 28.548000000000002], [77.214, 28.524], [77.21600000000001, 28.541999999999998], [77.217, 28.531], [77.218, 28.531999999999996], [77.219, 28.511], [77.226, 28.526], [77.22800000000001, 28.538], [77.23, 28.534000000000002], [77.232, 28.513], [77.235, 28.52], [77.236, 28.534000000000002], [77.237, 28.533], [77.237, 28.533], [77.237, 28.534000000000002], [77.237, 28.535], [77.238, 28.534000000000002], [77.238, 28.553], [77.238, 28.533], [77.238, 28.534000000000002], [77.238, 28.533], [77.238, 28.534000000000002], [77.238, 28.533], [77.23899999999999, 28.533], [77.23899999999999, 28.535], [77.23899999999999, 28.535999999999998], [77.23899999999999, 28.533], [77.23899999999999, 28.535], [77.23899999999999, 28.533], [77.23899999999999, 28.535], [77.24, 28.538], [77.24, 28.538], [77.24, 28.534000000000002], [77.24, 28.541], [77.24, 28.538], [77.24, 28.54], [77.24, 28.54], [77.241, 28.534000000000002], [77.241, 28.541], [77.241, 28.534000000000002], [77.241, 28.54], [77.241, 28.54], [77.241, 28.539], [77.241, 28.54], [77.241, 28.554000000000002], [77.243, 28.53], [77.243, 28.531], [77.243, 28.538], [77.243, 28.531999999999996], [77.243, 28.539], [77.243, 28.531], [77.244, 28.538], [77.244, 28.531999999999996], [77.244, 28.53], [77.244, 28.531999999999996], [77.244, 28.53], [77.244, 28.533], [77.244, 28.531], [77.244, 28.531999999999996], [77.244, 28.531999999999996], [77.244, 28.531], [77.245, 28.53], [77.245, 28.531999999999996], [77.245, 28.531999999999996], [77.245, 28.531], [77.245, 28.531], [77.245, 28.537], [77.245, 28.53], [77.245, 28.529], [77.245, 28.529], [77.245, 28.531], [77.245, 28.529], [77.245, 28.531999999999996], [77.245, 28.53], [77.245, 28.531], [77.245, 28.529], [77.245, 28.531999999999996], [77.245, 28.531], [77.245, 28.529], [77.24600000000001, 28.531], [77.24600000000001, 28.531], [77.24600000000001, 28.528000000000002], [77.24600000000001, 28.529], [77.24600000000001, 28.529], [77.24600000000001, 28.529], [77.247, 28.534000000000002], [77.247, 28.53], [77.247, 28.531], [77.247, 28.531999999999996], [77.247, 28.534000000000002], [77.247, 28.53], [77.247, 28.531999999999996], [77.247, 28.531], [77.247, 28.531999999999996], [77.247, 28.531999999999996], [77.248, 28.531999999999996], [77.248, 28.531999999999996], [77.248, 28.531999999999996], [77.248, 28.531999999999996], [77.256, 28.541999999999998], [77.264, 28.535]]}, 11: {'x': 77.24222891634996, 'y': 28.568828966792804, 'houses': [[77.204, 28.576], [77.206, 28.572], [77.211, 28.593000000000004], [77.214, 28.572], [77.215, 28.588], [77.225, 28.57], [77.227, 28.586], [77.227, 28.572], [77.23100000000001, 28.596], [77.232, 28.573], [77.242, 28.601999999999997], [77.242, 28.570999999999998], [77.245, 28.588], [77.24600000000001, 28.590999999999998], [77.24600000000001, 28.581999999999997], [77.249, 28.581], [77.25, 28.59], [77.251, 28.569000000000003]]}, 12: {'x': 77.25544684237535, 'y': 28.55842598163547, 'houses': [[77.251, 28.558000000000003], [77.255, 28.565], [77.273, 28.533], [77.273, 28.546999999999997], [77.275, 28.533], [77.27600000000001, 28.534000000000002], [77.278, 28.535999999999998]]}, 13: {'x': 77.26925430425128, 'y': 28.568828966792804, 'houses': [[77.266, 28.57], [77.267, 28.56], [77.29, 28.54], [77.293, 28.533], [77.295, 28.551]]}, 14: {'x': 77.37145439787855, 'y': 28.637929916699342, 'houses': [[77.34, 28.644000000000002], [77.378, 28.642], [77.388, 28.613000000000003]]}, 15: {'x': 77.4441529910182, 'y': 28.6809349080477, 'houses': [[77.41199999999999, 28.671999999999997]]}, 16: {'x': 77.45351302663187, 'y': 28.668981372442023, 'houses': []}, 17: {'x': 77.15517224919608, 'y': 28.71672804878435, 'houses': [[77.117, 28.715999999999998], [77.138, 28.701999999999998], [77.175, 28.719]]}, 18: {'x': 77.15465726506523, 'y': 28.757067139352998, 'houses': [[77.148, 28.758000000000003]]}, 19: {'x': 77.06118764531425, 'y': 28.789492682707177, 'houses': []}, 20: {'x': 77.39035556657404, 'y': 28.53577525778789, 'houses': [[77.39699999999999, 28.54]]}, 21: {'x': 77.45249698503108, 'y': 28.60271262723145, 'houses': []}, 22: {'x': 77.12599704606623, 'y': 28.66237757322636, 'houses': [[77.113, 28.644000000000002], [77.124, 28.666]]}, 23: {'x': 77.13629672868342, 'y': 28.659967526063433, 'houses': [[77.132, 28.654], [77.132, 28.654], [77.143, 28.664], [77.145, 28.654]]}, 24: {'x': 77.3656363282928, 'y': 28.667498739454953, 'houses': [[77.373, 28.663]]}, 25: {'x': 77.32443759782404, 'y': 28.682258347687874, 'houses': [[77.295, 28.664], [77.311, 28.653000000000002], [77.32300000000001, 28.642], [77.327, 28.64]]}, 26: {'x': 77.43327091081233, 'y': 28.710566875755703, 'houses': []}, 27: {'x': 77.06660220964045, 'y': 28.745490246318642, 'houses': []}, 28: {'x': 77.47858951432795, 'y': 28.53275905897781, 'houses': []}, 29: {'x': 77.52322147233576, 'y': 28.53698171313797, 'houses': []}, 30: {'x': 77.13179098124009, 'y': 28.514358376958466, 'houses': [[77.104, 28.494], [77.132, 28.474], [77.143, 28.493000000000002], [77.158, 28.519000000000002], [77.16, 28.499000000000002], [77.161, 28.496], [77.16199999999999, 28.51], [77.16199999999999, 28.51], [77.16199999999999, 28.51], [77.16199999999999, 28.51], [77.16199999999999, 28.51], [77.16199999999999, 28.51], [77.16199999999999, 28.51], [77.16199999999999, 28.51], [77.16199999999999, 28.51], [77.16199999999999, 28.51], [77.16199999999999, 28.51], [77.16199999999999, 28.51], [77.16199999999999, 28.51], [77.16199999999999, 28.51], [77.163, 28.51], [77.163, 28.51], [77.163, 28.51], [77.163, 28.51], [77.163, 28.51], [77.163, 28.51], [77.163, 28.51], [77.163, 28.51], [77.163, 28.51], [77.163, 28.51], [77.163, 28.51], [77.163, 28.51], [77.163, 28.511], [77.163, 28.51], [77.163, 28.51], [77.163, 28.51], [77.163, 28.51], [77.163, 28.511], [77.164, 28.511], [77.164, 28.51], [77.164, 28.51], [77.164, 28.51], [77.164, 28.51], [77.164, 28.51], [77.164, 28.51], [77.164, 28.51], [77.164, 28.51], [77.164, 28.51], [77.164, 28.51], [77.164, 28.51], [77.164, 28.51], [77.164, 28.509], [77.164, 28.51], [77.164, 28.51], [77.164, 28.509], [77.164, 28.51], [77.164, 28.51], [77.164, 28.51], [77.164, 28.509], [77.164, 28.51], [77.164, 28.509], [77.164, 28.509], [77.164, 28.509], [77.164, 28.509], [77.164, 28.51], [77.164, 28.509], [77.164, 28.51], [77.164, 28.509], [77.164, 28.509], [77.164, 28.51], [77.164, 28.509], [77.164, 28.509], [77.164, 28.509], [77.164, 28.509], [77.165, 28.509], [77.165, 28.509], [77.165, 28.509], [77.165, 28.509], [77.165, 28.509], [77.165, 28.509], [77.167, 28.500999999999998]]}, 31: {'x': 77.19002708590142, 'y': 28.45057214900981, 'houses': [[77.142, 28.441999999999997], [77.155, 28.467], [77.158, 28.388], [77.165, 28.438000000000002], [77.17, 28.483], [77.18, 28.456], [77.195, 28.408], [77.22, 28.388], [77.23, 28.399], [77.236, 28.410999999999998], [77.249, 28.424]]}, 32: {'x': 77.02351555025689, 'y': 28.45962753489516, 'houses': [[76.994, 28.463], [77.0, 28.445999999999998], [77.008, 28.474], [77.018, 28.479], [77.023, 28.441999999999997], [77.029, 28.461], [77.03, 28.464000000000002], [77.03, 28.406999999999996], [77.03399999999999, 28.462], [77.036, 28.435], [77.03699999999999, 28.42], [77.038, 28.451999999999998], [77.039, 28.441], [77.04, 28.454], [77.041, 28.455], [77.042, 28.445999999999998], [77.042, 28.476], [77.043, 28.42], [77.043, 28.42], [77.043, 28.42], [77.043, 28.42], [77.043, 28.419], [77.043, 28.42], [77.043, 28.419], [77.043, 28.42], [77.043, 28.42], [77.043, 28.419], [77.043, 28.42], [77.043, 28.419], [77.043, 28.42], [77.043, 28.419], [77.043, 28.42], [77.043, 28.419], [77.043, 28.42], [77.043, 28.42], [77.043, 28.47], [77.043, 28.419], [77.043, 28.419], [77.043, 28.42], [77.043, 28.419], [77.043, 28.42], [77.043, 28.42], [77.043, 28.42], [77.044, 28.42], [77.044, 28.42], [77.044, 28.42], [77.044, 28.42], [77.044, 28.419], [77.044, 28.42], [77.044, 28.419], [77.044, 28.42], [77.044, 28.419], [77.044, 28.419], [77.044, 28.42], [77.044, 28.419], [77.044, 28.42], [77.044, 28.419], [77.044, 28.416], [77.044, 28.416999999999998], [77.044, 28.42], [77.044, 28.42], [77.044, 28.419], [77.044, 28.419], [77.045, 28.423000000000002], [77.046, 28.424], [77.047, 28.465999999999998], [77.048, 28.473000000000003], [77.05, 28.454], [77.051, 28.462], [77.05199999999999, 28.46], [77.055, 28.476]]}, 33: {'x': 76.91914543306939, 'y': 28.381725883443735, 'houses': [[76.892, 28.468000000000004], [76.923, 28.471999999999998], [76.967, 28.374000000000002]]}, 34: {'x': 76.90550602331928, 'y': 28.37667308234134, 'houses': [[76.824, 28.447]]}, 35: {'x': 76.99888981238178, 'y': 28.524282260373784, 'houses': [[76.961, 28.476], [76.96300000000001, 28.488000000000003], [77.021, 28.528000000000002], [77.02600000000001, 28.505], [77.029, 28.506], [77.03, 28.511], [77.031, 28.505], [77.031, 28.506], [77.031, 28.505], [77.031, 28.506], [77.032, 28.504], [77.033, 28.509], [77.033, 28.509], [77.033, 28.508000000000003], [77.033, 28.509], [77.033, 28.508000000000003], [77.03399999999999, 28.509], [77.03399999999999, 28.509], [77.03399999999999, 28.544], [77.035, 28.508000000000003], [77.035, 28.508000000000003], [77.035, 28.508000000000003], [77.035, 28.508000000000003], [77.035, 28.508000000000003], [77.035, 28.509], [77.035, 28.509], [77.035, 28.51], [77.035, 28.51], [77.035, 28.511], [77.035, 28.509], [77.035, 28.51], [77.035, 28.51], [77.035, 28.511999999999997], [77.035, 28.506999999999998], [77.036, 28.508000000000003], [77.036, 28.506], [77.036, 28.509], [77.036, 28.508000000000003], [77.036, 28.51], [77.036, 28.51], [77.036, 28.506999999999998], [77.036, 28.508000000000003], [77.036, 28.506999999999998], [77.036, 28.511999999999997], [77.036, 28.509], [77.036, 28.509], [77.036, 28.51], [77.036, 28.51], [77.036, 28.511999999999997], [77.036, 28.508000000000003], [77.036, 28.51], [77.03699999999999, 28.51], [77.03699999999999, 28.511], [77.03699999999999, 28.506999999999998], [77.03699999999999, 28.508000000000003], [77.03699999999999, 28.51], [77.03699999999999, 28.508000000000003], [77.03699999999999, 28.508000000000003], [77.03699999999999, 28.508000000000003], [77.03699999999999, 28.51], [77.03699999999999, 28.506999999999998], [77.03699999999999, 28.506999999999998], [77.03699999999999, 28.506999999999998], [77.03699999999999, 28.506999999999998], [77.03699999999999, 28.508000000000003], [77.03699999999999, 28.51], [77.038, 28.513], [77.038, 28.51], [77.038, 28.51], [77.038, 28.508000000000003], [77.039, 28.508000000000003], [77.039, 28.509], [77.039, 28.508000000000003], [77.039, 28.511], [77.039, 28.508000000000003], [77.04, 28.51], [77.04, 28.51], [77.04, 28.509], [77.04, 28.51], [77.04, 28.509]]}, 36: {'x': 77.32737458035831, 'y': 28.40204391226812, 'houses': [[77.273, 28.396], [77.279, 28.384], [77.28, 28.373], [77.28, 28.37], [77.285, 28.393], [77.288, 28.405], [77.289, 28.375], [77.289, 28.37], [77.29, 28.379], [77.291, 28.430999999999997], [77.291, 28.416], [77.291, 28.434], [77.292, 28.433000000000003], [77.295, 28.391], [77.29899999999999, 28.416999999999998], [77.29899999999999, 28.432], [77.3, 28.423000000000002], [77.301, 28.438000000000002], [77.308, 28.435], [77.309, 28.416999999999998], [77.314, 28.421999999999997], [77.314, 28.441999999999997], [77.314, 28.41], [77.314, 28.434], [77.315, 28.403000000000002], [77.316, 28.379], [77.317, 28.396], [77.319, 28.416999999999998], [77.322, 28.397], [77.322, 28.434], [77.322, 28.408], [77.322, 28.385], [77.32300000000001, 28.395], [77.32600000000001, 28.42], [77.32600000000001, 28.377], [77.331, 28.409000000000002], [77.331, 28.395], [77.334, 28.386]]}, 37: {'x': 77.33424103543643, 'y': 28.345857486020694, 'houses': [[77.28, 28.363000000000003], [77.281, 28.353], [77.285, 28.364], [77.29, 28.348000000000003], [77.294, 28.366], [77.295, 28.351999999999997], [77.303, 28.351999999999997], [77.311, 28.369], [77.311, 28.362], [77.318, 28.372]]}, 38: {'x': 77.50864899442081, 'y': 28.47027336428895, 'houses': []}, 39: {'x': 77.49458991183974, 'y': 28.776944307071638, 'houses': []}, 40: {'x': 77.58248053683974, 'y': 28.82538158390225, 'houses': []}, 41: {'x': 77.12345801486708, 'y': 28.86207060751129, 'houses': [[77.089, 28.963], [77.096, 28.941], [77.09899999999999, 28.951], [77.122, 28.871], [77.22, 28.944000000000003]]}, 42: {'x': 76.94733344211319, 'y': 28.785068899599967, 'houses': []}, 43: {'x': 77.09427558078505, 'y': 28.615814696156644, 'houses': [[77.063, 28.618000000000002], [77.064, 28.625999999999998], [77.064, 28.592], [77.065, 28.639], [77.066, 28.598000000000003], [77.074, 28.635], [77.075, 28.595], [77.082, 28.63], [77.083, 28.593000000000004], [77.086, 28.627], [77.097, 28.636], [77.102, 28.639], [77.112, 28.625999999999998]]}, 44: {'x': 77.13375769748427, 'y': 28.627568098524836, 'houses': [[77.118, 28.62], [77.12, 28.62], [77.123, 28.594], [77.123, 28.624000000000002], [77.126, 28.625999999999998], [77.137, 28.631], [77.148, 28.629], [77.15899999999999, 28.622]]}, 45: {'x': 77.01828002929688, 'y': 28.594771401020303, 'houses': [[77.029, 28.594], [77.031, 28.605], [77.03399999999999, 28.585], [77.03699999999999, 28.601], [77.038, 28.589000000000002], [77.039, 28.593000000000004], [77.04, 28.625], [77.042, 28.605999999999998], [77.043, 28.644000000000002], [77.047, 28.561], [77.04899999999999, 28.601], [77.051, 28.605999999999998], [77.053, 28.590999999999998], [77.054, 28.576], [77.057, 28.601]]}, 46: {'x': 77.35027313232422, 'y': 28.586632029630984, 'houses': [[77.33, 28.576999999999998], [77.342, 28.555999999999997], [77.342, 28.576], [77.348, 28.589000000000002], [77.348, 28.587], [77.351, 28.554000000000002], [77.359, 28.576], [77.375, 28.604]]}, 47: {'x': 77.35142432346083, 'y': 28.736901981023134, 'houses': []}, 48: {'x': 76.98132239474991, 'y': 28.629978890219075, 'houses': [[76.979, 28.611]]}, 49: {'x': 76.94630347385146, 'y': 28.585068809624637, 'houses': []}, 50: {'x': 77.09687127186237, 'y': 28.527905659071504, 'houses': [[77.04899999999999, 28.514], [77.06, 28.506999999999998], [77.06, 28.531999999999996], [77.075, 28.541], [77.079, 28.491], [77.081, 28.489], [77.082, 28.494], [77.083, 28.489], [77.084, 28.49], [77.084, 28.489], [77.084, 28.505], [77.09, 28.491], [77.09100000000001, 28.497], [77.09100000000001, 28.491], [77.09100000000001, 28.497], [77.11399999999999, 28.535999999999998]]}, 51: {'x': 77.26957116488974, 'y': 28.490194156136422, 'houses': [[77.267, 28.513], [77.271, 28.511999999999997], [77.28, 28.522], [77.29899999999999, 28.45], [77.303, 28.511999999999997], [77.307, 28.494], [77.307, 28.521]]}, 52: {'x': 77.45256219272177, 'y': 28.501358165635995, 'houses': []}, 53: {'x': 77.0824602640108, 'y': 28.44552631382483, 'houses': [[77.045, 28.419], [77.045, 28.419], [77.045, 28.419], [77.045, 28.416], [77.045, 28.419], [77.045, 28.418000000000003], [77.045, 28.419], [77.045, 28.419], [77.045, 28.418000000000003], [77.045, 28.416999999999998], [77.045, 28.418000000000003], [77.045, 28.416999999999998], [77.045, 28.418000000000003], [77.046, 28.416], [77.046, 28.416999999999998], [77.046, 28.419], [77.046, 28.418000000000003], [77.046, 28.416999999999998], [77.046, 28.419], [77.046, 28.418000000000003], [77.047, 28.418000000000003], [77.047, 28.41], [77.047, 28.408], [77.047, 28.416999999999998], [77.047, 28.416], [77.047, 28.416999999999998], [77.048, 28.416], [77.048, 28.416], [77.048, 28.416], [77.048, 28.393], [77.04899999999999, 28.416], [77.04899999999999, 28.416], [77.04899999999999, 28.416999999999998], [77.04899999999999, 28.43], [77.05, 28.377], [77.05, 28.416], [77.051, 28.435], [77.051, 28.443], [77.051, 28.419], [77.051, 28.435], [77.051, 28.435], [77.051, 28.435], [77.05199999999999, 28.434], [77.05199999999999, 28.436], [77.05199999999999, 28.433000000000003], [77.053, 28.434], [77.053, 28.436], [77.053, 28.434], [77.053, 28.432], [77.053, 28.433000000000003], [77.053, 28.434], [77.053, 28.432], [77.054, 28.432], [77.054, 28.434], [77.054, 28.433000000000003], [77.054, 28.430999999999997], [77.054, 28.432], [77.054, 28.435], [77.054, 28.419], [77.054, 28.430999999999997], [77.054, 28.432], [77.054, 28.419], [77.054, 28.432], [77.055, 28.430999999999997], [77.055, 28.433000000000003], [77.055, 28.430999999999997], [77.055, 28.419], [77.055, 28.433000000000003], [77.055, 28.432], [77.055, 28.430999999999997], [77.055, 28.432], [77.055, 28.433000000000003], [77.055, 28.432], [77.055, 28.432], [77.056, 28.416999999999998], [77.056, 28.430999999999997], [77.056, 28.432], [77.056, 28.43], [77.056, 28.430999999999997], [77.056, 28.430999999999997], [77.056, 28.430999999999997], [77.056, 28.43], [77.056, 28.430999999999997], [77.056, 28.43], [77.056, 28.433000000000003], [77.056, 28.430999999999997], [77.056, 28.43], [77.056, 28.43], [77.056, 28.434], [77.056, 28.430999999999997], [77.056, 28.43], [77.056, 28.432], [77.057, 28.43], [77.057, 28.433000000000003], [77.057, 28.430999999999997], [77.057, 28.43], [77.057, 28.432], [77.057, 28.43], [77.057, 28.432], [77.057, 28.430999999999997], [77.057, 28.433000000000003], [77.057, 28.430999999999997], [77.057, 28.432], [77.057, 28.433000000000003], [77.057, 28.430999999999997], [77.057, 28.430999999999997], [77.057, 28.433000000000003], [77.057, 28.433000000000003], [77.057, 28.433000000000003], [77.057, 28.430999999999997], [77.057, 28.432], [77.058, 28.430999999999997], [77.058, 28.433000000000003], [77.058, 28.418000000000003], [77.058, 28.416999999999998], [77.058, 28.418000000000003], [77.058, 28.418000000000003], [77.058, 28.432], [77.058, 28.429000000000002], [77.058, 28.45], [77.058, 28.430999999999997], [77.058, 28.432], [77.058, 28.429000000000002], [77.058, 28.429000000000002], [77.058, 28.43], [77.058, 28.430999999999997], [77.058, 28.432], [77.058, 28.428], [77.058, 28.429000000000002], [77.058, 28.43], [77.058, 28.429000000000002], [77.058, 28.419], [77.058, 28.430999999999997], [77.058, 28.43], [77.058, 28.43], [77.058, 28.429000000000002], [77.058, 28.416], [77.058, 28.430999999999997], [77.058, 28.43], [77.058, 28.430999999999997], [77.059, 28.428], [77.059, 28.418000000000003], [77.059, 28.430999999999997], [77.059, 28.416999999999998], [77.059, 28.43], [77.059, 28.418000000000003], [77.059, 28.416999999999998], [77.059, 28.432], [77.059, 28.43], [77.059, 28.432], [77.059, 28.43], [77.059, 28.432], [77.059, 28.416999999999998], [77.059, 28.418000000000003], [77.059, 28.430999999999997], [77.059, 28.432], [77.059, 28.430999999999997], [77.059, 28.43], [77.059, 28.43], [77.059, 28.432], [77.059, 28.430999999999997], [77.06, 28.429000000000002], [77.06, 28.433000000000003], [77.06, 28.43], [77.06, 28.432], [77.06, 28.433000000000003], [77.06, 28.433000000000003], [77.06, 28.430999999999997], [77.06, 28.436], [77.06, 28.433000000000003], [77.06, 28.474], [77.06, 28.430999999999997], [77.06, 28.432], [77.06, 28.430999999999997], [77.06, 28.473000000000003], [77.06, 28.436], [77.06, 28.430999999999997], [77.06, 28.478], [77.06, 28.433000000000003], [77.06, 28.432], [77.06, 28.436], [77.06, 28.436], [77.06, 28.433000000000003], [77.06, 28.473000000000003], [77.06, 28.473000000000003], [77.06, 28.436], [77.061, 28.428], [77.061, 28.432], [77.061, 28.433000000000003], [77.061, 28.474], [77.061, 28.432], [77.061, 28.473000000000003], [77.061, 28.430999999999997], [77.061, 28.474], [77.061, 28.473000000000003], [77.061, 28.430999999999997], [77.061, 28.432], [77.061, 28.430999999999997], [77.061, 28.474], [77.061, 28.473000000000003], [77.061, 28.433000000000003], [77.061, 28.42], [77.061, 28.430999999999997], [77.061, 28.474], [77.061, 28.473000000000003], [77.061, 28.46], [77.061, 28.473000000000003], [77.061, 28.433000000000003], [77.061, 28.473000000000003], [77.062, 28.432], [77.062, 28.473000000000003], [77.062, 28.434], [77.062, 28.473000000000003], [77.062, 28.474], [77.062, 28.432], [77.062, 28.35], [77.062, 28.435], [77.062, 28.434], [77.062, 28.416], [77.062, 28.435], [77.062, 28.435], [77.063, 28.454], [77.063, 28.471], [77.064, 28.414], [77.064, 28.419], [77.065, 28.412], [77.065, 28.480999999999998], [77.065, 28.416999999999998], [77.067, 28.454], [77.067, 28.443], [77.071, 28.487], [77.074, 28.480999999999998], [77.075, 28.482], [77.075, 28.480999999999998], [77.075, 28.48], [77.075, 28.482], [77.07600000000001, 28.482], [77.07600000000001, 28.480999999999998], [77.07600000000001, 28.48], [77.07600000000001, 28.467], [77.07600000000001, 28.483], [77.07600000000001, 28.468000000000004], [77.07600000000001, 28.480999999999998], [77.07600000000001, 28.482], [77.07600000000001, 28.469], [77.07600000000001, 28.468000000000004], [77.077, 28.482], [77.077, 28.47], [77.077, 28.483], [77.077, 28.484], [77.077, 28.484], [77.077, 28.480999999999998], [77.077, 28.485], [77.077, 28.427], [77.078, 28.469], [77.078, 28.468000000000004], [77.078, 28.359], [77.078, 28.485], [77.078, 28.468000000000004], [77.078, 28.471], [77.079, 28.483], [77.079, 28.468000000000004], [77.079, 28.471], [77.079, 28.486], [77.079, 28.483], [77.079, 28.47], [77.079, 28.465], [77.079, 28.467], [77.079, 28.462], [77.079, 28.463], [77.079, 28.469], [77.079, 28.468000000000004], [77.079, 28.469], [77.079, 28.487], [77.079, 28.47], [77.079, 28.468000000000004], [77.079, 28.469], [77.079, 28.465], [77.079, 28.465999999999998], [77.079, 28.462], [77.079, 28.464000000000002], [77.079, 28.469], [77.079, 28.484], [77.079, 28.486], [77.079, 28.486], [77.079, 28.467], [77.08, 28.483], [77.08, 28.465], [77.08, 28.483], [77.08, 28.47], [77.08, 28.471], [77.08, 28.487], [77.08, 28.482], [77.08, 28.483], [77.08, 28.486], [77.08, 28.483], [77.08, 28.483], [77.08, 28.485], [77.08, 28.482], [77.081, 28.487], [77.081, 28.484], [77.081, 28.482], [77.081, 28.484], [77.081, 28.483], [77.081, 28.464000000000002], [77.081, 28.484], [77.081, 28.456], [77.081, 28.483], [77.081, 28.484], [77.081, 28.483], [77.081, 28.482], [77.081, 28.462], [77.081, 28.487], [77.081, 28.485], [77.081, 28.483], [77.081, 28.482], [77.082, 28.483], [77.082, 28.476], [77.082, 28.485], [77.082, 28.487], [77.082, 28.451], [77.082, 28.464000000000002], [77.082, 28.484], [77.082, 28.463], [77.082, 28.485], [77.082, 28.484], [77.082, 28.483], [77.082, 28.463], [77.082, 28.458000000000002], [77.082, 28.462], [77.082, 28.483], [77.082, 28.485], [77.083, 28.485], [77.083, 28.462], [77.083, 28.465999999999998], [77.083, 28.463], [77.083, 28.465], [77.083, 28.487], [77.084, 28.486], [77.084, 28.486], [77.084, 28.464000000000002], [77.084, 28.366999999999997], [77.084, 28.486], [77.084, 28.467], [77.084, 28.463], [77.084, 28.462], [77.084, 28.485], [77.085, 28.46], [77.085, 28.474], [77.085, 28.463], [77.085, 28.465999999999998], [77.085, 28.463], [77.085, 28.484], [77.085, 28.458000000000002], [77.085, 28.484], [77.085, 28.463], [77.085, 28.465999999999998], [77.085, 28.484], [77.086, 28.483], [77.086, 28.482], [77.086, 28.463], [77.086, 28.484], [77.086, 28.485], [77.087, 28.463], [77.087, 28.463], [77.087, 28.463], [77.087, 28.483], [77.087, 28.482], [77.087, 28.462], [77.087, 28.483], [77.087, 28.482], [77.087, 28.463], [77.08800000000001, 28.434], [77.08800000000001, 28.483], [77.08800000000001, 28.482], [77.089, 28.482], [77.089, 28.483], [77.089, 28.482], [77.089, 28.483], [77.09100000000001, 28.468000000000004], [77.09100000000001, 28.464000000000002], [77.09100000000001, 28.483], [77.092, 28.463], [77.092, 28.463], [77.092, 28.464000000000002], [77.092, 28.463], [77.092, 28.465999999999998], [77.092, 28.464000000000002], [77.093, 28.447], [77.094, 28.483], [77.096, 28.428], [77.1, 28.47], [77.11, 28.421], [77.11, 28.405], [77.11399999999999, 28.425], [77.137, 28.403000000000002]]}, 54: {'x': 77.42124786182262, 'y': 28.626566251897827, 'houses': []}, 55: {'x': 77.51257171436168, 'y': 28.638619771672214, 'houses': []}, 56: {'x': 77.03603973193981, 'y': 28.72927807072072, 'houses': []}, 57: {'x': 77.04043986272507, 'y': 28.69971471542673, 'houses': []}, 58: {'x': 77.09949137639694, 'y': 28.664776060113578, 'houses': [[77.102, 28.668000000000003], [77.104, 28.671999999999997], [77.109, 28.658]]}}\n"
     ]
    }
   ],
   "source": [
    "print(output_pipes)"
   ]
  },
  {
   "cell_type": "code",
   "execution_count": null,
   "metadata": {},
   "outputs": [],
   "source": []
  }
 ],
 "metadata": {
  "kernelspec": {
   "display_name": "Python 3",
   "language": "python",
   "name": "python3"
  },
  "language_info": {
   "codemirror_mode": {
    "name": "ipython",
    "version": 3
   },
   "file_extension": ".py",
   "mimetype": "text/x-python",
   "name": "python",
   "nbconvert_exporter": "python",
   "pygments_lexer": "ipython3",
   "version": "3.6.0"
  }
 },
 "nbformat": 4,
 "nbformat_minor": 2
}
