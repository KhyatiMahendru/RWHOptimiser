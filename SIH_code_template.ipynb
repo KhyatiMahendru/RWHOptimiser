{
 "cells": [
  {
   "cell_type": "markdown",
   "metadata": {},
   "source": [
    "# Bug fixes to do\n",
    "- To fix the rainfall and supply calculation code. \n",
    "\n",
    "I am assuming that the rainfall through the gauges will be for the entire past day\n",
    "\n",
    "- def updateDemandOfWater() --> this function has to be coded"
   ]
  },
  {
   "cell_type": "code",
   "execution_count": null,
   "metadata": {},
   "outputs": [],
   "source": []
  },
  {
   "cell_type": "code",
   "execution_count": 74,
   "metadata": {},
   "outputs": [],
   "source": [
    "import numpy as np\n",
    "import pandas as pd\n",
    "import pulp\n"
   ]
  },
  {
   "cell_type": "code",
   "execution_count": 75,
   "metadata": {},
   "outputs": [],
   "source": [
    "n=10\n",
    "m=5\n",
    "seti= range(n)\n",
    "setj = range(1,m)\n",
    "fcosts = {}\n",
    "fcosts['lambda'] = 10000 # per km for pipe\n",
    "fcosts['cost_of_tank'] = 1000 # per liters increase\n",
    "fcosts['stability_inc_cost'] = 10000\n",
    "beta = fcosts['stability_inc_cost']\n"
   ]
  },
  {
   "cell_type": "code",
   "execution_count": 76,
   "metadata": {},
   "outputs": [],
   "source": [
    "# house class\n",
    "class house:\n",
    "    def __init__(self):\n",
    "        self.lat = 0\n",
    "        self.lng = 0\n",
    "        self.height = 0\n",
    "        self.district = ''\n",
    "        self.city = ''\n",
    "        self.pincode = 0\n",
    "        self.demand = [] # may be average monthly demand\n",
    "        self.supply = 0\n",
    "        self.rooftopArea = 0.0 # meter square\n",
    "        self.catchmentArea = 0.0 # meter square \n",
    "        self.pipesToTank = {} # j: distance and cost\n",
    "        self.gague = None # gauge object that is affected by the rainfall\n",
    "        \n",
    "    def helperfunctions(self):\n",
    "        pass\n",
    "        \n",
    "    def calculateSupply(self):\n",
    "        if self.gague == None:\n",
    "            print(\"the gauge is not yet pointed\")\n",
    "            return\n",
    "        else:\n",
    "            rainfall = self.gauge.rainfallInMM\n",
    "            self.supply = rainfall*(self.catchmentArea + self.rooftopArea) # we do have to check this\n",
    "            \n",
    "class hub:\n",
    "    def __init__(self):\n",
    "        pass\n",
    "# tank class for storage\n",
    "class tank:\n",
    "    def __init__(self):\n",
    "        self.lat = 0\n",
    "        self.lng = 0\n",
    "        self.height = 0\n",
    "        self.district = ''\n",
    "        self.city = ''\n",
    "        self.pincode = 0\n",
    "        self.capacity = []\n",
    "        self.stability = 1\n",
    "        self.pipesToTank = {} # j: distance and cost\n",
    "        \n",
    "    def helperfunctions(self):\n",
    "        pass\n",
    "\n",
    "# gauge to calc rainfall   \n",
    "class gauge:\n",
    "    def __init__(self):\n",
    "        self.lat = 0\n",
    "        self.lng = 0\n",
    "        self.height = 0\n",
    "        self.district = 0\n",
    "        self.otherReadings = None # there may be other things assocated to a a gague\n",
    "        self.rainfallInMM = 0.0\n",
    "    def updateRainfall(rainfall):\n",
    "        self.rainfallInMM = rainfall\n",
    "        "
   ]
  },
  {
   "cell_type": "code",
   "execution_count": 77,
   "metadata": {},
   "outputs": [],
   "source": [
    "gauges = [gauge() for _ in range(3)] # say there are 2 gauges in the area\n",
    "houses = [house() for _ in range(n)]\n",
    "tanks = [tank() for _ in range(m)]\n",
    "\n"
   ]
  },
  {
   "cell_type": "code",
   "execution_count": 78,
   "metadata": {},
   "outputs": [],
   "source": [
    "# kmeans clustering of houses\n",
    "def clusterHousesAndCalculateWaterSupply(houses, gauges):\n",
    "    for h_idx in range(len(houses)):\n",
    "        # x, y,z for houses\n",
    "        x_h = houses[h_idx].lat\n",
    "        y_h = houses[h_idx].lng\n",
    "        z_h = houses[h_idx].height\n",
    "        \n",
    "        minDistance = np.inf\n",
    "        minDistanceGauge = 0\n",
    "        for g_idx in range(len(gauges)):\n",
    "            # x,y,z for gauges\n",
    "            x_g = gauses[g_idx].lat\n",
    "            y_g = gauges[g_idx].lng\n",
    "            z_g = gauges[g_idx].height\n",
    "            \n",
    "            # distance calculated from each gauge\n",
    "            distance= (x_h-x_g)**2 + (y_h-y_g)**2 + (z_h-z_g)**2\n",
    "            \n",
    "            # update distance\n",
    "            if(distance < minDistance):\n",
    "                minDistance = distance\n",
    "                minDistanceGauge = g_idx\n",
    "        \n",
    "        # rainfall evaluation to calculate supply of water from the rain the previous day\n",
    "        houses[h_idx].gauge = gauges[minDistanceGauge]\n",
    "        houses[h_idx].calculateSupply()\n",
    "        print('House objects now contain the supply of water')\n",
    "        \n",
    "def updateDemandOfWater_HOUSES(houses, waterDemandedArrayFromGoldmanSachs):\n",
    "    # This depends on the data \n",
    "    pass\n",
    "\n",
    "def updateLatLngHeight_HOUSES(houses, dataFromGodmanSachs):\n",
    "    # This depends on the data \n",
    "    pass\n",
    "\n",
    "def updateDistrictCityPinCode_HOUSES(houses, dataFromGoldmanSachs):\n",
    "    # This depends on the data \n",
    "    pass\n",
    "\n",
    "def updateDemandOfWater_TANKS(tanks, waterDemandedArrayFromGoldmanSachs):\n",
    "    # This depends on the data \n",
    "    pass\n",
    "\n",
    "def updateLatLngHeightHouses_TANKS(tanks, dataFromGodmanSachs):\n",
    "    # This depends on the data \n",
    "    pass\n",
    "\n",
    "def updateDistrictCityPinCode_TANKS(tanks, dataFromGoldmanSachs):\n",
    "    # This depends on the data \n",
    "    pass\n",
    "\n",
    "def updateStability_TANKS(tanks, datafromGoldmanSachs):\n",
    "    # this depends on the data\n",
    "    pass"
   ]
  },
  {
   "cell_type": "code",
   "execution_count": 79,
   "metadata": {},
   "outputs": [
    {
     "data": {
      "text/plain": [
       "False"
      ]
     },
     "execution_count": 79,
     "metadata": {},
     "output_type": "execute_result"
    }
   ],
   "source": [
    "10 in range(10)"
   ]
  },
  {
   "cell_type": "code",
   "execution_count": 80,
   "metadata": {},
   "outputs": [],
   "source": [
    "# known variables\n",
    "\n",
    "# supply i denotes supply of water on any given day from houses\n",
    "Si = {\n",
    "    i:houses[i].supply for i in seti\n",
    "}\n",
    "\n",
    "# Dij is distance from ith house to jth tank\n",
    "Dij = {\n",
    "    (i,j): (houses[i].lat - tanks[j].lat)**2 + (houses[i].lng - tanks[j].lng)**2 +(houses[i].height - tanks[j].height)**2 \n",
    "    for i in seti for j in setj\n",
    "    \n",
    "}\n",
    "\n",
    "# FCj is fixed cost of jth tank\n",
    "FCj = {\n",
    "    j: tanks[j].stability * beta + fcosts[\"cost_of_tank\"] for j in setj\n",
    "}"
   ]
  },
  {
   "cell_type": "code",
   "execution_count": 81,
   "metadata": {},
   "outputs": [],
   "source": [
    "import pulp as plp"
   ]
  },
  {
   "cell_type": "code",
   "execution_count": 82,
   "metadata": {},
   "outputs": [],
   "source": [
    "# decision variables\n",
    "\n",
    "# pipe from i to j\n",
    "Pij = {\n",
    "    (i,j): plp.LpVariable(\n",
    "        cat = plp.LpBinary,\n",
    "        name = \"P_{0}_{1}\".format(i,j)\n",
    "    ) for i in seti for j in setj\n",
    "}\n",
    "\n",
    "# # if there is a tank or not\n",
    "yj = {\n",
    "    j:plp.LpVariable(\n",
    "        cat = plp.LpBinary,\n",
    "        name = \"Y_{0}\".format(j)\n",
    "    ) for j in setj\n",
    "}\n",
    "\n",
    "# # storange capacity of tank j\n",
    "xj = {\n",
    "    j: plp.LpVariable(\n",
    "        cat = plp.LpContinuous,\n",
    "        lowBound = 0,\n",
    "        upBound = None, # no upper bound\n",
    "        name = \"x_{0}\".format(j)\n",
    "    ) for j in setj\n",
    "}"
   ]
  },
  {
   "cell_type": "code",
   "execution_count": 98,
   "metadata": {},
   "outputs": [],
   "source": [
    "# setting up the constraints\n",
    "\n",
    "list_constraint_2 = {\n",
    "    j : plp.LpConstraint(\n",
    "        e= plp.lpSum(Si[i]*Pij[i,j] for i in seti),\n",
    "        sense = plp.LpConstraintLE,\n",
    "        rhs = xj[j]\n",
    "    ) for j in setj\n",
    "}"
   ]
  },
  {
   "cell_type": "code",
   "execution_count": 101,
   "metadata": {},
   "outputs": [],
   "source": [
    "optimization_model = plp.LpProblem(name = \"MLIPP_GS_Problem\")"
   ]
  },
  {
   "cell_type": "code",
   "execution_count": 105,
   "metadata": {},
   "outputs": [
    {
     "ename": "TypeError",
     "evalue": "Non-constant expressions cannot be multiplied",
     "output_type": "error",
     "traceback": [
      "\u001b[0;31m---------------------------------------------------------------------------\u001b[0m",
      "\u001b[0;31mTypeError\u001b[0m                                 Traceback (most recent call last)",
      "\u001b[0;32m<ipython-input-105-62d63a9b7e26>\u001b[0m in \u001b[0;36m<module>\u001b[0;34m\u001b[0m\n\u001b[0;32m----> 1\u001b[0;31m \u001b[0mobjective\u001b[0m \u001b[0;34m=\u001b[0m \u001b[0mplp\u001b[0m\u001b[0;34m.\u001b[0m\u001b[0mlpSum\u001b[0m\u001b[0;34m(\u001b[0m\u001b[0mplp\u001b[0m\u001b[0;34m.\u001b[0m\u001b[0mlpSum\u001b[0m\u001b[0;34m(\u001b[0m\u001b[0;34m(\u001b[0m\u001b[0myj\u001b[0m\u001b[0;34m[\u001b[0m\u001b[0mj\u001b[0m\u001b[0;34m]\u001b[0m \u001b[0;34m*\u001b[0m \u001b[0;34m(\u001b[0m\u001b[0mFCj\u001b[0m\u001b[0;34m[\u001b[0m\u001b[0mj\u001b[0m\u001b[0;34m]\u001b[0m \u001b[0;34m+\u001b[0m \u001b[0mfcosts\u001b[0m\u001b[0;34m[\u001b[0m\u001b[0;34m\"cost_of_tank\"\u001b[0m\u001b[0;34m]\u001b[0m\u001b[0;34m*\u001b[0m\u001b[0mxj\u001b[0m\u001b[0;34m[\u001b[0m\u001b[0mj\u001b[0m\u001b[0;34m]\u001b[0m\u001b[0;34m)\u001b[0m\u001b[0;34m)\u001b[0m \u001b[0;32mfor\u001b[0m \u001b[0mj\u001b[0m \u001b[0;32min\u001b[0m \u001b[0msetj\u001b[0m\u001b[0;34m)\u001b[0m \u001b[0;34m+\u001b[0m \u001b[0mplp\u001b[0m\u001b[0;34m.\u001b[0m\u001b[0mlpSum\u001b[0m\u001b[0;34m(\u001b[0m\u001b[0myj\u001b[0m\u001b[0;34m[\u001b[0m\u001b[0mj\u001b[0m\u001b[0;34m]\u001b[0m \u001b[0;34m*\u001b[0m \u001b[0mDij\u001b[0m\u001b[0;34m[\u001b[0m\u001b[0mi\u001b[0m\u001b[0;34m]\u001b[0m\u001b[0;34m[\u001b[0m\u001b[0mj\u001b[0m\u001b[0;34m]\u001b[0m\u001b[0;34m*\u001b[0m\u001b[0mfcosts\u001b[0m\u001b[0;34m[\u001b[0m\u001b[0;34m\"lambda\"\u001b[0m\u001b[0;34m]\u001b[0m \u001b[0;32mfor\u001b[0m \u001b[0mi\u001b[0m \u001b[0;32min\u001b[0m \u001b[0mseti\u001b[0m \u001b[0;32mfor\u001b[0m \u001b[0mj\u001b[0m \u001b[0;32min\u001b[0m \u001b[0msetj\u001b[0m\u001b[0;34m)\u001b[0m\u001b[0;34m)\u001b[0m\u001b[0;34m\u001b[0m\u001b[0m\n\u001b[0m\u001b[1;32m      2\u001b[0m \u001b[0;34m\u001b[0m\u001b[0m\n",
      "\u001b[0;32m~/anaconda3/lib/python3.6/site-packages/pulp/pulp.py\u001b[0m in \u001b[0;36mlpSum\u001b[0;34m(vector)\u001b[0m\n\u001b[1;32m   1996\u001b[0m     \u001b[0;34m:\u001b[0m\u001b[0mparam\u001b[0m \u001b[0mvector\u001b[0m\u001b[0;34m:\u001b[0m \u001b[0mA\u001b[0m \u001b[0mlist\u001b[0m \u001b[0mof\u001b[0m \u001b[0mlinear\u001b[0m \u001b[0mexpressions\u001b[0m\u001b[0;34m\u001b[0m\u001b[0m\n\u001b[1;32m   1997\u001b[0m     \"\"\"\n\u001b[0;32m-> 1998\u001b[0;31m     \u001b[0;32mreturn\u001b[0m \u001b[0mLpAffineExpression\u001b[0m\u001b[0;34m(\u001b[0m\u001b[0;34m)\u001b[0m\u001b[0;34m.\u001b[0m\u001b[0maddInPlace\u001b[0m\u001b[0;34m(\u001b[0m\u001b[0mvector\u001b[0m\u001b[0;34m)\u001b[0m\u001b[0;34m\u001b[0m\u001b[0m\n\u001b[0m\u001b[1;32m   1999\u001b[0m \u001b[0;34m\u001b[0m\u001b[0m\n\u001b[1;32m   2000\u001b[0m \u001b[0;32mdef\u001b[0m \u001b[0mlpDot\u001b[0m\u001b[0;34m(\u001b[0m\u001b[0mv1\u001b[0m\u001b[0;34m,\u001b[0m \u001b[0mv2\u001b[0m\u001b[0;34m)\u001b[0m\u001b[0;34m:\u001b[0m\u001b[0;34m\u001b[0m\u001b[0m\n",
      "\u001b[0;32m~/anaconda3/lib/python3.6/site-packages/pulp/pulp.py\u001b[0m in \u001b[0;36maddInPlace\u001b[0;34m(self, other)\u001b[0m\n\u001b[1;32m    713\u001b[0m         elif (isinstance(other,list)\n\u001b[1;32m    714\u001b[0m               or isinstance(other, Iterable)):\n\u001b[0;32m--> 715\u001b[0;31m            \u001b[0;32mfor\u001b[0m \u001b[0me\u001b[0m \u001b[0;32min\u001b[0m \u001b[0mother\u001b[0m\u001b[0;34m:\u001b[0m\u001b[0;34m\u001b[0m\u001b[0m\n\u001b[0m\u001b[1;32m    716\u001b[0m                 \u001b[0mself\u001b[0m\u001b[0;34m.\u001b[0m\u001b[0maddInPlace\u001b[0m\u001b[0;34m(\u001b[0m\u001b[0me\u001b[0m\u001b[0;34m)\u001b[0m\u001b[0;34m\u001b[0m\u001b[0m\n\u001b[1;32m    717\u001b[0m         \u001b[0;32melse\u001b[0m\u001b[0;34m:\u001b[0m\u001b[0;34m\u001b[0m\u001b[0m\n",
      "\u001b[0;32m<ipython-input-105-62d63a9b7e26>\u001b[0m in \u001b[0;36m<genexpr>\u001b[0;34m(.0)\u001b[0m\n\u001b[0;32m----> 1\u001b[0;31m \u001b[0mobjective\u001b[0m \u001b[0;34m=\u001b[0m \u001b[0mplp\u001b[0m\u001b[0;34m.\u001b[0m\u001b[0mlpSum\u001b[0m\u001b[0;34m(\u001b[0m\u001b[0mplp\u001b[0m\u001b[0;34m.\u001b[0m\u001b[0mlpSum\u001b[0m\u001b[0;34m(\u001b[0m\u001b[0;34m(\u001b[0m\u001b[0myj\u001b[0m\u001b[0;34m[\u001b[0m\u001b[0mj\u001b[0m\u001b[0;34m]\u001b[0m \u001b[0;34m*\u001b[0m \u001b[0;34m(\u001b[0m\u001b[0mFCj\u001b[0m\u001b[0;34m[\u001b[0m\u001b[0mj\u001b[0m\u001b[0;34m]\u001b[0m \u001b[0;34m+\u001b[0m \u001b[0mfcosts\u001b[0m\u001b[0;34m[\u001b[0m\u001b[0;34m\"cost_of_tank\"\u001b[0m\u001b[0;34m]\u001b[0m\u001b[0;34m*\u001b[0m\u001b[0mxj\u001b[0m\u001b[0;34m[\u001b[0m\u001b[0mj\u001b[0m\u001b[0;34m]\u001b[0m\u001b[0;34m)\u001b[0m\u001b[0;34m)\u001b[0m \u001b[0;32mfor\u001b[0m \u001b[0mj\u001b[0m \u001b[0;32min\u001b[0m \u001b[0msetj\u001b[0m\u001b[0;34m)\u001b[0m \u001b[0;34m+\u001b[0m \u001b[0mplp\u001b[0m\u001b[0;34m.\u001b[0m\u001b[0mlpSum\u001b[0m\u001b[0;34m(\u001b[0m\u001b[0myj\u001b[0m\u001b[0;34m[\u001b[0m\u001b[0mj\u001b[0m\u001b[0;34m]\u001b[0m \u001b[0;34m*\u001b[0m \u001b[0mDij\u001b[0m\u001b[0;34m[\u001b[0m\u001b[0mi\u001b[0m\u001b[0;34m]\u001b[0m\u001b[0;34m[\u001b[0m\u001b[0mj\u001b[0m\u001b[0;34m]\u001b[0m\u001b[0;34m*\u001b[0m\u001b[0mfcosts\u001b[0m\u001b[0;34m[\u001b[0m\u001b[0;34m\"lambda\"\u001b[0m\u001b[0;34m]\u001b[0m \u001b[0;32mfor\u001b[0m \u001b[0mi\u001b[0m \u001b[0;32min\u001b[0m \u001b[0mseti\u001b[0m \u001b[0;32mfor\u001b[0m \u001b[0mj\u001b[0m \u001b[0;32min\u001b[0m \u001b[0msetj\u001b[0m\u001b[0;34m)\u001b[0m\u001b[0;34m)\u001b[0m\u001b[0;34m\u001b[0m\u001b[0m\n\u001b[0m\u001b[1;32m      2\u001b[0m \u001b[0;34m\u001b[0m\u001b[0m\n",
      "\u001b[0;32m~/anaconda3/lib/python3.6/site-packages/pulp/pulp.py\u001b[0m in \u001b[0;36m__mul__\u001b[0;34m(self, other)\u001b[0m\n\u001b[1;32m    208\u001b[0m \u001b[0;34m\u001b[0m\u001b[0m\n\u001b[1;32m    209\u001b[0m     \u001b[0;32mdef\u001b[0m \u001b[0m__mul__\u001b[0m\u001b[0;34m(\u001b[0m\u001b[0mself\u001b[0m\u001b[0;34m,\u001b[0m \u001b[0mother\u001b[0m\u001b[0;34m)\u001b[0m\u001b[0;34m:\u001b[0m\u001b[0;34m\u001b[0m\u001b[0m\n\u001b[0;32m--> 210\u001b[0;31m         \u001b[0;32mreturn\u001b[0m \u001b[0mLpAffineExpression\u001b[0m\u001b[0;34m(\u001b[0m\u001b[0mself\u001b[0m\u001b[0;34m)\u001b[0m \u001b[0;34m*\u001b[0m \u001b[0mother\u001b[0m\u001b[0;34m\u001b[0m\u001b[0m\n\u001b[0m\u001b[1;32m    211\u001b[0m \u001b[0;34m\u001b[0m\u001b[0m\n\u001b[1;32m    212\u001b[0m     \u001b[0;32mdef\u001b[0m \u001b[0m__rmul__\u001b[0m\u001b[0;34m(\u001b[0m\u001b[0mself\u001b[0m\u001b[0;34m,\u001b[0m \u001b[0mother\u001b[0m\u001b[0;34m)\u001b[0m\u001b[0;34m:\u001b[0m\u001b[0;34m\u001b[0m\u001b[0m\n",
      "\u001b[0;32m~/anaconda3/lib/python3.6/site-packages/pulp/pulp.py\u001b[0m in \u001b[0;36m__mul__\u001b[0;34m(self, other)\u001b[0m\n\u001b[1;32m    774\u001b[0m             \u001b[0;32mif\u001b[0m \u001b[0mlen\u001b[0m\u001b[0;34m(\u001b[0m\u001b[0mother\u001b[0m\u001b[0;34m)\u001b[0m\u001b[0;34m:\u001b[0m\u001b[0;34m\u001b[0m\u001b[0m\n\u001b[1;32m    775\u001b[0m                 \u001b[0;32mif\u001b[0m \u001b[0mlen\u001b[0m\u001b[0;34m(\u001b[0m\u001b[0mself\u001b[0m\u001b[0;34m)\u001b[0m\u001b[0;34m:\u001b[0m\u001b[0;34m\u001b[0m\u001b[0m\n\u001b[0;32m--> 776\u001b[0;31m                     \u001b[0;32mraise\u001b[0m \u001b[0mTypeError\u001b[0m\u001b[0;34m(\u001b[0m\u001b[0;34m\"Non-constant expressions cannot be multiplied\"\u001b[0m\u001b[0;34m)\u001b[0m\u001b[0;34m\u001b[0m\u001b[0m\n\u001b[0m\u001b[1;32m    777\u001b[0m                 \u001b[0;32melse\u001b[0m\u001b[0;34m:\u001b[0m\u001b[0;34m\u001b[0m\u001b[0m\n\u001b[1;32m    778\u001b[0m                     \u001b[0mc\u001b[0m \u001b[0;34m=\u001b[0m \u001b[0mself\u001b[0m\u001b[0;34m.\u001b[0m\u001b[0mconstant\u001b[0m\u001b[0;34m\u001b[0m\u001b[0m\n",
      "\u001b[0;31mTypeError\u001b[0m: Non-constant expressions cannot be multiplied"
     ]
    }
   ],
   "source": [
    "objective = plp.lpSum(\n",
    "    plp.lpSum((yj[j] * (FCj[j] + fcosts[\"cost_of_tank\"]*xj[j])) for j in setj) + plp.lpSum(yj[j] * Dij[i][j]*fcosts[\"lambda\"] for i in seti for j in setj))\n",
    "                "
   ]
  },
  {
   "cell_type": "code",
   "execution_count": 100,
   "metadata": {},
   "outputs": [
    {
     "ename": "NameError",
     "evalue": "name 'objective' is not defined",
     "output_type": "error",
     "traceback": [
      "\u001b[0;31m---------------------------------------------------------------------------\u001b[0m",
      "\u001b[0;31mNameError\u001b[0m                                 Traceback (most recent call last)",
      "\u001b[0;32m<ipython-input-100-27336a79658d>\u001b[0m in \u001b[0;36m<module>\u001b[0;34m\u001b[0m\n\u001b[1;32m      1\u001b[0m \u001b[0moptimization_model\u001b[0m\u001b[0;34m.\u001b[0m\u001b[0msense\u001b[0m \u001b[0;34m=\u001b[0m \u001b[0mplp\u001b[0m\u001b[0;34m.\u001b[0m\u001b[0mLpMinimize\u001b[0m\u001b[0;34m\u001b[0m\u001b[0m\n\u001b[0;32m----> 2\u001b[0;31m \u001b[0moptimization_model\u001b[0m\u001b[0;34m.\u001b[0m\u001b[0msetObjective\u001b[0m\u001b[0;34m(\u001b[0m\u001b[0mobjective\u001b[0m\u001b[0;34m)\u001b[0m\u001b[0;34m\u001b[0m\u001b[0m\n\u001b[0m\u001b[1;32m      3\u001b[0m \u001b[0moptimization_model\u001b[0m\u001b[0;34m.\u001b[0m\u001b[0msolve\u001b[0m\u001b[0;34m(\u001b[0m\u001b[0;34m)\u001b[0m\u001b[0;34m\u001b[0m\u001b[0m\n",
      "\u001b[0;31mNameError\u001b[0m: name 'objective' is not defined"
     ]
    }
   ],
   "source": [
    "optimization_model.sense = plp.LpMinimize\n",
    "optimization_model.setObjective(objective)\n",
    "optimization_model.solve()"
   ]
  },
  {
   "cell_type": "code",
   "execution_count": null,
   "metadata": {},
   "outputs": [],
   "source": []
  },
  {
   "cell_type": "code",
   "execution_count": null,
   "metadata": {},
   "outputs": [],
   "source": []
  },
  {
   "cell_type": "code",
   "execution_count": null,
   "metadata": {},
   "outputs": [],
   "source": []
  }
 ],
 "metadata": {
  "kernelspec": {
   "display_name": "Python 3",
   "language": "python",
   "name": "python3"
  },
  "language_info": {
   "codemirror_mode": {
    "name": "ipython",
    "version": 3
   },
   "file_extension": ".py",
   "mimetype": "text/x-python",
   "name": "python",
   "nbconvert_exporter": "python",
   "pygments_lexer": "ipython3",
   "version": "3.6.0"
  }
 },
 "nbformat": 4,
 "nbformat_minor": 2
}
