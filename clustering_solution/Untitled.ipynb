{
 "cells": [
  {
   "cell_type": "code",
   "execution_count": 2,
   "metadata": {},
   "outputs": [],
   "source": [
    "import pandas as pd\n",
    "import numpy as np\n",
    "import urllib"
   ]
  },
  {
   "cell_type": "code",
   "execution_count": 9,
   "metadata": {},
   "outputs": [],
   "source": [
    "tanks = pd.read_csv(\"tanks_loc.csv\")\n",
    "houses = pd.read_csv(\"data.csv\")"
   ]
  },
  {
   "cell_type": "code",
   "execution_count": 10,
   "metadata": {},
   "outputs": [
    {
     "data": {
      "text/html": [
       "<div>\n",
       "<style scoped>\n",
       "    .dataframe tbody tr th:only-of-type {\n",
       "        vertical-align: middle;\n",
       "    }\n",
       "\n",
       "    .dataframe tbody tr th {\n",
       "        vertical-align: top;\n",
       "    }\n",
       "\n",
       "    .dataframe thead th {\n",
       "        text-align: right;\n",
       "    }\n",
       "</style>\n",
       "<table border=\"1\" class=\"dataframe\">\n",
       "  <thead>\n",
       "    <tr style=\"text-align: right;\">\n",
       "      <th></th>\n",
       "      <th>house_data_x</th>\n",
       "      <th>house_data_y</th>\n",
       "      <th>demand_per_house_liters</th>\n",
       "      <th>area_per_house_metersq</th>\n",
       "      <th>capacity_for_tank_per_house_lt</th>\n",
       "      <th>rainfall_estimate_for_city_mm</th>\n",
       "      <th>average_length_of_pipe_per_house</th>\n",
       "      <th>fixed_cost_of_tank_placement_per_house</th>\n",
       "      <th>cost_per_liters_tank_per_house</th>\n",
       "    </tr>\n",
       "  </thead>\n",
       "  <tbody>\n",
       "    <tr>\n",
       "      <th>0</th>\n",
       "      <td>503.705</td>\n",
       "      <td>717.782</td>\n",
       "      <td>82.555</td>\n",
       "      <td>134.387</td>\n",
       "      <td>13.439</td>\n",
       "      <td>100</td>\n",
       "      <td>10.892</td>\n",
       "      <td>1000</td>\n",
       "      <td>500</td>\n",
       "    </tr>\n",
       "    <tr>\n",
       "      <th>1</th>\n",
       "      <td>-16.408</td>\n",
       "      <td>1218.144</td>\n",
       "      <td>149.185</td>\n",
       "      <td>136.867</td>\n",
       "      <td>13.687</td>\n",
       "      <td>100</td>\n",
       "      <td>-8.318</td>\n",
       "      <td>1000</td>\n",
       "      <td>500</td>\n",
       "    </tr>\n",
       "    <tr>\n",
       "      <th>2</th>\n",
       "      <td>234.719</td>\n",
       "      <td>878.906</td>\n",
       "      <td>129.046</td>\n",
       "      <td>43.958</td>\n",
       "      <td>4.396</td>\n",
       "      <td>100</td>\n",
       "      <td>-16.879</td>\n",
       "      <td>1000</td>\n",
       "      <td>500</td>\n",
       "    </tr>\n",
       "  </tbody>\n",
       "</table>\n",
       "</div>"
      ],
      "text/plain": [
       "   house_data_x  house_data_y  demand_per_house_liters  \\\n",
       "0       503.705       717.782                   82.555   \n",
       "1       -16.408      1218.144                  149.185   \n",
       "2       234.719       878.906                  129.046   \n",
       "\n",
       "   area_per_house_metersq  capacity_for_tank_per_house_lt  \\\n",
       "0                 134.387                          13.439   \n",
       "1                 136.867                          13.687   \n",
       "2                  43.958                           4.396   \n",
       "\n",
       "   rainfall_estimate_for_city_mm  average_length_of_pipe_per_house  \\\n",
       "0                            100                            10.892   \n",
       "1                            100                            -8.318   \n",
       "2                            100                           -16.879   \n",
       "\n",
       "   fixed_cost_of_tank_placement_per_house  cost_per_liters_tank_per_house  \n",
       "0                                    1000                             500  \n",
       "1                                    1000                             500  \n",
       "2                                    1000                             500  "
      ]
     },
     "execution_count": 10,
     "metadata": {},
     "output_type": "execute_result"
    }
   ],
   "source": [
    "houses.head(3)"
   ]
  },
  {
   "cell_type": "code",
   "execution_count": 11,
   "metadata": {},
   "outputs": [
    {
     "data": {
      "text/html": [
       "<div>\n",
       "<style scoped>\n",
       "    .dataframe tbody tr th:only-of-type {\n",
       "        vertical-align: middle;\n",
       "    }\n",
       "\n",
       "    .dataframe tbody tr th {\n",
       "        vertical-align: top;\n",
       "    }\n",
       "\n",
       "    .dataframe thead th {\n",
       "        text-align: right;\n",
       "    }\n",
       "</style>\n",
       "<table border=\"1\" class=\"dataframe\">\n",
       "  <thead>\n",
       "    <tr style=\"text-align: right;\">\n",
       "      <th></th>\n",
       "      <th>tanks_x</th>\n",
       "      <th>tanks_y</th>\n",
       "    </tr>\n",
       "  </thead>\n",
       "  <tbody>\n",
       "    <tr>\n",
       "      <th>0</th>\n",
       "      <td>658.352</td>\n",
       "      <td>613.397</td>\n",
       "    </tr>\n",
       "    <tr>\n",
       "      <th>1</th>\n",
       "      <td>42.195</td>\n",
       "      <td>146.886</td>\n",
       "    </tr>\n",
       "    <tr>\n",
       "      <th>2</th>\n",
       "      <td>518.215</td>\n",
       "      <td>603.465</td>\n",
       "    </tr>\n",
       "  </tbody>\n",
       "</table>\n",
       "</div>"
      ],
      "text/plain": [
       "   tanks_x  tanks_y\n",
       "0  658.352  613.397\n",
       "1   42.195  146.886\n",
       "2  518.215  603.465"
      ]
     },
     "execution_count": 11,
     "metadata": {},
     "output_type": "execute_result"
    }
   ],
   "source": [
    "tanks.head(3)"
   ]
  },
  {
   "cell_type": "code",
   "execution_count": 12,
   "metadata": {},
   "outputs": [],
   "source": [
    "NUM_TANKS = len(tanks)\n",
    "NUM_HOUSES = len(houses)"
   ]
  },
  {
   "cell_type": "code",
   "execution_count": 13,
   "metadata": {},
   "outputs": [
    {
     "data": {
      "text/plain": [
       "(50, 200)"
      ]
     },
     "execution_count": 13,
     "metadata": {},
     "output_type": "execute_result"
    }
   ],
   "source": [
    "NUM_TANKS, NUM_HOUSES"
   ]
  },
  {
   "cell_type": "code",
   "execution_count": 15,
   "metadata": {},
   "outputs": [],
   "source": [
    "# FOR EVERY HOUSE AND TANK, ASSIGN EVERY HOUSE A NEAREST TANK BASED ON THE CLUSTER\n",
    "for i in range(len(houses)):\n",
    "    hx, hy = houses.house_data_x.iloc[i],houses.house_data_y.iloc[i]\n",
    "    for j in range(len(tanks)):\n",
    "        tx, ty = tanks.tanks_x.iloc[j], tanks.tanks_y.iloc[j]\n",
    "        cost = np.sqrt( (ty- hy)**2)"
   ]
  },
  {
   "cell_type": "code",
   "execution_count": null,
   "metadata": {},
   "outputs": [],
   "source": [
    "# ASSUMING THE DATA FOR CIJ\n"
   ]
  }
 ],
 "metadata": {
  "kernelspec": {
   "display_name": "Python 3",
   "language": "python",
   "name": "python3"
  },
  "language_info": {
   "codemirror_mode": {
    "name": "ipython",
    "version": 3
   },
   "file_extension": ".py",
   "mimetype": "text/x-python",
   "name": "python",
   "nbconvert_exporter": "python",
   "pygments_lexer": "ipython3",
   "version": "3.6.0"
  }
 },
 "nbformat": 4,
 "nbformat_minor": 2
}
