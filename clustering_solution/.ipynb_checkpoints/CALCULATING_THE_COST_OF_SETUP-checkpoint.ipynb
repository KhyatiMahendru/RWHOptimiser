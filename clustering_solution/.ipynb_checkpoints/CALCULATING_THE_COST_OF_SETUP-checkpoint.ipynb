{
 "cells": [
  {
   "cell_type": "code",
   "execution_count": 63,
   "metadata": {},
   "outputs": [],
   "source": [
    "import pandas as pd\n",
    "import numpy as np\n",
    "import urllib"
   ]
  },
  {
   "cell_type": "code",
   "execution_count": 64,
   "metadata": {},
   "outputs": [],
   "source": [
    "tanks = pd.read_csv(\"tanks_loc.csv\")\n",
    "houses = pd.read_csv(\"data.csv\")"
   ]
  },
  {
   "cell_type": "code",
   "execution_count": 65,
   "metadata": {},
   "outputs": [
    {
     "data": {
      "text/html": [
       "<div>\n",
       "<style scoped>\n",
       "    .dataframe tbody tr th:only-of-type {\n",
       "        vertical-align: middle;\n",
       "    }\n",
       "\n",
       "    .dataframe tbody tr th {\n",
       "        vertical-align: top;\n",
       "    }\n",
       "\n",
       "    .dataframe thead th {\n",
       "        text-align: right;\n",
       "    }\n",
       "</style>\n",
       "<table border=\"1\" class=\"dataframe\">\n",
       "  <thead>\n",
       "    <tr style=\"text-align: right;\">\n",
       "      <th></th>\n",
       "      <th>house_data_x</th>\n",
       "      <th>house_data_y</th>\n",
       "      <th>demand_per_house_liters</th>\n",
       "      <th>area_per_house_metersq</th>\n",
       "      <th>capacity_for_tank_per_house_lt</th>\n",
       "      <th>rainfall_estimate_for_city_mm</th>\n",
       "      <th>average_length_of_pipe_per_house</th>\n",
       "      <th>fixed_cost_of_tank_placement_per_house</th>\n",
       "      <th>cost_per_liters_tank_per_house</th>\n",
       "    </tr>\n",
       "  </thead>\n",
       "  <tbody>\n",
       "    <tr>\n",
       "      <th>0</th>\n",
       "      <td>503.705</td>\n",
       "      <td>717.782</td>\n",
       "      <td>82.555</td>\n",
       "      <td>134.387</td>\n",
       "      <td>13.439</td>\n",
       "      <td>100</td>\n",
       "      <td>10.892</td>\n",
       "      <td>1000</td>\n",
       "      <td>500</td>\n",
       "    </tr>\n",
       "    <tr>\n",
       "      <th>1</th>\n",
       "      <td>-16.408</td>\n",
       "      <td>1218.144</td>\n",
       "      <td>149.185</td>\n",
       "      <td>136.867</td>\n",
       "      <td>13.687</td>\n",
       "      <td>100</td>\n",
       "      <td>-8.318</td>\n",
       "      <td>1000</td>\n",
       "      <td>500</td>\n",
       "    </tr>\n",
       "    <tr>\n",
       "      <th>2</th>\n",
       "      <td>234.719</td>\n",
       "      <td>878.906</td>\n",
       "      <td>129.046</td>\n",
       "      <td>43.958</td>\n",
       "      <td>4.396</td>\n",
       "      <td>100</td>\n",
       "      <td>-16.879</td>\n",
       "      <td>1000</td>\n",
       "      <td>500</td>\n",
       "    </tr>\n",
       "  </tbody>\n",
       "</table>\n",
       "</div>"
      ],
      "text/plain": [
       "   house_data_x  house_data_y  demand_per_house_liters  \\\n",
       "0       503.705       717.782                   82.555   \n",
       "1       -16.408      1218.144                  149.185   \n",
       "2       234.719       878.906                  129.046   \n",
       "\n",
       "   area_per_house_metersq  capacity_for_tank_per_house_lt  \\\n",
       "0                 134.387                          13.439   \n",
       "1                 136.867                          13.687   \n",
       "2                  43.958                           4.396   \n",
       "\n",
       "   rainfall_estimate_for_city_mm  average_length_of_pipe_per_house  \\\n",
       "0                            100                            10.892   \n",
       "1                            100                            -8.318   \n",
       "2                            100                           -16.879   \n",
       "\n",
       "   fixed_cost_of_tank_placement_per_house  cost_per_liters_tank_per_house  \n",
       "0                                    1000                             500  \n",
       "1                                    1000                             500  \n",
       "2                                    1000                             500  "
      ]
     },
     "execution_count": 65,
     "metadata": {},
     "output_type": "execute_result"
    }
   ],
   "source": [
    "houses.head(3) # TODO"
   ]
  },
  {
   "cell_type": "code",
   "execution_count": 66,
   "metadata": {},
   "outputs": [
    {
     "data": {
      "text/html": [
       "<div>\n",
       "<style scoped>\n",
       "    .dataframe tbody tr th:only-of-type {\n",
       "        vertical-align: middle;\n",
       "    }\n",
       "\n",
       "    .dataframe tbody tr th {\n",
       "        vertical-align: top;\n",
       "    }\n",
       "\n",
       "    .dataframe thead th {\n",
       "        text-align: right;\n",
       "    }\n",
       "</style>\n",
       "<table border=\"1\" class=\"dataframe\">\n",
       "  <thead>\n",
       "    <tr style=\"text-align: right;\">\n",
       "      <th></th>\n",
       "      <th>tanks_x</th>\n",
       "      <th>tanks_y</th>\n",
       "    </tr>\n",
       "  </thead>\n",
       "  <tbody>\n",
       "    <tr>\n",
       "      <th>0</th>\n",
       "      <td>658.352</td>\n",
       "      <td>613.397</td>\n",
       "    </tr>\n",
       "    <tr>\n",
       "      <th>1</th>\n",
       "      <td>42.195</td>\n",
       "      <td>146.886</td>\n",
       "    </tr>\n",
       "    <tr>\n",
       "      <th>2</th>\n",
       "      <td>518.215</td>\n",
       "      <td>603.465</td>\n",
       "    </tr>\n",
       "  </tbody>\n",
       "</table>\n",
       "</div>"
      ],
      "text/plain": [
       "   tanks_x  tanks_y\n",
       "0  658.352  613.397\n",
       "1   42.195  146.886\n",
       "2  518.215  603.465"
      ]
     },
     "execution_count": 66,
     "metadata": {},
     "output_type": "execute_result"
    }
   ],
   "source": [
    "tanks.head(3) # TODO"
   ]
  },
  {
   "cell_type": "code",
   "execution_count": 67,
   "metadata": {},
   "outputs": [],
   "source": [
    "NUM_TANKS = len(tanks)\n",
    "NUM_HOUSES = len(houses)"
   ]
  },
  {
   "cell_type": "code",
   "execution_count": 68,
   "metadata": {},
   "outputs": [
    {
     "data": {
      "text/plain": [
       "(50, 200)"
      ]
     },
     "execution_count": 68,
     "metadata": {},
     "output_type": "execute_result"
    }
   ],
   "source": [
    "NUM_TANKS, NUM_HOUSES # TODO"
   ]
  },
  {
   "cell_type": "code",
   "execution_count": 69,
   "metadata": {},
   "outputs": [
    {
     "data": {
      "text/plain": [
       "[[58, 60, 81, 88, 108],\n",
       " [102, 116, 131, 141, 150, 172],\n",
       " [9],\n",
       " [19, 149, 167],\n",
       " [],\n",
       " [],\n",
       " [],\n",
       " [16, 25, 73, 90, 127],\n",
       " [68],\n",
       " [13, 26, 28, 57, 138]]"
      ]
     },
     "execution_count": 69,
     "metadata": {},
     "output_type": "execute_result"
    }
   ],
   "source": [
    "# FOR EVERY HOUSE AND TANK, ASSIGN EVERY HOUSE A NEAREST TANK BASED ON THE CLUSTER\n",
    "\n",
    "# CREATING 2D ARRAY OF TANKS\n",
    "tanks_houses = [[] for j in range(NUM_TANKS)]\n",
    "\n",
    "for i in range(len(houses)):\n",
    "    # LOC OF HOUSE\n",
    "    hx, hy = houses.house_data_x.iloc[i],houses.house_data_y.iloc[i]\n",
    "    min_dist_from_house_to_tank = np.inf\n",
    "    min_dist_tank = None\n",
    "    \n",
    "    for j in range(len(tanks)):\n",
    "        # LOC OF TANKS\n",
    "        tx, ty = tanks.tanks_x.iloc[j], tanks.tanks_y.iloc[j]\n",
    "        \n",
    "        # DIST ~ APPROX\n",
    "        dist = np.sqrt( (ty- hy)**2 + (tx- hx)**2)\n",
    "        \n",
    "        if dist<min_dist_from_house_to_tank:\n",
    "            min_dist_from_house_to_tank = dist\n",
    "            min_dist_tank = j\n",
    "            \n",
    "    tanks_houses[min_dist_tank].append(i) # appending the house\n",
    "    \n",
    "tanks_houses[:10] # TODO"
   ]
  },
  {
   "cell_type": "code",
   "execution_count": 70,
   "metadata": {},
   "outputs": [
    {
     "data": {
      "text/plain": [
       "50"
      ]
     },
     "execution_count": 70,
     "metadata": {},
     "output_type": "execute_result"
    }
   ],
   "source": [
    "len(tanks_houses) # TODO \n",
    "# COMMENT OUT THIS LINE"
   ]
  },
  {
   "cell_type": "code",
   "execution_count": 71,
   "metadata": {},
   "outputs": [
    {
     "data": {
      "text/plain": [
       "('capacity of jth tank', [395, 812, 9, 335, 0.0, 0.0, 0.0, 331, 68, 262])"
      ]
     },
     "execution_count": 71,
     "metadata": {},
     "output_type": "execute_result"
    }
   ],
   "source": [
    "# ASSUMING THE DATA FOR CIJ\n",
    "def calculate_capacity_of_tanks(tanks_houses):\n",
    "    capacity_of_jth_tank = []\n",
    "    for j in range(len(tanks_houses)):\n",
    "        houses_tank = tanks_houses[j]\n",
    "        capacity = np.sum(houses_tank)\n",
    "        capacity_of_jth_tank.append(capacity)\n",
    "    return capacity_of_jth_tank\n",
    "capacity_of_jth_tank= calculate_capacity_of_tanks(tanks_houses)\n",
    "'capacity of jth tank',capacity_of_jth_tank[:10] # TODO"
   ]
  },
  {
   "cell_type": "code",
   "execution_count": 72,
   "metadata": {},
   "outputs": [
    {
     "name": "stdout",
     "output_type": "stream",
     "text": [
      "tanks with no capacity(no houses connected) are: [4, 5, 6, 12, 21, 23, 24, 29, 33, 37, 40, 44, 46]\n"
     ]
    }
   ],
   "source": [
    "print('tanks with no capacity(no houses connected) are:', [tank for tank in range(len(capacity_of_jth_tank)) if capacity_of_jth_tank[tank]==0])\n",
    "# TODO"
   ]
  },
  {
   "cell_type": "code",
   "execution_count": 82,
   "metadata": {},
   "outputs": [
    {
     "name": "stdout",
     "output_type": "stream",
     "text": [
      "(200, 50)\n"
     ]
    }
   ],
   "source": [
    "FIXED_COST_OF_PIPES_PER_METER = 100\n",
    "CIJ = [[0 for i in range(NUM_TANKS)] for j in range(NUM_HOUSES)]\n",
    "print(np.array(CIJ).shape) # TODO\n",
    "for i in range(NUM_HOUSES):\n",
    "    hx, hy = houses.house_data_x.iloc[i],houses.house_data_y.iloc[i]\n",
    "    for j in range(NUM_TANKS):\n",
    "        tx, ty = tanks.tanks_x.iloc[j], tanks.tanks_y.iloc[j]\n",
    "        dist = np.sqrt( (ty- hy)**2 + (tx- hx)**2)\n",
    "        \n",
    "        CIJ[i][j]= dist*FIXED_COST_OF_PIPES_PER_METER\n",
    "\n",
    "CIJ = np.array(CIJ)\n"
   ]
  },
  {
   "cell_type": "code",
   "execution_count": 86,
   "metadata": {},
   "outputs": [
    {
     "data": {
      "text/plain": [
       "[23967.876601147727,\n",
       " 43158.86721492848,\n",
       " 4277.120354185181,\n",
       " 11810.858597053124,\n",
       " 500,\n",
       " 500,\n",
       " 500,\n",
       " 23497.88452880658,\n",
       " 5736.397059047375,\n",
       " 25894.51528559896,\n",
       " 128410.71940849691,\n",
       " 16514.004673254036,\n",
       " 500,\n",
       " 4840.068046701576,\n",
       " 11163.269065628174,\n",
       " 28781.982728116534,\n",
       " 21533.593201368192,\n",
       " 47592.09412266749,\n",
       " 38379.358399644094,\n",
       " 12501.00934505094,\n",
       " 3230.6407617993227,\n",
       " 500,\n",
       " 55276.57901206816,\n",
       " 500,\n",
       " 500,\n",
       " 296214.467094478,\n",
       " 30459.3447607679,\n",
       " 101470.402705687,\n",
       " 21025.52190608487,\n",
       " 500,\n",
       " 16662.586741926192,\n",
       " 13092.546707643669,\n",
       " 12582.072615660296,\n",
       " 500,\n",
       " 40128.48756195127,\n",
       " 19510.0756017913,\n",
       " 94912.5590091082,\n",
       " 500,\n",
       " 4114.621208370247,\n",
       " 42816.51091547911,\n",
       " 500,\n",
       " 264073.9707724943,\n",
       " 112075.6741362034,\n",
       " 71168.06378548211,\n",
       " 500,\n",
       " 19193.271891371765,\n",
       " 500,\n",
       " 13398.048810027185,\n",
       " 112111.7955886975,\n",
       " 8674.793784323836]"
      ]
     },
     "execution_count": 86,
     "metadata": {},
     "output_type": "execute_result"
    }
   ],
   "source": [
    "cost_of_setting_jth_tank = []\n",
    "for j in range(len(tanks_houses)):\n",
    "    houses_linked_to_tank = tanks_houses[j]\n",
    "    cost = 0\n",
    "    if capacity_of_jth_tank[j] >=0: \n",
    "        cost = houses.cost_per_liters_tank_per_house[j]\n",
    "    for house_index in (houses_linked_to_tank):\n",
    "        cost += CIJ[house_index][j]\n",
    "        \n",
    "    cost_of_setting_jth_tank.append(cost)\n",
    "        \n",
    "cost_of_setting_jth_tank # TODO"
   ]
  },
  {
   "cell_type": "code",
   "execution_count": 99,
   "metadata": {},
   "outputs": [
    {
     "data": {
      "text/html": [
       "<div>\n",
       "<style scoped>\n",
       "    .dataframe tbody tr th:only-of-type {\n",
       "        vertical-align: middle;\n",
       "    }\n",
       "\n",
       "    .dataframe tbody tr th {\n",
       "        vertical-align: top;\n",
       "    }\n",
       "\n",
       "    .dataframe thead th {\n",
       "        text-align: right;\n",
       "    }\n",
       "</style>\n",
       "<table border=\"1\" class=\"dataframe\">\n",
       "  <thead>\n",
       "    <tr style=\"text-align: right;\">\n",
       "      <th></th>\n",
       "      <th>house_data_x</th>\n",
       "      <th>house_data_y</th>\n",
       "      <th>demand_per_house_liters</th>\n",
       "      <th>area_per_house_metersq</th>\n",
       "      <th>capacity_for_tank_per_house_lt</th>\n",
       "      <th>rainfall_estimate_for_city_mm</th>\n",
       "      <th>average_length_of_pipe_per_house</th>\n",
       "      <th>fixed_cost_of_tank_placement_per_house</th>\n",
       "      <th>cost_per_liters_tank_per_house</th>\n",
       "    </tr>\n",
       "  </thead>\n",
       "  <tbody>\n",
       "    <tr>\n",
       "      <th>0</th>\n",
       "      <td>503.705</td>\n",
       "      <td>717.782</td>\n",
       "      <td>82.555</td>\n",
       "      <td>134.387</td>\n",
       "      <td>13.439</td>\n",
       "      <td>100</td>\n",
       "      <td>10.892</td>\n",
       "      <td>1000</td>\n",
       "      <td>500</td>\n",
       "    </tr>\n",
       "    <tr>\n",
       "      <th>1</th>\n",
       "      <td>-16.408</td>\n",
       "      <td>1218.144</td>\n",
       "      <td>149.185</td>\n",
       "      <td>136.867</td>\n",
       "      <td>13.687</td>\n",
       "      <td>100</td>\n",
       "      <td>-8.318</td>\n",
       "      <td>1000</td>\n",
       "      <td>500</td>\n",
       "    </tr>\n",
       "    <tr>\n",
       "      <th>2</th>\n",
       "      <td>234.719</td>\n",
       "      <td>878.906</td>\n",
       "      <td>129.046</td>\n",
       "      <td>43.958</td>\n",
       "      <td>4.396</td>\n",
       "      <td>100</td>\n",
       "      <td>-16.879</td>\n",
       "      <td>1000</td>\n",
       "      <td>500</td>\n",
       "    </tr>\n",
       "    <tr>\n",
       "      <th>3</th>\n",
       "      <td>871.943</td>\n",
       "      <td>354.177</td>\n",
       "      <td>103.514</td>\n",
       "      <td>102.750</td>\n",
       "      <td>10.275</td>\n",
       "      <td>100</td>\n",
       "      <td>53.069</td>\n",
       "      <td>1000</td>\n",
       "      <td>500</td>\n",
       "    </tr>\n",
       "    <tr>\n",
       "      <th>4</th>\n",
       "      <td>87.194</td>\n",
       "      <td>332.712</td>\n",
       "      <td>138.877</td>\n",
       "      <td>228.421</td>\n",
       "      <td>22.842</td>\n",
       "      <td>100</td>\n",
       "      <td>-6.246</td>\n",
       "      <td>1000</td>\n",
       "      <td>500</td>\n",
       "    </tr>\n",
       "  </tbody>\n",
       "</table>\n",
       "</div>"
      ],
      "text/plain": [
       "   house_data_x  house_data_y  demand_per_house_liters  \\\n",
       "0       503.705       717.782                   82.555   \n",
       "1       -16.408      1218.144                  149.185   \n",
       "2       234.719       878.906                  129.046   \n",
       "3       871.943       354.177                  103.514   \n",
       "4        87.194       332.712                  138.877   \n",
       "\n",
       "   area_per_house_metersq  capacity_for_tank_per_house_lt  \\\n",
       "0                 134.387                          13.439   \n",
       "1                 136.867                          13.687   \n",
       "2                  43.958                           4.396   \n",
       "3                 102.750                          10.275   \n",
       "4                 228.421                          22.842   \n",
       "\n",
       "   rainfall_estimate_for_city_mm  average_length_of_pipe_per_house  \\\n",
       "0                            100                            10.892   \n",
       "1                            100                            -8.318   \n",
       "2                            100                           -16.879   \n",
       "3                            100                            53.069   \n",
       "4                            100                            -6.246   \n",
       "\n",
       "   fixed_cost_of_tank_placement_per_house  cost_per_liters_tank_per_house  \n",
       "0                                    1000                             500  \n",
       "1                                    1000                             500  \n",
       "2                                    1000                             500  \n",
       "3                                    1000                             500  \n",
       "4                                    1000                             500  "
      ]
     },
     "execution_count": 99,
     "metadata": {},
     "output_type": "execute_result"
    }
   ],
   "source": [
    "houses.head() # TODO"
   ]
  },
  {
   "cell_type": "code",
   "execution_count": 87,
   "metadata": {},
   "outputs": [],
   "source": [
    "# import sys\n",
    "\n",
    "# sys.argv[1]\n",
    "# sys.argv[2]  "
   ]
  },
  {
   "cell_type": "code",
   "execution_count": 114,
   "metadata": {},
   "outputs": [
    {
     "name": "stdout",
     "output_type": "stream",
     "text": [
      "[[395.0, 23967.876953125, 1.0, 658.3519897460938, 613.39697265625], [812.0, 43158.8671875, 1.0, 42.19499969482422, 146.88600158691406], [9.0, 4277.1201171875, 1.0, 518.2150268554688, 603.4650268554688], [335.0, 11810.8583984375, 1.0, 962.469970703125, 785.7230224609375], [0.0, 500.0, 1.0, 216.7480010986328, 148.16799926757812], [0.0, 500.0, 1.0, 773.6179809570312, 10.744000434875488], [0.0, 500.0, 1.0, 911.9249877929688, 86.68800354003906], [331.0, 23497.884765625, 1.0, 598.9869995117188, 845.7000122070312], [68.0, 5736.39697265625, 1.0, 84.1050033569336, 101.88899993896484], [262.0, 25894.515625, 1.0, 631.676025390625, 719.8629760742188], [1367.0, 128410.71875, 1.0, 10.300999641418457, 468.45001220703125], [243.0, 16514.00390625, 1.0, 793.8930053710938, 775.926025390625], [0.0, 500.0, 1.0, 393.260009765625, 8.118000030517578], [32.0, 4840.06787109375, 1.0, 617.7620239257812, 536.4420166015625], [305.0, 11163.26953125, 1.0, 421.9419860839844, 596.135986328125], [470.0, 28781.982421875, 1.0, 584.2420043945312, 481.2969970703125], [403.0, 21533.59375, 1.0, 549.3400268554688, 561.5540161132812], [1027.0, 47592.09375, 1.0, 771.6790161132812, 791.18798828125], [553.0, 38379.359375, 1.0, 21.73699951171875, 784.3469848632812], [14.0, 12501.009765625, 1.0, 243.08700561523438, 421.9840087890625], [46.0, 3230.640869140625, 1.0, 217.4810028076172, 308.30999755859375], [0.0, 500.0, 1.0, 398.2250061035156, 453.9410095214844], [569.0, 55276.578125, 1.0, 106.21700286865234, 294.1390075683594], [0.0, 500.0, 1.0, 456.7229919433594, 386.07598876953125], [0.0, 500.0, 1.0, 530.0070190429688, 69.01300048828125], [2177.0, 296214.46875, 1.0, 558.594970703125, 905.1810302734375], [762.0, 30459.345703125, 1.0, 738.9180297851562, 557.322998046875], [1494.0, 101470.40625, 1.0, 805.7050170898438, 379.8479919433594], [138.0, 21025.521484375, 1.0, 176.82000732421875, 612.39501953125], [0.0, 500.0, 1.0, 244.35000610351562, 273.24200439453125], [351.0, 16662.5859375, 1.0, 768.843017578125, 509.343994140625], [226.0, 13092.546875, 1.0, 174.6269989013672, 217.02499389648438], [269.0, 12582.072265625, 1.0, 734.052978515625, 650.1719970703125], [0.0, 500.0, 1.0, 898.5289916992188, 738.9229736328125], [157.0, 40128.48828125, 1.0, 284.97100830078125, 702.489990234375], [229.0, 19510.076171875, 1.0, 881.7030029296875, 881.781005859375], [538.0, 94912.5625, 1.0, 913.1480102539062, 144.93499755859375], [0.0, 500.0, 1.0, 249.71600341796875, 173.06199645996094], [54.0, 4114.62109375, 1.0, 816.3670043945312, 693.1519775390625], [441.0, 42816.51171875, 1.0, 557.9970092773438, 196.39100646972656], [0.0, 500.0, 1.0, 411.47100830078125, 690.447998046875], [2061.0, 264073.96875, 1.0, 32.01900100708008, 890.8090209960938], [1265.0, 112075.671875, 1.0, 704.0989990234375, 894.2750244140625], [781.0, 71168.0625, 1.0, 948.6729736328125, 515.4099731445312], [0.0, 500.0, 1.0, 300.9729919433594, 379.7080078125], [510.0, 19193.271484375, 1.0, 487.7300109863281, 605.0150146484375], [0.0, 500.0, 1.0, 273.9200134277344, 288.5710144042969], [226.0, 13398.048828125, 1.0, 512.5750122070312, 739.4920043945312], [795.0, 112111.796875, 1.0, 13.97599983215332, 901.5430297851562], [185.0, 8674.7939453125, 1.0, 649.7130126953125, 501.38299560546875]]\n"
     ]
    }
   ],
   "source": [
    "import numpy as np\n",
    "import codecs, json \n",
    "\n",
    "List = [{} for j in range(NUM_TANKS)]\n",
    "\n",
    "for j in range(NUM_TANKS):\n",
    "    List[j]['x'] = tanks['tanks_x'].iloc[j].astype('float32')\n",
    "    List[j]['y'] = tanks['tanks_y'].iloc[j].astype('float32')\n",
    "    List[j]['stability'] = 1.00\n",
    "    List[j]['capacity'] = capacity_of_jth_tank[j].astype('float32')\n",
    "    List[j]['cost_of_making'] = cost_of_setting_jth_tank[j].astype('float32')\n",
    "    \n",
    "temp = pd.DataFrame(List)\n",
    "temp.head()\n",
    "values = temp.values\n",
    "print(json.dumps(values.tolist())) # TODO \n",
    "# FINAL"
   ]
  }
 ],
 "metadata": {
  "kernelspec": {
   "display_name": "Python 3",
   "language": "python",
   "name": "python3"
  },
  "language_info": {
   "codemirror_mode": {
    "name": "ipython",
    "version": 3
   },
   "file_extension": ".py",
   "mimetype": "text/x-python",
   "name": "python",
   "nbconvert_exporter": "python",
   "pygments_lexer": "ipython3",
   "version": "3.6.0"
  }
 },
 "nbformat": 4,
 "nbformat_minor": 2
}
