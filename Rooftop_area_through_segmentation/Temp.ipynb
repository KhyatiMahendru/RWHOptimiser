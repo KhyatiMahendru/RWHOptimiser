{
 "cells": [
  {
   "cell_type": "code",
   "execution_count": 3,
   "metadata": {},
   "outputs": [
    {
     "name": "stdout",
     "output_type": "stream",
     "text": [
      "0 0 -29.441532311108986,-51.99833166599273\n"
     ]
    },
    {
     "ename": "AttributeError",
     "evalue": "module 'urllib' has no attribute 'urlencode'",
     "output_type": "error",
     "traceback": [
      "\u001b[0;31m---------------------------------------------------------------------------\u001b[0m",
      "\u001b[0;31mAttributeError\u001b[0m                            Traceback (most recent call last)",
      "\u001b[0;32m<ipython-input-3-15a8bf96a5e8>\u001b[0m in \u001b[0;36m<module>\u001b[0;34m\u001b[0m\n\u001b[1;32m     70\u001b[0m         \u001b[0mposition\u001b[0m \u001b[0;34m=\u001b[0m \u001b[0;34m','\u001b[0m\u001b[0;34m.\u001b[0m\u001b[0mjoin\u001b[0m\u001b[0;34m(\u001b[0m\u001b[0;34m(\u001b[0m\u001b[0mstr\u001b[0m\u001b[0;34m(\u001b[0m\u001b[0mlatn\u001b[0m\u001b[0;34m)\u001b[0m\u001b[0;34m,\u001b[0m \u001b[0mstr\u001b[0m\u001b[0;34m(\u001b[0m\u001b[0mlonn\u001b[0m\u001b[0;34m)\u001b[0m\u001b[0;34m)\u001b[0m\u001b[0;34m)\u001b[0m\u001b[0;34m\u001b[0m\u001b[0m\n\u001b[1;32m     71\u001b[0m         \u001b[0mprint\u001b[0m\u001b[0;34m(\u001b[0m \u001b[0mx\u001b[0m\u001b[0;34m,\u001b[0m \u001b[0my\u001b[0m\u001b[0;34m,\u001b[0m \u001b[0mposition\u001b[0m\u001b[0;34m)\u001b[0m\u001b[0;34m\u001b[0m\u001b[0m\n\u001b[0;32m---> 72\u001b[0;31m         urlparams = urllib.urlencode({'center': position,\n\u001b[0m\u001b[1;32m     73\u001b[0m                                       \u001b[0;34m'zoom'\u001b[0m\u001b[0;34m:\u001b[0m \u001b[0mstr\u001b[0m\u001b[0;34m(\u001b[0m\u001b[0mzoom\u001b[0m\u001b[0;34m)\u001b[0m\u001b[0;34m,\u001b[0m\u001b[0;34m\u001b[0m\u001b[0m\n\u001b[1;32m     74\u001b[0m                                       \u001b[0;34m'size'\u001b[0m\u001b[0;34m:\u001b[0m \u001b[0;34m'%dx%d'\u001b[0m \u001b[0;34m%\u001b[0m \u001b[0;34m(\u001b[0m\u001b[0mlargura\u001b[0m\u001b[0;34m,\u001b[0m \u001b[0malturaplus\u001b[0m\u001b[0;34m)\u001b[0m\u001b[0;34m,\u001b[0m\u001b[0;34m\u001b[0m\u001b[0m\n",
      "\u001b[0;31mAttributeError\u001b[0m: module 'urllib' has no attribute 'urlencode'"
     ]
    }
   ],
   "source": [
    "from  PIL import Image\n",
    "from io import StringIO\n",
    "import  urllib\n",
    "from math import log, exp, tan, atan, pi, ceil\n",
    "\n",
    "EARTH_RADIUS = 6378137\n",
    "EQUATOR_CIRCUMFERENCE = 2 * pi * EARTH_RADIUS\n",
    "INITIAL_RESOLUTION = EQUATOR_CIRCUMFERENCE / 256.0\n",
    "ORIGIN_SHIFT = EQUATOR_CIRCUMFERENCE / 2.0\n",
    "\n",
    "def latlontopixels(lat, lon, zoom):\n",
    "    mx = (lon * ORIGIN_SHIFT) / 180.0\n",
    "    my = log(tan((90 + lat) * pi/360.0))/(pi/180.0)\n",
    "    my = (my * ORIGIN_SHIFT) /180.0\n",
    "    res = INITIAL_RESOLUTION / (2**zoom)\n",
    "    px = (mx + ORIGIN_SHIFT) / res\n",
    "    py = (my + ORIGIN_SHIFT) / res\n",
    "    return px, py\n",
    "\n",
    "def pixelstolatlon(px, py, zoom):\n",
    "    res = INITIAL_RESOLUTION / (2**zoom)\n",
    "    mx = px * res - ORIGIN_SHIFT\n",
    "    my = py * res - ORIGIN_SHIFT\n",
    "    lat = (my / ORIGIN_SHIFT) * 180.0\n",
    "    lat = 180 / pi * (2*atan(exp(lat*pi/180.0)) - pi/2.0)\n",
    "    lon = (mx / ORIGIN_SHIFT) * 180.0\n",
    "    return lat, lon\n",
    "\n",
    "############################################\n",
    "\n",
    "# a neighbourhood in Lajeado, Brazil:\n",
    "\n",
    "upperleft =  '-29.44,-52.0'  \n",
    "lowerright = '-29.45,-51.98'\n",
    "\n",
    "zoom = 18   # be careful not to get too many images!\n",
    "\n",
    "############################################\n",
    "\n",
    "ullat, ullon = map(float, upperleft.split(','))\n",
    "lrlat, lrlon = map(float, lowerright.split(','))\n",
    "\n",
    "# Set some important parameters\n",
    "scale = 1\n",
    "maxsize = 640\n",
    "\n",
    "# convert all these coordinates to pixels\n",
    "ulx, uly = latlontopixels(ullat, ullon, zoom)\n",
    "lrx, lry = latlontopixels(lrlat, lrlon, zoom)\n",
    "\n",
    "# calculate total pixel dimensions of final image\n",
    "dx, dy = lrx - ulx, uly - lry\n",
    "\n",
    "# calculate rows and columns\n",
    "cols, rows = int(ceil(dx/maxsize)), int(ceil(dy/maxsize))\n",
    "\n",
    "# calculate pixel dimensions of each small image\n",
    "bottom = 120\n",
    "largura = int(ceil(dx/cols))\n",
    "altura = int(ceil(dy/rows))\n",
    "alturaplus = altura + bottom\n",
    "\n",
    "\n",
    "final = Image.new(\"RGB\", (int(dx), int(dy)))\n",
    "for x in range(cols):\n",
    "    for y in range(rows):\n",
    "        dxn = largura * (0.5 + x)\n",
    "        dyn = altura * (0.5 + y)\n",
    "        latn, lonn = pixelstolatlon(ulx + dxn, uly - dyn - bottom/2, zoom)\n",
    "        position = ','.join((str(latn), str(lonn)))\n",
    "        print( x, y, position)\n",
    "        urlparams = urllib.urlencode({'center': position,\n",
    "                                      'zoom': str(zoom),\n",
    "                                      'size': '%dx%d' % (largura, alturaplus),\n",
    "                                      'maptype': 'satellite',\n",
    "                                      'sensor': 'false',\n",
    "                                      'scale': scale})\n",
    "        url = 'http://maps.google.com/maps/api/staticmap?' + urlparams\n",
    "        f=urllib.urlopen(url)\n",
    "        im=Image.open(StringIO.StringIO(f.read()))\n",
    "        final.paste(im, (int(x*largura), int(y*altura)))\n",
    "final.show()"
   ]
  }
 ],
 "metadata": {
  "kernelspec": {
   "display_name": "Python 2",
   "language": "python",
   "name": "python2"
  },
  "language_info": {
   "codemirror_mode": {
    "name": "ipython",
    "version": 3
   },
   "file_extension": ".py",
   "mimetype": "text/x-python",
   "name": "python",
   "nbconvert_exporter": "python",
   "pygments_lexer": "ipython3",
   "version": "3.6.0"
  }
 },
 "nbformat": 4,
 "nbformat_minor": 2
}
