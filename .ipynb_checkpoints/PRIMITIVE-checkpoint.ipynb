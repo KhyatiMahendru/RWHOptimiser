{
 "cells": [
  {
   "cell_type": "code",
   "execution_count": 2,
   "metadata": {},
   "outputs": [],
   "source": [
    "#This program calculates the Naive cost of installing rainwater harvesting tanks in a city.\n",
    "#\n",
    "#Data collected: \n",
    "#rainfall data (CSV)\n",
    "#housing data (CSV)\n",
    "#return value:\n",
    "#overall cost of project in the city. (currency)\n"
   ]
  },
  {
   "cell_type": "code",
   "execution_count": 3,
   "metadata": {},
   "outputs": [],
   "source": [
    "import numpy as np                       #for array manipulations and pandas support\n",
    "import pandas as pd                      #for interacting with dataframe \n",
    "import math  "
   ]
  },
  {
   "cell_type": "code",
   "execution_count": 21,
   "metadata": {},
   "outputs": [
    {
     "data": {
      "text/html": [
       "<div>\n",
       "<style scoped>\n",
       "    .dataframe tbody tr th:only-of-type {\n",
       "        vertical-align: middle;\n",
       "    }\n",
       "\n",
       "    .dataframe tbody tr th {\n",
       "        vertical-align: top;\n",
       "    }\n",
       "\n",
       "    .dataframe thead th {\n",
       "        text-align: right;\n",
       "    }\n",
       "</style>\n",
       "<table border=\"1\" class=\"dataframe\">\n",
       "  <thead>\n",
       "    <tr style=\"text-align: right;\">\n",
       "      <th></th>\n",
       "      <th>house_data_x</th>\n",
       "      <th>house_data_y</th>\n",
       "      <th>demand_per_house_liters</th>\n",
       "      <th>area_per_house_metersq</th>\n",
       "      <th>capacity_for_tank_per_house_lt</th>\n",
       "      <th>rainfall_estimate_for_city_mm</th>\n",
       "      <th>average_length_of_pipe_per_house</th>\n",
       "      <th>fixed_cost_of_tank_placement_per_house</th>\n",
       "      <th>cost_per_liters_tank_per_house</th>\n",
       "    </tr>\n",
       "  </thead>\n",
       "  <tbody>\n",
       "    <tr>\n",
       "      <th>0</th>\n",
       "      <td>503.705</td>\n",
       "      <td>717.782</td>\n",
       "      <td>82.555</td>\n",
       "      <td>134.387</td>\n",
       "      <td>13.439</td>\n",
       "      <td>100</td>\n",
       "      <td>10.892</td>\n",
       "      <td>1000</td>\n",
       "      <td>500</td>\n",
       "    </tr>\n",
       "    <tr>\n",
       "      <th>1</th>\n",
       "      <td>-16.408</td>\n",
       "      <td>1218.144</td>\n",
       "      <td>149.185</td>\n",
       "      <td>136.867</td>\n",
       "      <td>13.687</td>\n",
       "      <td>100</td>\n",
       "      <td>-8.318</td>\n",
       "      <td>1000</td>\n",
       "      <td>500</td>\n",
       "    </tr>\n",
       "    <tr>\n",
       "      <th>2</th>\n",
       "      <td>234.719</td>\n",
       "      <td>878.906</td>\n",
       "      <td>129.046</td>\n",
       "      <td>43.958</td>\n",
       "      <td>4.396</td>\n",
       "      <td>100</td>\n",
       "      <td>-16.879</td>\n",
       "      <td>1000</td>\n",
       "      <td>500</td>\n",
       "    </tr>\n",
       "    <tr>\n",
       "      <th>3</th>\n",
       "      <td>871.943</td>\n",
       "      <td>354.177</td>\n",
       "      <td>103.514</td>\n",
       "      <td>102.750</td>\n",
       "      <td>10.275</td>\n",
       "      <td>100</td>\n",
       "      <td>53.069</td>\n",
       "      <td>1000</td>\n",
       "      <td>500</td>\n",
       "    </tr>\n",
       "    <tr>\n",
       "      <th>4</th>\n",
       "      <td>87.194</td>\n",
       "      <td>332.712</td>\n",
       "      <td>138.877</td>\n",
       "      <td>228.421</td>\n",
       "      <td>22.842</td>\n",
       "      <td>100</td>\n",
       "      <td>-6.246</td>\n",
       "      <td>1000</td>\n",
       "      <td>500</td>\n",
       "    </tr>\n",
       "  </tbody>\n",
       "</table>\n",
       "</div>"
      ],
      "text/plain": [
       "   house_data_x  house_data_y  demand_per_house_liters  \\\n",
       "0       503.705       717.782                   82.555   \n",
       "1       -16.408      1218.144                  149.185   \n",
       "2       234.719       878.906                  129.046   \n",
       "3       871.943       354.177                  103.514   \n",
       "4        87.194       332.712                  138.877   \n",
       "\n",
       "   area_per_house_metersq  capacity_for_tank_per_house_lt  \\\n",
       "0                 134.387                          13.439   \n",
       "1                 136.867                          13.687   \n",
       "2                  43.958                           4.396   \n",
       "3                 102.750                          10.275   \n",
       "4                 228.421                          22.842   \n",
       "\n",
       "   rainfall_estimate_for_city_mm  average_length_of_pipe_per_house  \\\n",
       "0                            100                            10.892   \n",
       "1                            100                            -8.318   \n",
       "2                            100                           -16.879   \n",
       "3                            100                            53.069   \n",
       "4                            100                            -6.246   \n",
       "\n",
       "   fixed_cost_of_tank_placement_per_house  cost_per_liters_tank_per_house  \n",
       "0                                    1000                             500  \n",
       "1                                    1000                             500  \n",
       "2                                    1000                             500  \n",
       "3                                    1000                             500  \n",
       "4                                    1000                             500  "
      ]
     },
     "execution_count": 21,
     "metadata": {},
     "output_type": "execute_result"
    }
   ],
   "source": [
    "# reading data\n",
    "\n",
    "data = pd.read_csv('data.csv')\n",
    "data.head()"
   ]
  },
  {
   "cell_type": "markdown",
   "metadata": {},
   "source": [
    "### Fixed costs assumed\n"
   ]
  },
  {
   "cell_type": "code",
   "execution_count": 24,
   "metadata": {},
   "outputs": [
    {
     "name": "stdout",
     "output_type": "stream",
     "text": [
      "columns data names\n",
      "house_data_x\n",
      "house_data_y\n",
      "demand_per_house_liters\n",
      "area_per_house_metersq\n",
      "capacity_for_tank_per_house_lt\n",
      "rainfall_estimate_for_city_mm\n",
      "average_length_of_pipe_per_house\n",
      "fixed_cost_of_tank_placement_per_house\n",
      "cost_per_liters_tank_per_house\n"
     ]
    }
   ],
   "source": [
    "FC_TANK_PLACEMENT = 1000 # Rs.\n",
    "FIXED_COST_PIPE_PER_METER = 120 # Rs.\n",
    "COST_PER_LITERS_TANK = 500 # Rs\n",
    "NUM_HOUSES = len(data)\n",
    "\n",
    "print(\"columns names in given data\")\n",
    "for x in (data.columns):\n",
    "    print(x)"
   ]
  },
  {
   "cell_type": "markdown",
   "metadata": {},
   "source": [
    "## Various costs calculation "
   ]
  },
  {
   "cell_type": "code",
   "execution_count": 35,
   "metadata": {},
   "outputs": [
    {
     "name": "stdout",
     "output_type": "stream",
     "text": [
      "average_cost_of_setup_per_house 1165728.0\n",
      "average_cost_of_setup_per_house 5828.639999999998\n"
     ]
    }
   ],
   "source": [
    "def calculate_cost_of_setup_per_house(data):\n",
    "    costs = data['fixed_cost_of_tank_placement_per_house'] + data['capacity_for_tank_per_house_lt']*data['cost_per_liters_tank_per_house']\n",
    "    return costs\n",
    "\n",
    "total_cost_of_setup = sum(calculate_cost_of_setup_per_house(data))\n",
    "print('average_cost_of_setup_per_house', average_cost_of_setup_per_house)\n",
    "\n",
    "average_cost_of_setup_per_house = sum(calculate_cost_of_setup_per_house(data)/NUM_HOUSES)\n",
    "print('average_cost_of_setup_per_house',average_cost_of_setup_per_house)"
   ]
  },
  {
   "cell_type": "code",
   "execution_count": null,
   "metadata": {},
   "outputs": [],
   "source": []
  }
 ],
 "metadata": {
  "kernelspec": {
   "display_name": "Python 3",
   "language": "python",
   "name": "python3"
  },
  "language_info": {
   "codemirror_mode": {
    "name": "ipython",
    "version": 3
   },
   "file_extension": ".py",
   "mimetype": "text/x-python",
   "name": "python",
   "nbconvert_exporter": "python",
   "pygments_lexer": "ipython3",
   "version": "3.6.0"
  }
 },
 "nbformat": 4,
 "nbformat_minor": 2
}
